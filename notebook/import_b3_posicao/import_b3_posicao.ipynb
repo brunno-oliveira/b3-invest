{
 "cells": [
  {
   "cell_type": "code",
   "execution_count": null,
   "metadata": {},
   "outputs": [],
   "source": [
    "import os\n",
    "import numpy as np\n",
    "\n",
    "import pandas as pd\n",
    "pd.set_option('display.float_format', '{:.2f}'.format)\n",
    "# import seaborn as sns\n",
    "# sns.set_theme(rc={'figure.figsize':(18,9)})\n",
    "import plotly.express as px\n",
    "pd.options.plotting.backend = \"plotly\""
   ]
  },
  {
   "attachments": {},
   "cell_type": "markdown",
   "metadata": {},
   "source": [
    "### Load B3 Setor"
   ]
  },
  {
   "cell_type": "code",
   "execution_count": null,
   "metadata": {},
   "outputs": [],
   "source": [
    "setorial_path = os.path.join(\"data\", \"b3_setorial.csv\")\n",
    "df_setorial = pd.read_csv(\n",
    "    setorial_path, sep=\";\", encoding=\"latin\"\n",
    ")"
   ]
  },
  {
   "cell_type": "code",
   "execution_count": null,
   "metadata": {},
   "outputs": [],
   "source": [
    "df_setorial.sample(n=5)"
   ]
  },
  {
   "attachments": {},
   "cell_type": "markdown",
   "metadata": {},
   "source": [
    "### Ações"
   ]
  },
  {
   "cell_type": "code",
   "execution_count": null,
   "metadata": {},
   "outputs": [],
   "source": [
    "df_tmp = pd.read_excel('data/posicao-2023-01-27.xlsx', sheet_name='Acoes')"
   ]
  },
  {
   "cell_type": "code",
   "execution_count": null,
   "metadata": {},
   "outputs": [],
   "source": [
    "df = df_tmp.copy()\n",
    "\n",
    "df.drop(columns=['Conta', 'Código ISIN / Distribuição', 'Escriturador', \n",
    "    'Quantidade Disponível', 'Quantidade Indisponível', \n",
    "    'Motivo', 'Preço de Fechamento'], inplace=True)\n",
    "\n",
    "df.rename(\n",
    "    columns={\n",
    "        'Produto' : 'des_produto',\n",
    "        'Instituição' : 'des_conta',\n",
    "        'Código de Negociação' : 'des_movimentacao',\n",
    "        'Código de Negociação' : 'cod_acao',\n",
    "        'Tipo' : 'tp_acao',\n",
    "        'Quantidade' : 'quantidade',\n",
    "        'Valor Atualizado' : 'vlr_total'\n",
    "    }, \n",
    "    inplace=True\n",
    ")\n",
    "\n",
    "df = df[(~df['des_produto'].isna()) & (~df['des_conta'].isna())]"
   ]
  },
  {
   "cell_type": "code",
   "execution_count": null,
   "metadata": {},
   "outputs": [],
   "source": [
    "df['des_produto'] = df['des_produto'].str.lstrip().str.rstrip()\n",
    "df['des_produto'] = df['des_produto'].str[7:]\n",
    "df['des_produto'] = df['des_produto'].str.replace('- TRANSMISSORA', 'TRANSMISSORA')\n",
    "df['vlr_total'] = df['vlr_total'].astype(np.float32)"
   ]
  },
  {
   "cell_type": "code",
   "execution_count": null,
   "metadata": {},
   "outputs": [],
   "source": [
    "# Merge Setor\n",
    "df['tmp_cod_acap'] = df['cod_acao'].str[0:4]\n",
    "df = pd.merge(df, df_setorial, left_on='tmp_cod_acap', right_on='codigo')"
   ]
  },
  {
   "cell_type": "code",
   "execution_count": null,
   "metadata": {},
   "outputs": [],
   "source": [
    "# Percentual da acao na carteira\n",
    "df['tmp_vlr_total'] = df['vlr_total'].sum()\n",
    "df['pct_vlr_total'] = (df['vlr_total'] / df['tmp_vlr_total']) * 100"
   ]
  },
  {
   "cell_type": "code",
   "execution_count": null,
   "metadata": {},
   "outputs": [],
   "source": [
    "df_setor = df[['setor','vlr_total']].groupby(['setor']).sum().reset_index().rename(columns={'vlr_total' : 'vlr_total_setor'})\n",
    "def_subsetor = df[['subsetor','vlr_total']].groupby(['subsetor']).sum().reset_index().rename(columns={'vlr_total' : 'vlr_total_subsetor'})\n",
    "df_segmento = df[['segmento','vlr_total']].groupby(['segmento']).sum().reset_index().rename(columns={'vlr_total' : 'vlr_total_segmento'})\n",
    "\n",
    "df = pd.merge(df, df_setor, on='setor')\n",
    "df = pd.merge(df, def_subsetor, on='subsetor')\n",
    "df = pd.merge(df, df_segmento, on='segmento')"
   ]
  },
  {
   "cell_type": "code",
   "execution_count": null,
   "metadata": {},
   "outputs": [],
   "source": [
    "# Percentual do setor/subsetor/segmento da carteira\n",
    "df['pct_vlr_total_setor'] = (df['vlr_total_setor'] / df['tmp_vlr_total']) * 100\n",
    "df['pct_vlr_total_subsetor'] = (df['vlr_total_subsetor'] / df['tmp_vlr_total']) * 100\n",
    "df['pct_vlr_total_segmento'] = (df['vlr_total_segmento'] / df['tmp_vlr_total']) * 100"
   ]
  },
  {
   "cell_type": "code",
   "execution_count": null,
   "metadata": {},
   "outputs": [],
   "source": [
    "columns = ['des_conta', 'cod_acao', 'des_produto', \n",
    "        'tp_acao', 'setor', 'subsetor', 'segmento',\n",
    "        'quantidade', 'vlr_total', 'pct_vlr_total',\n",
    "        'vlr_total_setor', 'pct_vlr_total_setor',\n",
    "        'vlr_total_subsetor', 'pct_vlr_total_subsetor',\n",
    "        'vlr_total_segmento', 'pct_vlr_total_segmento']\n",
    "        \n",
    "df = df[columns]"
   ]
  },
  {
   "cell_type": "code",
   "execution_count": null,
   "metadata": {},
   "outputs": [],
   "source": [
    "px.treemap(\n",
    "    df, \n",
    "    path=[\"setor\", \"subsetor\", \"segmento\", \"cod_acao\"], \n",
    "    values=\"pct_vlr_total\",\n",
    "    width=1000, height=800\n",
    "    )"
   ]
  },
  {
   "attachments": {},
   "cell_type": "markdown",
   "metadata": {},
   "source": [
    "### FII"
   ]
  },
  {
   "cell_type": "code",
   "execution_count": null,
   "metadata": {},
   "outputs": [],
   "source": [
    "df_tmp_fundos = pd.read_excel('data/posicao-2023-01-27.xlsx', sheet_name='Fundo de Investimento')"
   ]
  },
  {
   "cell_type": "code",
   "execution_count": null,
   "metadata": {},
   "outputs": [],
   "source": [
    "df_fundos = df_tmp_fundos.copy()"
   ]
  },
  {
   "cell_type": "code",
   "execution_count": null,
   "metadata": {},
   "outputs": [],
   "source": [
    "df_fundos.drop(columns=['Conta', 'Código ISIN / Distribuição', 'Administrador', \n",
    "    'Quantidade Disponível', 'Quantidade Indisponível', 'tp_acao'\n",
    "    'Motivo', 'Preço de Fechamento'], inplace=True)\n",
    "\n",
    "df_fundos.rename(\n",
    "    columns={\n",
    "        'Produto' : 'des_produto',\n",
    "        'Instituição' : 'des_conta',\n",
    "        'Código de Negociação' : 'des_movimentacao',\n",
    "        'Código de Negociação' : 'cod_acao',\n",
    "        'Tipo' : 'tp_acao',\n",
    "        'Quantidade' : 'quantidade',\n",
    "        'Valor Atualizado' : 'vlr_total'\n",
    "    }, \n",
    "    inplace=True\n",
    ")\n",
    "\n",
    "df_fundos = df_fundos[(~df_fundos['des_produto'].isna()) & (~df['des_conta'].isna())]"
   ]
  },
  {
   "cell_type": "code",
   "execution_count": null,
   "metadata": {},
   "outputs": [],
   "source": [
    "df_fundos['vlr_total'] = df_fundos['vlr_total'].astype(np.float32)\n",
    "\n",
    "# Percentual da acao na carteira\n",
    "df_fundos['tmp_vlr_total'] = df_fundos['vlr_total'].sum()\n",
    "df_fundos['pct_vlr_total'] = (df_fundos['vlr_total'] / df_fundos['tmp_vlr_total']) * 100"
   ]
  },
  {
   "cell_type": "code",
   "execution_count": null,
   "metadata": {},
   "outputs": [],
   "source": [
    "df_fundos"
   ]
  },
  {
   "cell_type": "code",
   "execution_count": null,
   "metadata": {},
   "outputs": [],
   "source": [
    "tp_fii = {\n",
    "    'BTLG11' : 'Tijolo',\n",
    "    'KNRI11' : 'Tijolo',\n",
    "    'XPML11' : 'Tijolo',\n",
    "    'KNCA11' : 'Papel',\n",
    "    'OUJP11' : 'Papel'\n",
    "}\n",
    "\n",
    "df_fundos['tp_fii'] = df_fundos['cod_acao'].map(tp_fii)"
   ]
  },
  {
   "cell_type": "code",
   "execution_count": null,
   "metadata": {},
   "outputs": [],
   "source": [
    "segmento = {\n",
    "    'BTLG11' : 'Logística',\n",
    "    'KNRI11' : 'Híbrido',\n",
    "    'XPML11' : 'Shoppings',\n",
    "    'KNCA11' : 'Títulos e Valores Mobiliários',\n",
    "    'OUJP11' : 'Títulos e Valores Mobiliários'\n",
    "}\n",
    "\n",
    "df_fundos['segmento'] = df_fundos['cod_acao'].map(segmento)"
   ]
  },
  {
   "cell_type": "code",
   "execution_count": null,
   "metadata": {},
   "outputs": [],
   "source": [
    "df_fundos"
   ]
  },
  {
   "cell_type": "code",
   "execution_count": null,
   "metadata": {},
   "outputs": [],
   "source": [
    "px.treemap(\n",
    "    df_fundos, \n",
    "    path=[\"tp_fii\", \"segmento\", \"cod_acao\"], \n",
    "    values=\"pct_vlr_total\",\n",
    "    width=1000, height=800\n",
    "    )"
   ]
  },
  {
   "attachments": {},
   "cell_type": "markdown",
   "metadata": {},
   "source": [
    "### Tesouro Direto"
   ]
  },
  {
   "cell_type": "code",
   "execution_count": null,
   "metadata": {},
   "outputs": [],
   "source": [
    "df_tmp_tesouro_direto = pd.read_excel('data/posicao-2023-01-27.xlsx', sheet_name='Tesouro Direto')"
   ]
  },
  {
   "cell_type": "code",
   "execution_count": null,
   "metadata": {},
   "outputs": [],
   "source": [
    "df_tesouro_direto = df_tmp_tesouro_direto.copy()\n",
    "\n",
    "df_tesouro_direto.drop(columns=['Instituição', 'Código ISIN', 'Quantidade Disponível', \n",
    "    'Quantidade Indisponível', 'Motivo', 'Valor Atualizado'], inplace=True)\n",
    "\n",
    "df_tesouro_direto.rename(\n",
    "    columns={\n",
    "        'Produto' : 'des_produto',\n",
    "        'Indexador' : 'indexador',\n",
    "        'Vencimento' : 'vencimento',\n",
    "        'Quantidade' : 'quantidade',\n",
    "        'Valor Aplicado' : 'vlr_aplicado',\n",
    "        'Valor bruto' : 'vlr_bruto',\n",
    "        'Valor líquido' : 'vlr_liquido'\n",
    "    }, \n",
    "    inplace=True\n",
    ")\n",
    "\n",
    "df_tesouro_direto = df_tesouro_direto[(~df_tesouro_direto['des_produto'].isna()) & (~df_tesouro_direto['indexador'].isna())]"
   ]
  },
  {
   "cell_type": "code",
   "execution_count": null,
   "metadata": {},
   "outputs": [],
   "source": [
    "# Percentual da acao na carteira\n",
    "df_tesouro_direto['tmp_vlr_liquido_total'] = df_tesouro_direto['vlr_liquido'].sum()\n",
    "df_tesouro_direto['pct_vlr_liquido_total'] = (df_tesouro_direto['vlr_liquido'] / df_tesouro_direto['tmp_vlr_liquido_total']) * 100"
   ]
  },
  {
   "cell_type": "code",
   "execution_count": null,
   "metadata": {},
   "outputs": [],
   "source": [
    "df_tesouro_direto"
   ]
  },
  {
   "cell_type": "code",
   "execution_count": null,
   "metadata": {},
   "outputs": [],
   "source": [
    "px.treemap(\n",
    "    df_tesouro_direto, \n",
    "    path=[\"indexador\", \"des_produto\"], \n",
    "    values=\"pct_vlr_liquido_total\",\n",
    "    width=1000, height=800\n",
    "    )"
   ]
  },
  {
   "cell_type": "code",
   "execution_count": null,
   "metadata": {},
   "outputs": [],
   "source": []
  }
 ],
 "metadata": {
  "kernelspec": {
   "display_name": "Python 3.7.9 64-bit",
   "language": "python",
   "name": "python3"
  },
  "language_info": {
   "codemirror_mode": {
    "name": "ipython",
    "version": 3
   },
   "file_extension": ".py",
   "mimetype": "text/x-python",
   "name": "python",
   "nbconvert_exporter": "python",
   "pygments_lexer": "ipython3",
   "version": "3.7.9"
  },
  "orig_nbformat": 4,
  "vscode": {
   "interpreter": {
    "hash": "3581cd6e7b8387b073d9d0e753ae4dad4f3c9c1cf6afad5b5fc8cbbfa24b6d55"
   }
  }
 },
 "nbformat": 4,
 "nbformat_minor": 2
}
