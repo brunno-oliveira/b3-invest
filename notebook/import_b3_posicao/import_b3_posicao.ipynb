{
 "cells": [
  {
   "cell_type": "code",
   "execution_count": null,
   "metadata": {},
   "outputs": [],
   "source": [
    "import os\n",
    "import tabula\n",
    "import numpy as np\n",
    "\n",
    "import pandas as pd\n",
    "pd.set_option('display.float_format', '{:.2f}'.format)\n",
    "\n",
    "import warnings\n",
    "warnings.simplefilter(action='ignore', category=FutureWarning)\n",
    "\n",
    "import plotly.express as px\n",
    "pd.options.plotting.backend = \"plotly\""
   ]
  },
  {
   "attachments": {},
   "cell_type": "markdown",
   "metadata": {},
   "source": [
    "### Load B3 Setor"
   ]
  },
  {
   "cell_type": "code",
   "execution_count": null,
   "metadata": {},
   "outputs": [],
   "source": [
    "setorial_path = os.path.join(\"data\", \"b3_setorial.csv\")\n",
    "df_setorial = pd.read_csv(\n",
    "    setorial_path, sep=\";\", encoding=\"latin\"\n",
    ")"
   ]
  },
  {
   "cell_type": "code",
   "execution_count": null,
   "metadata": {},
   "outputs": [],
   "source": [
    "df_setorial.sample(n=5)"
   ]
  },
  {
   "attachments": {},
   "cell_type": "markdown",
   "metadata": {},
   "source": [
    "### Ações"
   ]
  },
  {
   "cell_type": "code",
   "execution_count": null,
   "metadata": {},
   "outputs": [],
   "source": [
    "df_acoes = pd.read_excel('data/posicao-2023-01-27.xlsx', sheet_name='Acoes')"
   ]
  },
  {
   "cell_type": "code",
   "execution_count": null,
   "metadata": {},
   "outputs": [],
   "source": [
    "df_acoes.drop(columns=['Conta', 'Código ISIN / Distribuição', 'Escriturador', \n",
    "    'Quantidade Disponível', 'Quantidade Indisponível', \n",
    "    'Motivo', 'Preço de Fechamento'], inplace=True)\n",
    "\n",
    "df_acoes.rename(\n",
    "    columns={\n",
    "        'Produto' : 'des_produto',\n",
    "        'Instituição' : 'des_conta',\n",
    "        'Código de Negociação' : 'des_movimentacao',\n",
    "        'Código de Negociação' : 'cod_acao',\n",
    "        'Tipo' : 'tp_acao',\n",
    "        'Quantidade' : 'quantidade',\n",
    "        'Valor Atualizado' : 'vlr_total'\n",
    "    }, \n",
    "    inplace=True\n",
    ")\n",
    "\n",
    "df_acoes = df_acoes[(~df_acoes['des_produto'].isna()) & (~df_acoes['des_conta'].isna())]"
   ]
  },
  {
   "cell_type": "code",
   "execution_count": null,
   "metadata": {},
   "outputs": [],
   "source": [
    "df_acoes['des_produto'] = df_acoes['des_produto'].str.lstrip().str.rstrip()\n",
    "df_acoes['des_produto'] = df_acoes['des_produto'].str[7:]\n",
    "df_acoes['des_produto'] = df_acoes['des_produto'].str.replace('- TRANSMISSORA', 'TRANSMISSORA')\n",
    "df_acoes['vlr_total'] = df_acoes['vlr_total'].astype(np.float32)"
   ]
  },
  {
   "cell_type": "code",
   "execution_count": null,
   "metadata": {},
   "outputs": [],
   "source": [
    "# Merge Setor\n",
    "df_acoes['tmp_cod_acap'] = df_acoes['cod_acao'].str[0:4]\n",
    "df_acoes = pd.merge(df_acoes, df_setorial, left_on='tmp_cod_acap', right_on='codigo')"
   ]
  },
  {
   "cell_type": "code",
   "execution_count": null,
   "metadata": {},
   "outputs": [],
   "source": [
    "# Percentual da acao na carteira\n",
    "df_acoes['tmp_vlr_total'] = df_acoes['vlr_total'].sum()\n",
    "df_acoes['pct_vlr_total'] = (df_acoes['vlr_total'] / df_acoes['tmp_vlr_total']) * 100"
   ]
  },
  {
   "cell_type": "code",
   "execution_count": null,
   "metadata": {},
   "outputs": [],
   "source": [
    "df_group_setor = df_acoes[['setor','vlr_total']].groupby(['setor']).sum().reset_index().rename(columns={'vlr_total' : 'vlr_total_setor'})\n",
    "def_group_subsetor = df_acoes[['subsetor','vlr_total']].groupby(['subsetor']).sum().reset_index().rename(columns={'vlr_total' : 'vlr_total_subsetor'})\n",
    "df_group_segmento = df_acoes[['segmento','vlr_total']].groupby(['segmento']).sum().reset_index().rename(columns={'vlr_total' : 'vlr_total_segmento'})\n",
    "\n",
    "df_acoes = pd.merge(df_acoes, df_group_setor, on='setor')\n",
    "df_acoes = pd.merge(df_acoes, def_group_subsetor, on='subsetor')\n",
    "df_acoes = pd.merge(df_acoes, df_group_segmento, on='segmento')"
   ]
  },
  {
   "cell_type": "code",
   "execution_count": null,
   "metadata": {},
   "outputs": [],
   "source": [
    "# Percentual do setor/subsetor/segmento da carteira\n",
    "df_acoes['pct_vlr_total_setor'] = (df_acoes['vlr_total_setor'] / df_acoes['tmp_vlr_total']) * 100\n",
    "df_acoes['pct_vlr_total_subsetor'] = (df_acoes['vlr_total_subsetor'] / df_acoes['tmp_vlr_total']) * 100\n",
    "df_acoes['pct_vlr_total_segmento'] = (df_acoes['vlr_total_segmento'] / df_acoes['tmp_vlr_total']) * 100"
   ]
  },
  {
   "cell_type": "code",
   "execution_count": null,
   "metadata": {},
   "outputs": [],
   "source": [
    "columns = ['des_conta', 'cod_acao', 'des_produto', \n",
    "        'tp_acao', 'setor', 'subsetor', 'segmento',\n",
    "        'quantidade', 'vlr_total', 'pct_vlr_total',\n",
    "        'vlr_total_setor', 'pct_vlr_total_setor',\n",
    "        'vlr_total_subsetor', 'pct_vlr_total_subsetor',\n",
    "        'vlr_total_segmento', 'pct_vlr_total_segmento']\n",
    "        \n",
    "df_acoes = df_acoes[columns]"
   ]
  },
  {
   "cell_type": "code",
   "execution_count": null,
   "metadata": {},
   "outputs": [],
   "source": [
    "df_acoes"
   ]
  },
  {
   "cell_type": "code",
   "execution_count": null,
   "metadata": {},
   "outputs": [],
   "source": [
    "px.treemap(\n",
    "    df_acoes, \n",
    "    path=[\"setor\", \"subsetor\", \"segmento\", \"cod_acao\"], \n",
    "    values=\"pct_vlr_total\",\n",
    "    width=1000, height=800\n",
    "    )"
   ]
  },
  {
   "attachments": {},
   "cell_type": "markdown",
   "metadata": {},
   "source": [
    "### FII"
   ]
  },
  {
   "cell_type": "code",
   "execution_count": null,
   "metadata": {},
   "outputs": [],
   "source": [
    "df_fundos = pd.read_excel('data/posicao-2023-01-27.xlsx', sheet_name='Fundo de Investimento')"
   ]
  },
  {
   "cell_type": "code",
   "execution_count": null,
   "metadata": {},
   "outputs": [],
   "source": [
    "df_fundos"
   ]
  },
  {
   "cell_type": "code",
   "execution_count": null,
   "metadata": {},
   "outputs": [],
   "source": [
    "df_fundos.drop(\n",
    "    columns=[\n",
    "        'Conta', 'Código ISIN / Distribuição', 'Administrador', \n",
    "        'Quantidade Disponível', 'Quantidade Indisponível', \n",
    "        'Motivo', 'Preço de Fechamento', 'Tipo'\n",
    "    ], inplace=True\n",
    ")\n",
    "\n",
    "df_fundos.rename(\n",
    "    columns={\n",
    "        'Produto' : 'des_produto',\n",
    "        'Instituição' : 'des_conta',\n",
    "        'Código de Negociação' : 'des_movimentacao',\n",
    "        'Código de Negociação' : 'cod_acao',\n",
    "        'Quantidade' : 'quantidade',\n",
    "        'Valor Atualizado' : 'vlr_total'\n",
    "    }, \n",
    "    inplace=True\n",
    ")\n",
    "\n",
    "df_fundos = df_fundos[(~df_fundos['des_produto'].isna()) & (~df_fundos['des_conta'].isna())]"
   ]
  },
  {
   "cell_type": "code",
   "execution_count": null,
   "metadata": {},
   "outputs": [],
   "source": [
    "# create a dataframe\n",
    "marks = pd.DataFrame({'Name': ['Akhil', 'Sai', 'Rohit', 'Prasanth', 'Divya'],\n",
    "                      'Percentage': ['-', 65, 90, 79, 89],\n",
    "                      'Grade': ['-', 'C', 'O', 'B', 'A']})\n",
    " \n",
    "# Assign Absent if percentage is not specified\n",
    "marks[marks.Percentage == '-'].Grade = 'Ab'"
   ]
  },
  {
   "cell_type": "code",
   "execution_count": null,
   "metadata": {},
   "outputs": [],
   "source": [
    "df_fundos['vlr_total'] = df_fundos['vlr_total'].astype(np.float32)\n",
    "\n",
    "# Percentual da acao na carteira\n",
    "df_fundos['tmp_vlr_total'] = df_fundos.loc[:,'vlr_total'].sum()\n",
    "df_fundos['pct_vlr_total'] = (df_fundos.loc[:,'vlr_total'] / df_fundos.loc[:,'tmp_vlr_total']) * 100"
   ]
  },
  {
   "cell_type": "code",
   "execution_count": null,
   "metadata": {},
   "outputs": [],
   "source": [
    "df_fundos"
   ]
  },
  {
   "cell_type": "code",
   "execution_count": null,
   "metadata": {},
   "outputs": [],
   "source": [
    "tp_fii = {\n",
    "    'BTLG11' : 'Tijolo',\n",
    "    'KNRI11' : 'Tijolo',\n",
    "    'XPML11' : 'Tijolo',\n",
    "    'KNCA11' : 'Papel',\n",
    "    'OUJP11' : 'Papel'\n",
    "}\n",
    "\n",
    "df_fundos['tp_fii'] = df_fundos['cod_acao'].map(tp_fii)"
   ]
  },
  {
   "cell_type": "code",
   "execution_count": null,
   "metadata": {},
   "outputs": [],
   "source": [
    "segmento = {\n",
    "    'BTLG11' : 'Logística',\n",
    "    'KNRI11' : 'Híbrido',\n",
    "    'XPML11' : 'Shoppings',\n",
    "    'KNCA11' : 'Títulos e Valores Mobiliários',\n",
    "    'OUJP11' : 'Títulos e Valores Mobiliários'\n",
    "}\n",
    "\n",
    "df_fundos['segmento'] = df_fundos['cod_acao'].map(segmento)"
   ]
  },
  {
   "cell_type": "code",
   "execution_count": null,
   "metadata": {},
   "outputs": [],
   "source": [
    "df_fundos"
   ]
  },
  {
   "cell_type": "code",
   "execution_count": null,
   "metadata": {},
   "outputs": [],
   "source": [
    "px.treemap(\n",
    "    df_fundos, \n",
    "    path=[\"tp_fii\", \"segmento\", \"cod_acao\"], \n",
    "    values=\"pct_vlr_total\",\n",
    "    width=1000, height=800\n",
    "    )"
   ]
  },
  {
   "attachments": {},
   "cell_type": "markdown",
   "metadata": {},
   "source": [
    "### Tesouro Direto"
   ]
  },
  {
   "cell_type": "code",
   "execution_count": null,
   "metadata": {},
   "outputs": [],
   "source": [
    "df_tmp_tesouro_direto = pd.read_excel('data/posicao-2023-01-27.xlsx', sheet_name='Tesouro Direto')"
   ]
  },
  {
   "cell_type": "code",
   "execution_count": null,
   "metadata": {},
   "outputs": [],
   "source": [
    "df_tesouro_direto = df_tmp_tesouro_direto.copy()\n",
    "\n",
    "df_tesouro_direto.drop(columns=['Instituição', 'Código ISIN', 'Quantidade Disponível', \n",
    "    'Quantidade Indisponível', 'Motivo', 'Valor Atualizado'], inplace=True)\n",
    "\n",
    "df_tesouro_direto.rename(\n",
    "    columns={\n",
    "        'Produto' : 'des_produto',\n",
    "        'Indexador' : 'indexador',\n",
    "        'Vencimento' : 'vencimento',\n",
    "        'Quantidade' : 'quantidade',\n",
    "        'Valor Aplicado' : 'vlr_aplicado',\n",
    "        'Valor bruto' : 'vlr_bruto',\n",
    "        'Valor líquido' : 'vlr_liquido'\n",
    "    }, \n",
    "    inplace=True\n",
    ")\n",
    "\n",
    "df_tesouro_direto = df_tesouro_direto[(~df_tesouro_direto['des_produto'].isna()) & (~df_tesouro_direto['indexador'].isna())]"
   ]
  },
  {
   "cell_type": "code",
   "execution_count": null,
   "metadata": {},
   "outputs": [],
   "source": [
    "# Percentual da acao na carteira\n",
    "df_tesouro_direto['tmp_vlr_liquido_total'] = df_tesouro_direto['vlr_liquido'].sum()\n",
    "df_tesouro_direto['pct_vlr_liquido_total'] = (df_tesouro_direto['vlr_liquido'] / df_tesouro_direto['tmp_vlr_liquido_total']) * 100"
   ]
  },
  {
   "cell_type": "code",
   "execution_count": null,
   "metadata": {},
   "outputs": [],
   "source": [
    "df_tesouro_direto"
   ]
  },
  {
   "cell_type": "code",
   "execution_count": null,
   "metadata": {},
   "outputs": [],
   "source": [
    "px.treemap(\n",
    "    df_tesouro_direto, \n",
    "    path=[\"indexador\", \"des_produto\"], \n",
    "    values=\"pct_vlr_liquido_total\",\n",
    "    width=1000, height=800\n",
    "    )"
   ]
  },
  {
   "attachments": {},
   "cell_type": "markdown",
   "metadata": {},
   "source": [
    "## BANCO INTER"
   ]
  },
  {
   "attachments": {},
   "cell_type": "markdown",
   "metadata": {},
   "source": [
    "### Fundos de Investimentos"
   ]
  },
  {
   "cell_type": "code",
   "execution_count": null,
   "metadata": {},
   "outputs": [],
   "source": [
    "tables_fundos =  tabula.read_pdf('data/extrato-posicao-fundos.pdf')"
   ]
  },
  {
   "cell_type": "code",
   "execution_count": null,
   "metadata": {},
   "outputs": [],
   "source": [
    "novas_colunas =  [\"des_produto\", \"dt_cotacao\", \"qt_cota\",\n",
    "    \"vlr_cota\", \"vlr_aplicado\", \"vlr_bruto\", \"vlr_ir_previsto\",\n",
    "    \"vlr_iof_previsto\", \"vlr_liquido\"]\n",
    "\n",
    "des_produto = tables_fundos[2].columns[0]\n",
    "novos_valores = tables_fundos[2].iloc[1].values.tolist()\n",
    "novos_valores.insert(0, des_produto)"
   ]
  },
  {
   "cell_type": "code",
   "execution_count": null,
   "metadata": {},
   "outputs": [],
   "source": [
    "df_fundos = pd.DataFrame(columns=novas_colunas, data=[novos_valores])"
   ]
  },
  {
   "cell_type": "code",
   "execution_count": null,
   "metadata": {},
   "outputs": [],
   "source": [
    "novas_colunas =  [\"des_produto\", \"dt_cotacao\", \"qt_cota\",\n",
    "    \"vlr_cota\", \"vlr_aplicado\", \"vlr_bruto\", \"vlr_ir_previsto\",\n",
    "    \"vlr_iof_previsto\", \"vlr_liquido\"]\n",
    "\n",
    "des_produto = tables_fundos[3].columns[0]    \n",
    "novos_valores = tables_fundos[3].iloc[1].values.tolist()\n",
    "novos_valores.insert(0, des_produto)"
   ]
  },
  {
   "cell_type": "code",
   "execution_count": null,
   "metadata": {},
   "outputs": [],
   "source": [
    "df_fundos = df_fundos.append(pd.DataFrame(columns=novas_colunas, data=[novos_valores]))"
   ]
  },
  {
   "attachments": {},
   "cell_type": "markdown",
   "metadata": {},
   "source": [
    "#### Transformações"
   ]
  },
  {
   "cell_type": "code",
   "execution_count": null,
   "metadata": {},
   "outputs": [],
   "source": [
    "df_fundos['des_produto'] = df_fundos['des_produto'].str.lstrip().str.rstrip()\n",
    "df_fundos['dt_cotacao'] = pd.to_datetime(df_fundos['dt_cotacao'], format='%d/%m/%Y')\n",
    "df_fundos['qt_cota'] = df_fundos['qt_cota'].astype(np.float32)\n",
    "\n",
    "df_fundos['vlr_cota'] = df_fundos['vlr_cota'].str.replace('R\\$', '').str.replace('.','').str.replace(',','.')\n",
    "df_fundos['vlr_cota'] = df_fundos['vlr_cota'].astype(np.float32)\n",
    "\n",
    "df_fundos['vlr_aplicado'] = df_fundos['vlr_aplicado'].str.replace('R\\$', '').str.replace('.','').str.replace(',','.')\n",
    "df_fundos['vlr_aplicado'] = df_fundos['vlr_aplicado'].astype(np.float32)\n",
    "\n",
    "df_fundos['vlr_bruto'] = df_fundos['vlr_bruto'].str.replace('R\\$', '').str.replace('.','').str.replace(',','.')\n",
    "df_fundos['vlr_bruto'] = df_fundos['vlr_bruto'].astype(np.float32)\n",
    "\n",
    "df_fundos['vlr_ir_previsto'] = df_fundos['vlr_ir_previsto'].str.replace('R\\$', '').str.replace('.','').str.replace(',','.')\n",
    "df_fundos['vlr_ir_previsto'] = df_fundos['vlr_ir_previsto'].astype(np.float32)\n",
    "\n",
    "df_fundos['vlr_iof_previsto'] = df_fundos['vlr_iof_previsto'].str.replace('R\\$', '').str.replace('.','').str.replace(',','.')\n",
    "df_fundos['vlr_iof_previsto'] = df_fundos['vlr_iof_previsto'].astype(np.float32)\n",
    "\n",
    "df_fundos['vlr_liquido'] = df_fundos['vlr_liquido'].str.replace('R\\$', '').str.replace('.','').str.replace(',','.')\n",
    "df_fundos['vlr_liquido'] = df_fundos['vlr_liquido'].astype(np.float32)"
   ]
  },
  {
   "cell_type": "code",
   "execution_count": null,
   "metadata": {},
   "outputs": [],
   "source": [
    "df_fundos"
   ]
  },
  {
   "attachments": {},
   "cell_type": "markdown",
   "metadata": {},
   "source": [
    "### Renda Fixa"
   ]
  },
  {
   "cell_type": "code",
   "execution_count": null,
   "metadata": {},
   "outputs": [],
   "source": [
    "tables =  tabula.read_pdf('data/extrato-posicao-renda-fixa.pdf',lattice=True)"
   ]
  },
  {
   "cell_type": "code",
   "execution_count": null,
   "metadata": {},
   "outputs": [],
   "source": [
    "df_tmp_renda_fixa = tables[3][~tables[3]['Nota'].isna()]"
   ]
  },
  {
   "cell_type": "code",
   "execution_count": null,
   "metadata": {},
   "outputs": [],
   "source": [
    "des_produto = tables[2].columns[0]\n",
    "\n",
    "df_tmp_renda_fixa.drop(columns=[\"Nota\"], inplace=True)\n",
    "df_tmp_renda_fixa['des_produto'] = des_produto\n",
    "\n",
    "df_tmp_renda_fixa.rename(\n",
    "    columns={\n",
    "        'Data Início' : 'dt_inicio',\n",
    "        'Data\\rVencimento' : 'dt_vencimento',\n",
    "        'Valor\\rAplicação' : 'vlr_aplicado',\n",
    "        'Tipo\\rAplicação' : 'tp_aplicacao',\n",
    "        'Taxa\\rAplicação' : 'taxa_aplicao',\n",
    "        'Valor\\rRendimento' : 'vlr_rendimento',\n",
    "        'Valor\\rRetirada' : 'vlr_retirada', \n",
    "        'Valor\\rDesconto' : 'vlr_desconto',\n",
    "        'Valor\\rBruto' : 'vlr_bruto',\n",
    "        'Valor Previsão\\rDesconto' : 'vlr_previsao_desconto',\n",
    "        'Valor\\rLíquido' : 'vlr_liquido',\n",
    "        'IR/IOF' : 'vlr_ir_iof'    \n",
    "    }, \n",
    "    inplace=True\n",
    ")\n",
    "\n",
    "df_tmp_renda_fixa = df_tmp_renda_fixa[[\n",
    "    \"des_produto\", \"dt_inicio\", 'dt_vencimento', 'vlr_aplicado',\n",
    "    'tp_aplicacao', 'taxa_aplicao', 'vlr_rendimento',\n",
    "    'vlr_retirada', 'vlr_desconto', 'vlr_bruto', \n",
    "    'vlr_previsao_desconto', 'vlr_liquido', 'vlr_ir_iof'\n",
    "]].copy()"
   ]
  },
  {
   "cell_type": "code",
   "execution_count": null,
   "metadata": {},
   "outputs": [],
   "source": [
    "df_tmp_renda_fixa"
   ]
  },
  {
   "cell_type": "code",
   "execution_count": null,
   "metadata": {},
   "outputs": [],
   "source": [
    "df_tmp_renda_fixa['des_produto'] = df_tmp_renda_fixa['des_produto'].str.lstrip().str.rstrip()\n",
    "df_tmp_renda_fixa['tp_aplicacao'] = df_tmp_renda_fixa['tp_aplicacao'].str.lstrip().str.rstrip()\n",
    "df_tmp_renda_fixa['taxa_aplicao'] = df_tmp_renda_fixa['taxa_aplicao'].str.lstrip().str.rstrip()\n",
    "\n",
    "df_tmp_renda_fixa['vlr_rendimento'] = df_tmp_renda_fixa['vlr_rendimento'].str.replace('R\\$', '').str.replace('.','').str.replace(',','.')\n",
    "df_tmp_renda_fixa['vlr_rendimento'] = df_tmp_renda_fixa['vlr_rendimento'].astype(np.float32)\n",
    "\n",
    "df_tmp_renda_fixa['vlr_retirada'] = df_tmp_renda_fixa['vlr_retirada'].str.replace('R\\$', '').str.replace('.','').str.replace(',','.')\n",
    "df_tmp_renda_fixa['vlr_retirada'] = df_tmp_renda_fixa['vlr_retirada'].astype(np.float32)\n",
    "\n",
    "df_tmp_renda_fixa['vlr_desconto'] = df_tmp_renda_fixa['vlr_desconto'].str.replace('R\\$', '').str.replace('.','').str.replace(',','.')\n",
    "df_tmp_renda_fixa['vlr_desconto'] = df_tmp_renda_fixa['vlr_desconto'].astype(np.float32)\n",
    "\n",
    "df_tmp_renda_fixa['vlr_bruto'] = df_tmp_renda_fixa['vlr_bruto'].str.replace('R\\$', '').str.replace('.','').str.replace(',','.')\n",
    "df_tmp_renda_fixa['vlr_bruto'] = df_tmp_renda_fixa['vlr_bruto'].astype(np.float32)\n",
    "\n",
    "df_tmp_renda_fixa['vlr_previsao_desconto'] = df_tmp_renda_fixa['vlr_previsao_desconto'].str.replace('R\\$', '').str.replace('.','').str.replace(',','.')\n",
    "df_tmp_renda_fixa['vlr_previsao_desconto'] = df_tmp_renda_fixa['vlr_previsao_desconto'].astype(np.float32)\n",
    "\n",
    "df_tmp_renda_fixa['vlr_liquido'] = df_tmp_renda_fixa['vlr_liquido'].str.replace('R\\$', '').str.replace('.','').str.replace(',','.')\n",
    "df_tmp_renda_fixa['vlr_liquido'] = df_tmp_renda_fixa['vlr_liquido'].astype(np.float32)\n",
    "\n",
    "df_tmp_renda_fixa['vlr_ir_iof'] = df_tmp_renda_fixa['vlr_ir_iof'].str.replace('R\\$', '').str.replace('.','').str.replace(',','.')\n",
    "df_tmp_renda_fixa['vlr_ir_iof'] = df_tmp_renda_fixa['vlr_ir_iof'].astype(np.float32)"
   ]
  },
  {
   "cell_type": "code",
   "execution_count": null,
   "metadata": {},
   "outputs": [],
   "source": [
    "df_tmp_renda_fixa"
   ]
  },
  {
   "attachments": {},
   "cell_type": "markdown",
   "metadata": {},
   "source": [
    "## XP"
   ]
  },
  {
   "cell_type": "code",
   "execution_count": null,
   "metadata": {},
   "outputs": [],
   "source": [
    "df_xp = pd.read_excel('data/PosicaoDetalhada.xlsx')"
   ]
  },
  {
   "cell_type": "code",
   "execution_count": null,
   "metadata": {},
   "outputs": [],
   "source": [
    "df_xp"
   ]
  },
  {
   "cell_type": "code",
   "execution_count": null,
   "metadata": {},
   "outputs": [],
   "source": [
    "df_xp['indexador'] = df_xp.columns[0]\n",
    "df_xp.rename(columns={\n",
    "    df_xp.columns[0] : 'des_produto',\n",
    "    'Posição' : 'vlr_bruto',\n",
    "    '% Alocação' : 'pct_alocacao',\n",
    "    'Rentabilidade' : 'pct_rentabilidade',\n",
    "    'Valor aplicado' : 'vlr_aplicado',\n",
    "    'Valor líquido' : 'vlr_liquido',\n",
    "    'Data da cota' : 'dt_cotacao'\n",
    "    }, \n",
    "    inplace=True\n",
    ")"
   ]
  },
  {
   "cell_type": "code",
   "execution_count": null,
   "metadata": {},
   "outputs": [],
   "source": [
    "df_tesouro_direto"
   ]
  },
  {
   "cell_type": "code",
   "execution_count": null,
   "metadata": {},
   "outputs": [],
   "source": [
    "df_fundos"
   ]
  },
  {
   "cell_type": "code",
   "execution_count": null,
   "metadata": {},
   "outputs": [],
   "source": [
    "df_xp"
   ]
  },
  {
   "cell_type": "code",
   "execution_count": null,
   "metadata": {},
   "outputs": [],
   "source": [
    "df_xp['des_produto'] = df_xp['des_produto'].str.lstrip().str.rstrip()\n",
    "df_xp['indexador'] = df_xp['indexador'].str.lstrip().str.rstrip()\n",
    "\n",
    "df_xp['dt_cotacao'] = pd.to_datetime(df_xp['dt_cotacao'], format='%d/%m/%Y')\n",
    "\n",
    "df_xp['pct_alocacao'] = df_xp['pct_alocacao'].str.replace('%', '').str.replace('.','').str.replace(',','.')\n",
    "df_xp['pct_alocacao'] = df_xp['pct_alocacao'].astype(np.float32)\n",
    "\n",
    "df_xp['pct_rentabilidade'] = df_xp['pct_rentabilidade'].str.replace('%', '').str.replace('.','').str.replace(',','.')\n",
    "df_xp['pct_rentabilidade'] = df_xp['pct_rentabilidade'].astype(np.float32)\n",
    "\n",
    "df_xp['vlr_aplicado'] = df_xp['vlr_aplicado'].str.replace('R\\$', '').str.replace('.','').str.replace(',','.')\n",
    "df_xp['vlr_aplicado'] = df_xp['vlr_aplicado'].astype(np.float32)\n",
    "\n",
    "df_xp['vlr_liquido'] = df_xp['vlr_liquido'].str.replace('R\\$', '').str.replace('.','').str.replace(',','.')\n",
    "df_xp['vlr_liquido'] = df_xp['vlr_liquido'].astype(np.float32)"
   ]
  },
  {
   "cell_type": "code",
   "execution_count": null,
   "metadata": {},
   "outputs": [],
   "source": [
    "df_xp"
   ]
  },
  {
   "attachments": {},
   "cell_type": "markdown",
   "metadata": {},
   "source": [
    "## WARREN"
   ]
  },
  {
   "attachments": {},
   "cell_type": "markdown",
   "metadata": {},
   "source": [
    "### Renda Fixa"
   ]
  },
  {
   "cell_type": "code",
   "execution_count": null,
   "metadata": {},
   "outputs": [],
   "source": [
    "df_warren_renda_fixa = pd.read_excel('data/warren-2022-01.xlsx', sheet_name='Renda Fixa')"
   ]
  },
  {
   "cell_type": "code",
   "execution_count": null,
   "metadata": {},
   "outputs": [],
   "source": [
    "df_warren_renda_fixa"
   ]
  },
  {
   "attachments": {},
   "cell_type": "markdown",
   "metadata": {},
   "source": [
    "### Renda Variável"
   ]
  },
  {
   "cell_type": "code",
   "execution_count": null,
   "metadata": {},
   "outputs": [],
   "source": [
    "df_warren_renda_variavel = pd.read_excel('data/warren-2022-01.xlsx', sheet_name='Renda Variavel')"
   ]
  },
  {
   "cell_type": "code",
   "execution_count": null,
   "metadata": {},
   "outputs": [],
   "source": [
    "df_warren_renda_variavel"
   ]
  },
  {
   "attachments": {},
   "cell_type": "markdown",
   "metadata": {},
   "source": [
    "## Epiricus"
   ]
  },
  {
   "cell_type": "code",
   "execution_count": null,
   "metadata": {},
   "outputs": [],
   "source": [
    "df_empiricus = pd.read_excel('data/empiricus_2022-01.xlsx')"
   ]
  },
  {
   "cell_type": "code",
   "execution_count": null,
   "metadata": {},
   "outputs": [],
   "source": [
    "df_empiricus"
   ]
  },
  {
   "cell_type": "code",
   "execution_count": null,
   "metadata": {},
   "outputs": [],
   "source": []
  }
 ],
 "metadata": {
  "kernelspec": {
   "display_name": "Python 3.7.9 64-bit",
   "language": "python",
   "name": "python3"
  },
  "language_info": {
   "codemirror_mode": {
    "name": "ipython",
    "version": 3
   },
   "file_extension": ".py",
   "mimetype": "text/x-python",
   "name": "python",
   "nbconvert_exporter": "python",
   "pygments_lexer": "ipython3",
   "version": "3.7.9"
  },
  "orig_nbformat": 4,
  "vscode": {
   "interpreter": {
    "hash": "3581cd6e7b8387b073d9d0e753ae4dad4f3c9c1cf6afad5b5fc8cbbfa24b6d55"
   }
  }
 },
 "nbformat": 4,
 "nbformat_minor": 2
}
