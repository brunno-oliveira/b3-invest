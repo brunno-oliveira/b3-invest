{
 "cells": [
  {
   "cell_type": "code",
   "execution_count": null,
   "metadata": {},
   "outputs": [],
   "source": [
    "import os\n",
    "import numpy as np\n",
    "\n",
    "import pandas as pd\n",
    "pd.set_option('display.float_format', '{:.2f}'.format)\n",
    "# import seaborn as sns\n",
    "# sns.set_theme(rc={'figure.figsize':(18,9)})\n",
    "import plotly.express as px\n",
    "pd.options.plotting.backend = \"plotly\""
   ]
  },
  {
   "attachments": {},
   "cell_type": "markdown",
   "metadata": {},
   "source": [
    "### Load B3 Setor"
   ]
  },
  {
   "cell_type": "code",
   "execution_count": null,
   "metadata": {},
   "outputs": [],
   "source": [
    "setorial_path = os.path.join(\"data\", \"b3_setorial.csv\")\n",
    "df_setorial = pd.read_csv(\n",
    "    setorial_path, sep=\";\", encoding=\"latin\"\n",
    ")"
   ]
  },
  {
   "cell_type": "code",
   "execution_count": null,
   "metadata": {},
   "outputs": [],
   "source": [
    "df_setorial.sample(n=5)"
   ]
  },
  {
   "attachments": {},
   "cell_type": "markdown",
   "metadata": {},
   "source": [
    "### Load and Transform B3 posicao"
   ]
  },
  {
   "cell_type": "code",
   "execution_count": null,
   "metadata": {},
   "outputs": [],
   "source": [
    "df_tmp = pd.read_excel('data/posicao-2023-01-24.xlsx')"
   ]
  },
  {
   "cell_type": "code",
   "execution_count": null,
   "metadata": {},
   "outputs": [],
   "source": [
    "df = df_tmp.copy()\n",
    "\n",
    "df.drop(columns=['Conta', 'Código ISIN / Distribuição', 'Escriturador', \n",
    "    'Quantidade Disponível', 'Quantidade Indisponível', \n",
    "    'Motivo', 'Preço de Fechamento'], inplace=True)\n",
    "\n",
    "df.rename(\n",
    "    columns={\n",
    "        'Produto' : 'des_produto',\n",
    "        'Instituição' : 'des_conta',\n",
    "        'Código de Negociação' : 'des_movimentacao',\n",
    "        'Código de Negociação' : 'cod_acao',\n",
    "        'Tipo' : 'tp_acao',\n",
    "        'Quantidade' : 'quantidade',\n",
    "        'Valor Atualizado' : 'vlr_total'\n",
    "    }, \n",
    "    inplace=True\n",
    ")\n",
    "\n",
    "df = df[(~df['des_produto'].isna()) & (~df['des_conta'].isna())]"
   ]
  },
  {
   "cell_type": "code",
   "execution_count": null,
   "metadata": {},
   "outputs": [],
   "source": [
    "df['des_produto'] = df['des_produto'].str.lstrip().str.rstrip()\n",
    "df['des_produto'] = df['des_produto'].str[7:]\n",
    "df['des_produto'] = df['des_produto'].str.replace('- TRANSMISSORA', 'TRANSMISSORA')\n",
    "df['vlr_total'] = df['vlr_total'].astype(np.float32)"
   ]
  },
  {
   "cell_type": "code",
   "execution_count": null,
   "metadata": {},
   "outputs": [],
   "source": [
    "# Merge Setor\n",
    "df['tmp_cod_acap'] = df['cod_acao'].str[0:4]\n",
    "df = pd.merge(df, df_setorial, left_on='tmp_cod_acap', right_on='codigo')"
   ]
  },
  {
   "cell_type": "code",
   "execution_count": null,
   "metadata": {},
   "outputs": [],
   "source": [
    "# Percentual da acao na carteira\n",
    "df['tmp_vlr_total'] = df['vlr_total'].sum()\n",
    "df['pct_vlr_total'] = (df['vlr_total'] / df['tmp_vlr_total']) * 100"
   ]
  },
  {
   "cell_type": "code",
   "execution_count": null,
   "metadata": {},
   "outputs": [],
   "source": [
    "df_setor = df[['setor','vlr_total']].groupby(['setor']).sum().reset_index().rename(columns={'vlr_total' : 'vlr_total_setor'})\n",
    "def_subsetor = df[['subsetor','vlr_total']].groupby(['subsetor']).sum().reset_index().rename(columns={'vlr_total' : 'vlr_total_subsetor'})\n",
    "df_segmento = df[['segmento','vlr_total']].groupby(['segmento']).sum().reset_index().rename(columns={'vlr_total' : 'vlr_total_segmento'})\n",
    "\n",
    "df = pd.merge(df, df_setor, on='setor')\n",
    "df = pd.merge(df, def_subsetor, on='subsetor')\n",
    "df = pd.merge(df, df_segmento, on='segmento')"
   ]
  },
  {
   "cell_type": "code",
   "execution_count": null,
   "metadata": {},
   "outputs": [],
   "source": [
    "# Percentual do setor/subsetor/segmento da carteira\n",
    "df['pct_vlr_total_setor'] = (df['vlr_total_setor'] / df['tmp_vlr_total']) * 100\n",
    "df['pct_vlr_total_subsetor'] = (df['vlr_total_subsetor'] / df['tmp_vlr_total']) * 100\n",
    "df['pct_vlr_total_segmento'] = (df['vlr_total_segmento'] / df['tmp_vlr_total']) * 100"
   ]
  },
  {
   "cell_type": "code",
   "execution_count": null,
   "metadata": {},
   "outputs": [],
   "source": [
    "columns = ['des_conta', 'cod_acao', 'des_produto', \n",
    "        'tp_acao', 'setor', 'subsetor', 'segmento',\n",
    "        'quantidade', 'vlr_total', 'pct_vlr_total',\n",
    "        'vlr_total_setor', 'pct_vlr_total_setor',\n",
    "        'vlr_total_subsetor', 'pct_vlr_total_subsetor',\n",
    "        'vlr_total_segmento', 'pct_vlr_total_segmento']\n",
    "        \n",
    "df = df[columns]"
   ]
  },
  {
   "cell_type": "code",
   "execution_count": null,
   "metadata": {},
   "outputs": [],
   "source": [
    "px.treemap(\n",
    "    df, \n",
    "    path=[\"setor\", \"subsetor\", \"segmento\"], \n",
    "    values=\"pct_vlr_total\",\n",
    "    width=1000, height=800\n",
    "    )"
   ]
  },
  {
   "cell_type": "code",
   "execution_count": null,
   "metadata": {},
   "outputs": [],
   "source": []
  }
 ],
 "metadata": {
  "kernelspec": {
   "display_name": "Python 3.7.9 64-bit",
   "language": "python",
   "name": "python3"
  },
  "language_info": {
   "codemirror_mode": {
    "name": "ipython",
    "version": 3
   },
   "file_extension": ".py",
   "mimetype": "text/x-python",
   "name": "python",
   "nbconvert_exporter": "python",
   "pygments_lexer": "ipython3",
   "version": "3.7.9"
  },
  "orig_nbformat": 4,
  "vscode": {
   "interpreter": {
    "hash": "3581cd6e7b8387b073d9d0e753ae4dad4f3c9c1cf6afad5b5fc8cbbfa24b6d55"
   }
  }
 },
 "nbformat": 4,
 "nbformat_minor": 2
}
