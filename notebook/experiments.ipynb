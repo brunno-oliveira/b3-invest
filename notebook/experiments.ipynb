{
  "nbformat": 4,
  "nbformat_minor": 0,
  "metadata": {
    "colab": {
      "name": "b3.ipynb",
      "provenance": [],
      "collapsed_sections": []
    },
    "kernelspec": {
      "name": "python3",
      "display_name": "Python 3.7.9 64-bit",
      "metadata": {
        "interpreter": {
          "hash": "11788d199534453b3091baa8e21d49a7afe3aaf89a016b3a09f594b82a19522e"
        }
      }
    }
  },
  "cells": [
    {
      "cell_type": "code",
      "metadata": {
        "id": "R219RSmHeHvt"
      },
      "source": [
        "from unidecode import unidecode\n",
        "import matplotlib.pyplot as plt\n",
        "from zipfile import ZipFile\n",
        "import mplfinance as mpf\n",
        "import pandas as pd\n",
        "import numpy as np\n",
        "import requests\n",
        "import json"
      ],
      "execution_count": 1,
      "outputs": []
    },
    {
      "source": [
        "## API CONFIG"
      ],
      "cell_type": "markdown",
      "metadata": {}
    },
    {
      "cell_type": "code",
      "metadata": {
        "id": "WSPSdVcCeOaA"
      },
      "source": [
        "API_KEY = '01NKJDZHS13H8U13'"
      ],
      "execution_count": 2,
      "outputs": []
    },
    {
      "cell_type": "code",
      "metadata": {
        "colab": {
          "base_uri": "https://localhost:8080/"
        },
        "id": "GlnUfK5ZeWyK",
        "outputId": "f0a68cf9-d35b-4c68-e3fa-95ab81527efc"
      },
      "source": [
        "base_url = 'https://www.alphavantage.co/query'\n",
        "param_function = '?function=TIME_SERIES_DAILY'\n",
        "param_symbol   = '&symbol=PETR4.SAO'\n",
        "param_output   = '&outputsize=full'\n",
        "param_api_key  = f'&apikey={API_KEY}'\n",
        "\n",
        "final_url = base_url + param_function + param_symbol + param_output + param_api_key\n",
        "print(final_url)"
      ],
      "execution_count": 3,
      "outputs": [
        {
          "output_type": "stream",
          "name": "stdout",
          "text": [
            "https://www.alphavantage.co/query?function=TIME_SERIES_DAILY&symbol=PETR4.SAO&outputsize=full&apikey=01NKJDZHS13H8U13\n"
          ]
        }
      ]
    },
    {
      "source": [
        "## DOWNLOAD DATA AND DATAFRAME IT"
      ],
      "cell_type": "markdown",
      "metadata": {}
    },
    {
      "cell_type": "code",
      "metadata": {
        "id": "cqc1V7_ffcnr"
      },
      "source": [
        " r = requests.get(final_url)"
      ],
      "execution_count": 4,
      "outputs": []
    },
    {
      "cell_type": "code",
      "execution_count": 6,
      "metadata": {
        "tags": []
      },
      "outputs": [],
      "source": [
        "last_update = json.loads(r.content)['Meta Data']['3. Last Refreshed']\n",
        "time_series = json.loads(r.content)['Time Series (Daily)']"
      ]
    },
    {
      "cell_type": "code",
      "metadata": {
        "id": "S3dRmC-AkthF"
      },
      "source": [
        "df = pd.DataFrame.from_dict(time_series).T.reset_index()\n",
        "df.columns = ['day','open','high','low','close','volume']\n",
        "\n",
        "df['day'] = pd.to_datetime(df['day'])\n",
        "df = df.set_index('day')\n",
        "\n",
        "df['open'] = df['open'].astype(float)\n",
        "df['high'] = df['high'].astype(float)\n",
        "df['low'] = df['low'].astype(float)\n",
        "df['close'] = df['close'].astype(float)\n",
        "df['volume'] = df['volume'].astype(float)\n",
        "\n",
        "df = df[df.index >= '2019-01-01']"
      ],
      "execution_count": 7,
      "outputs": []
    },
    {
      "cell_type": "code",
      "metadata": {
        "colab": {
          "base_uri": "https://localhost:8080/",
          "height": 235
        },
        "id": "fWxpXiMTlDul",
        "outputId": "0f6f3b3d-09fc-4df1-bf1f-4ddf48bbff3f"
      },
      "source": [
        "df = df[['open', 'close']]"
      ],
      "execution_count": 9,
      "outputs": []
    },
    {
      "cell_type": "code",
      "execution_count": 10,
      "metadata": {},
      "outputs": [
        {
          "output_type": "execute_result",
          "data": {
            "text/plain": [
              "             open  close\n",
              "day                     \n",
              "2021-02-19  28.03  27.33\n",
              "2021-02-18  30.38  29.27\n",
              "2021-02-17  28.52  29.59\n",
              "2021-02-12  27.81  28.44\n",
              "2021-02-11  28.14  28.08"
            ],
            "text/html": "<div>\n<style scoped>\n    .dataframe tbody tr th:only-of-type {\n        vertical-align: middle;\n    }\n\n    .dataframe tbody tr th {\n        vertical-align: top;\n    }\n\n    .dataframe thead th {\n        text-align: right;\n    }\n</style>\n<table border=\"1\" class=\"dataframe\">\n  <thead>\n    <tr style=\"text-align: right;\">\n      <th></th>\n      <th>open</th>\n      <th>close</th>\n    </tr>\n    <tr>\n      <th>day</th>\n      <th></th>\n      <th></th>\n    </tr>\n  </thead>\n  <tbody>\n    <tr>\n      <th>2021-02-19</th>\n      <td>28.03</td>\n      <td>27.33</td>\n    </tr>\n    <tr>\n      <th>2021-02-18</th>\n      <td>30.38</td>\n      <td>29.27</td>\n    </tr>\n    <tr>\n      <th>2021-02-17</th>\n      <td>28.52</td>\n      <td>29.59</td>\n    </tr>\n    <tr>\n      <th>2021-02-12</th>\n      <td>27.81</td>\n      <td>28.44</td>\n    </tr>\n    <tr>\n      <th>2021-02-11</th>\n      <td>28.14</td>\n      <td>28.08</td>\n    </tr>\n  </tbody>\n</table>\n</div>"
          },
          "metadata": {},
          "execution_count": 10
        }
      ],
      "source": [
        "df.head()"
      ]
    },
    {
      "source": [
        "## GET SETORIAL DATA"
      ],
      "cell_type": "markdown",
      "metadata": {}
    },
    {
      "cell_type": "code",
      "execution_count": 150,
      "metadata": {},
      "outputs": [],
      "source": [
        "df_setorial = pd.read_csv('../data/b3_setorial.csv', sep=';', encoding='latin')\n",
        "\n",
        "# for index in range(len(df_setorial['segmento'].unique())):\n",
        "#     print(f\"'{df_setorial['segmento'].unique()[index]}' :\\\n",
        "#  '{unidecode(df_setorial['segmento'].unique()[index]).lower().replace(' ','_').replace(',','')}',\")\n",
        "\n",
        "\n",
        "# SETOR\n",
        "setor_map = {\n",
        "    'Petróleo, Gás e Biocombustíveis' : 'petroleo_gas_e_biocombustiveis',\n",
        "    'Materiais Básicos' : 'materiais_basicos',\n",
        "    'Bens Industriais' : 'bens_industriais',\n",
        "    'Consumo não Cíclico' : 'consumo_nao_ciclico',\n",
        "    'Consumo Cíclico' : 'consumo_ciclico',\n",
        "    'Saúde' : 'saude',\n",
        "    'Tecnologia da Informação' : 'tecnologia_da_informacao',\n",
        "    'Comunicações' : 'comunicacoes',\n",
        "    'Utilidade Pública' : 'utilidade_publica',\n",
        "    'Financeiro' : 'financeiro',\n",
        "    'Outros' : 'outros'    \n",
        "}\n",
        "df_setorial['setor'] = df_setorial['setor'].map(setor_map)\n",
        "setor_dummies = pd.get_dummies(df_setorial.setor, prefix='setor', prefix_sep='.').drop(columns='setor.outros')\n",
        "df_setorial = pd.concat([df_setorial, setor_dummies], axis=1).drop(columns='setor')\n",
        "\n",
        "# SUBSETOR\n",
        "subseto_map = {\n",
        "    'Petróleo, Gás e Biocombustíveis' : 'petroleo_gas_e_biocombustiveis',\n",
        "    'Mineração' : 'mineracao',\n",
        "    'Siderurgia e Metalurgia' : 'siderurgia_e_metalurgia',\n",
        "    'Químicos' : 'quimicos',\n",
        "    'Madeira e Papel' : 'madeira_e_papel',\n",
        "    'Embalagens' : 'embalagens',\n",
        "    'Materiais Diversos' : 'materiais_diversos',\n",
        "    'Construção e Engenharia' : 'construcao_e_engenharia',\n",
        "    'Material de Transporte' : 'material_de_transporte',\n",
        "    'Máquinas e Equipamentos' : 'maquinas_e_equipamentos',\n",
        "    'Transporte' : 'transporte',\n",
        "    'Serviços Diversos' : 'servicos_diversos',\n",
        "    'Comércio' : 'comercio',\n",
        "    'Agropecuária' : 'agropecuaria',\n",
        "    'Alimentos Processados' : 'alimentos_processados',\n",
        "    'Bebidas' : 'bebidas',\n",
        "    'Produtos de Uso Pessoal e de Limpeza' : 'produtos_de_uso_pessoal_e_de_limpeza',\n",
        "    'Comércio e Distribuição' : 'comercio_e_distribuicao',\n",
        "    'Construção Civil' : 'construcao_civil',\n",
        "    'Tecidos, Vestuário e Calçados' : 'tecidos_vestuario_e_calcados',\n",
        "    'Utilidades Domésticas' : 'utilidades_domesticas',\n",
        "    'Automóveis e Motocicletas' : 'automoveis_e_motocicletas',\n",
        "    'Hoteis e Restaurantes' : 'hoteis_e_restaurantes',\n",
        "    'Viagens e Lazer' : 'viagens_e_lazer',\n",
        "    'Diversos' : 'diversos',\n",
        "    'Medicamentos e Outros Produtos' : 'medicamentos_e_outros_produtos',\n",
        "    'Serviços Médico - Hospitalares, Análises e Diagnósticos' : 'servicos_medico_-_hospitalares_analises_e_diagnosticos',\n",
        "    'Equipamentos' : 'equipamentos',\n",
        "    'Computadores e Equipamentos' : 'computadores_e_equipamentos',\n",
        "    'Programas e Serviços' : 'programas_e_servicos',\n",
        "    'Telecomunicações' : 'telecomunicacoes',\n",
        "    'Mídia' : 'midia',\n",
        "    'Energia Elétrica' : 'energia_eletrica',\n",
        "    'Água e Saneamento' : 'agua_e_saneamento',\n",
        "    'Gás' : 'gas',\n",
        "    'Intermediários Financeiros' : 'intermediarios_financeiros',\n",
        "    'Securitizadoras de Recebíveis' : 'securitizadoras_de_recebiveis',\n",
        "    'Serviços Financeiros Diversos' : 'servicos_financeiros_diversos',\n",
        "    'Previdência e Seguros' : 'previdencia_e_seguros',\n",
        "    'Exploração de Imóveis' : 'exploracao_de_imoveis',\n",
        "    'Holdings Diversificadas' : 'holdings_diversificadas',\n",
        "    'Outros Títulos' : 'outros_titulos',\n",
        "    'Outros' : 'outros'\n",
        "}\n",
        "\n",
        "df_setorial['subsetor'] = df_setorial['subsetor'].map(setor_map)\n",
        "setor_dummies = pd.get_dummies(df_setorial.subsetor, prefix='subsetor', prefix_sep='.').drop(columns='subsetor.outros')\n",
        "df_setorial = pd.concat([df_setorial, setor_dummies], axis=1).drop(columns='subsetor')\n",
        "\n",
        "# SEGMENTO\n",
        "segmento_map = {\n",
        "    'Exploração, Refino e Distribuição' : 'exploracao_refino_e_distribuicao',\n",
        "    'Equipamentos e Serviços' : 'equipamentos_e_servicos',\n",
        "    'Minerais Metálicos' : 'minerais_metalicos',\n",
        "    'Siderurgia' : 'siderurgia',\n",
        "    'Artefatos de Ferro e Aço' : 'artefatos_de_ferro_e_aco',\n",
        "    'Artefatos de Cobre' : 'artefatos_de_cobre',\n",
        "    'Petroquímicos' : 'petroquimicos',\n",
        "    'Fertilizantes e Defensivos' : 'fertilizantes_e_defensivos',\n",
        "    'Químicos Diversos' : 'quimicos_diversos',\n",
        "    'Madeira' : 'madeira',\n",
        "    'Papel e Celulose' : 'papel_e_celulose',\n",
        "    'Embalagens' : 'embalagens',\n",
        "    'Materiais Diversos' : 'materiais_diversos',\n",
        "    'Produtos para Construção' : 'produtos_para_construcao',\n",
        "    'Construção Pesada' : 'construcao_pesada',\n",
        "    'Engenharia Consultiva' : 'engenharia_consultiva',\n",
        "    'Serviços Diversos' : 'servicos_diversos',\n",
        "    'Material Aeronáutico e de Defesa' : 'material_aeronautico_e_de_defesa',\n",
        "    'Material Rodoviário' : 'material_rodoviario',\n",
        "    'Motores, Compressores e Outros' : 'motores_compressores_e_outros',\n",
        "    'Máq. e Equip. Industriais' : 'maq._e_equip._industriais',\n",
        "    'Máq. e Equip. Construção e Agrícolas' : 'maq._e_equip._construcao_e_agricolas',\n",
        "    'Armas e Munições' : 'armas_e_municoes',\n",
        "    'Transporte Aéreo' : 'transporte_aereo',\n",
        "    'Transporte Ferroviário' : 'transporte_ferroviario',\n",
        "    'Transporte Hidroviário' : 'transporte_hidroviario',\n",
        "    'Transporte Rodoviário' : 'transporte_rodoviario',\n",
        "    'Exploração de Rodovias' : 'exploracao_de_rodovias',\n",
        "    'Serviços de Apoio e Armazenagem' : 'servicos_de_apoio_e_armazenagem',\n",
        "    'Material de Transporte' : 'material_de_transporte',\n",
        "    'Agricultura' : 'agricultura',\n",
        "    'Açucar e Alcool' : 'acucar_e_alcool',\n",
        "    'Carnes e Derivados' : 'carnes_e_derivados',\n",
        "    'Alimentos Diversos' : 'alimentos_diversos',\n",
        "    'Cervejas e Refrigerantes' : 'cervejas_e_refrigerantes',\n",
        "    'Produtos de Uso Pessoal' : 'produtos_de_uso_pessoal',\n",
        "    'Produtos de Limpeza' : 'produtos_de_limpeza',\n",
        "    'Alimentos' : 'alimentos',\n",
        "    'Incorporações' : 'incorporacoes',\n",
        "    'Fios e Tecidos' : 'fios_e_tecidos',\n",
        "    'Vestuário' : 'vestuario',\n",
        "    'Calçados' : 'calcados',\n",
        "    'Acessórios' : 'acessorios',\n",
        "    'Eletrodomésticos' : 'eletrodomesticos',\n",
        "    'Móveis' : 'moveis',\n",
        "    'Utensílios Domésticos' : 'utensilios_domesticos',\n",
        "    'Automóveis e Motocicletas' : 'automoveis_e_motocicletas',\n",
        "    'Hotelaria' : 'hotelaria',\n",
        "    'Restaurante e Similares' : 'restaurante_e_similares',\n",
        "    'Bicicletas' : 'bicicletas',\n",
        "    'Brinquedos e Jogos' : 'brinquedos_e_jogos',\n",
        "    'Produção de Eventos e Shows' : 'producao_de_eventos_e_shows',\n",
        "    'Viagens e Turismo' : 'viagens_e_turismo',\n",
        "    'Atividades Esportivas' : 'atividades_esportivas',\n",
        "    'Serviços Educacionais' : 'servicos_educacionais',\n",
        "    'Aluguel de carros' : 'aluguel_de_carros',\n",
        "    'Programas de Fidelização' : 'programas_de_fidelizacao',\n",
        "    'Tecidos, Vestuário e Calçados' : 'tecidos_vestuario_e_calcados',\n",
        "    'Produtos Diversos' : 'produtos_diversos',\n",
        "    'Medicamentos e Outros Produtos' : 'medicamentos_e_outros_produtos',\n",
        "    'Serviços Médico - Hospitalares, Análises e Diagnósticos' : 'servicos_medico_-_hospitalares_analises_e_diagnosticos',\n",
        "    'Equipamentos' : 'equipamentos',\n",
        "    'Computadores e Equipamentos' : 'computadores_e_equipamentos',\n",
        "    'Programas e Serviços' : 'programas_e_servicos',\n",
        "    'Telecomunicações' : 'telecomunicacoes',\n",
        "    'Produção e Difusão de Filmes e Programas' : 'producao_e_difusao_de_filmes_e_programas',\n",
        "    'Energia Elétrica' : 'energia_eletrica',\n",
        "    'Água e Saneamento' : 'agua_e_saneamento',\n",
        "    'Gás' : 'gas',\n",
        "    'Bancos' : 'bancos',\n",
        "    'Soc. Crédito e Financiamento' : 'soc._credito_e_financiamento',\n",
        "    'Soc. Arrendamento Mercantil' : 'soc._arrendamento_mercantil',\n",
        "    'Securitizadoras de Recebíveis' : 'securitizadoras_de_recebiveis',\n",
        "    'Gestão de Recursos e Investimentos' : 'gestao_de_recursos_e_investimentos',\n",
        "    'Serviços Financeiros Diversos' : 'servicos_financeiros_diversos',\n",
        "    'Seguradoras' : 'seguradoras',\n",
        "    'Corretoras de Seguros' : 'corretoras_de_seguros',\n",
        "    'Exploração de Imóveis' : 'exploracao_de_imoveis',\n",
        "    'Intermediação Imobiliária' : 'intermediacao_imobiliaria',\n",
        "    'Holdings Diversificadas' : 'holdings_diversificadas',\n",
        "    'Outros Títulos' : 'outros_titulos',\n",
        "    'Outros' : 'outros'   \n",
        "}\n",
        "\n",
        "df_setorial['segmento'] = df_setorial['segmento'].map(setor_map)\n",
        "setor_dummies = pd.get_dummies(df_setorial.segmento, prefix='segmento', prefix_sep='.').drop(columns='segmento.outros')\n",
        "df_setorial = pd.concat([df_setorial, setor_dummies], axis=1).drop(columns='segmento')\n",
        "\n",
        "df_setorial.drop(columns='listagem_segmento', inplace=True)"
      ]
    },
    {
      "cell_type": "code",
      "execution_count": 151,
      "metadata": {},
      "outputs": [
        {
          "output_type": "execute_result",
          "data": {
            "text/plain": [
              "  codigo  setor.bens_industriais  setor.comunicacoes  setor.consumo_ciclico  \\\n",
              "0   RRRP                       0                   0                      0   \n",
              "1   CSAN                       0                   0                      0   \n",
              "2   DMMO                       0                   0                      0   \n",
              "3   ENAT                       0                   0                      0   \n",
              "4   RPMG                       0                   0                      0   \n",
              "\n",
              "   setor.consumo_nao_ciclico  setor.financeiro  setor.materiais_basicos  \\\n",
              "0                          0                 0                        0   \n",
              "1                          0                 0                        0   \n",
              "2                          0                 0                        0   \n",
              "3                          0                 0                        0   \n",
              "4                          0                 0                        0   \n",
              "\n",
              "   setor.petroleo_gas_e_biocombustiveis  setor.saude  \\\n",
              "0                                     1            0   \n",
              "1                                     1            0   \n",
              "2                                     1            0   \n",
              "3                                     1            0   \n",
              "4                                     1            0   \n",
              "\n",
              "   setor.tecnologia_da_informacao  setor.utilidade_publica  \\\n",
              "0                               0                        0   \n",
              "1                               0                        0   \n",
              "2                               0                        0   \n",
              "3                               0                        0   \n",
              "4                               0                        0   \n",
              "\n",
              "   subsetor.petroleo_gas_e_biocombustiveis  \n",
              "0                                        1  \n",
              "1                                        1  \n",
              "2                                        1  \n",
              "3                                        1  \n",
              "4                                        1  "
            ],
            "text/html": "<div>\n<style scoped>\n    .dataframe tbody tr th:only-of-type {\n        vertical-align: middle;\n    }\n\n    .dataframe tbody tr th {\n        vertical-align: top;\n    }\n\n    .dataframe thead th {\n        text-align: right;\n    }\n</style>\n<table border=\"1\" class=\"dataframe\">\n  <thead>\n    <tr style=\"text-align: right;\">\n      <th></th>\n      <th>codigo</th>\n      <th>setor.bens_industriais</th>\n      <th>setor.comunicacoes</th>\n      <th>setor.consumo_ciclico</th>\n      <th>setor.consumo_nao_ciclico</th>\n      <th>setor.financeiro</th>\n      <th>setor.materiais_basicos</th>\n      <th>setor.petroleo_gas_e_biocombustiveis</th>\n      <th>setor.saude</th>\n      <th>setor.tecnologia_da_informacao</th>\n      <th>setor.utilidade_publica</th>\n      <th>subsetor.petroleo_gas_e_biocombustiveis</th>\n    </tr>\n  </thead>\n  <tbody>\n    <tr>\n      <th>0</th>\n      <td>RRRP</td>\n      <td>0</td>\n      <td>0</td>\n      <td>0</td>\n      <td>0</td>\n      <td>0</td>\n      <td>0</td>\n      <td>1</td>\n      <td>0</td>\n      <td>0</td>\n      <td>0</td>\n      <td>1</td>\n    </tr>\n    <tr>\n      <th>1</th>\n      <td>CSAN</td>\n      <td>0</td>\n      <td>0</td>\n      <td>0</td>\n      <td>0</td>\n      <td>0</td>\n      <td>0</td>\n      <td>1</td>\n      <td>0</td>\n      <td>0</td>\n      <td>0</td>\n      <td>1</td>\n    </tr>\n    <tr>\n      <th>2</th>\n      <td>DMMO</td>\n      <td>0</td>\n      <td>0</td>\n      <td>0</td>\n      <td>0</td>\n      <td>0</td>\n      <td>0</td>\n      <td>1</td>\n      <td>0</td>\n      <td>0</td>\n      <td>0</td>\n      <td>1</td>\n    </tr>\n    <tr>\n      <th>3</th>\n      <td>ENAT</td>\n      <td>0</td>\n      <td>0</td>\n      <td>0</td>\n      <td>0</td>\n      <td>0</td>\n      <td>0</td>\n      <td>1</td>\n      <td>0</td>\n      <td>0</td>\n      <td>0</td>\n      <td>1</td>\n    </tr>\n    <tr>\n      <th>4</th>\n      <td>RPMG</td>\n      <td>0</td>\n      <td>0</td>\n      <td>0</td>\n      <td>0</td>\n      <td>0</td>\n      <td>0</td>\n      <td>1</td>\n      <td>0</td>\n      <td>0</td>\n      <td>0</td>\n      <td>1</td>\n    </tr>\n  </tbody>\n</table>\n</div>"
          },
          "metadata": {},
          "execution_count": 151
        }
      ],
      "source": [
        "df_setorial.head()"
      ]
    },
    {
      "cell_type": "code",
      "execution_count": 122,
      "metadata": {},
      "outputs": [
        {
          "output_type": "error",
          "ename": "AttributeError",
          "evalue": "'float' object has no attribute 'encode'",
          "traceback": [
            "\u001b[1;31m---------------------------------------------------------------------------\u001b[0m",
            "\u001b[1;31mAttributeError\u001b[0m                            Traceback (most recent call last)",
            "\u001b[1;32m<ipython-input-122-d6ecb63332ec>\u001b[0m in \u001b[0;36m<module>\u001b[1;34m\u001b[0m\n\u001b[0;32m      1\u001b[0m \u001b[1;32mfor\u001b[0m \u001b[0mindex\u001b[0m \u001b[1;32min\u001b[0m \u001b[0mrange\u001b[0m\u001b[1;33m(\u001b[0m\u001b[0mlen\u001b[0m\u001b[1;33m(\u001b[0m\u001b[0mdf_setorial\u001b[0m\u001b[1;33m[\u001b[0m\u001b[1;34m'listagem_segmento'\u001b[0m\u001b[1;33m]\u001b[0m\u001b[1;33m.\u001b[0m\u001b[0munique\u001b[0m\u001b[1;33m(\u001b[0m\u001b[1;33m)\u001b[0m\u001b[1;33m)\u001b[0m\u001b[1;33m)\u001b[0m\u001b[1;33m:\u001b[0m\u001b[1;33m\u001b[0m\u001b[1;33m\u001b[0m\u001b[0m\n\u001b[0;32m      2\u001b[0m     \u001b[0mold_value\u001b[0m \u001b[1;33m=\u001b[0m \u001b[0mdf_setorial\u001b[0m\u001b[1;33m[\u001b[0m\u001b[1;34m'listagem_segmento'\u001b[0m\u001b[1;33m]\u001b[0m\u001b[1;33m.\u001b[0m\u001b[0munique\u001b[0m\u001b[1;33m(\u001b[0m\u001b[1;33m)\u001b[0m\u001b[1;33m[\u001b[0m\u001b[0mindex\u001b[0m\u001b[1;33m]\u001b[0m\u001b[1;33m\u001b[0m\u001b[1;33m\u001b[0m\u001b[0m\n\u001b[1;32m----> 3\u001b[1;33m     \u001b[0mnew_value\u001b[0m \u001b[1;33m=\u001b[0m \u001b[0munidecode\u001b[0m\u001b[1;33m(\u001b[0m\u001b[0mdf_setorial\u001b[0m\u001b[1;33m[\u001b[0m\u001b[1;34m'listagem_segmento'\u001b[0m\u001b[1;33m]\u001b[0m\u001b[1;33m.\u001b[0m\u001b[0munique\u001b[0m\u001b[1;33m(\u001b[0m\u001b[1;33m)\u001b[0m\u001b[1;33m[\u001b[0m\u001b[0mindex\u001b[0m\u001b[1;33m]\u001b[0m\u001b[1;33m)\u001b[0m\u001b[1;33m.\u001b[0m\u001b[0mlower\u001b[0m\u001b[1;33m(\u001b[0m\u001b[1;33m)\u001b[0m\u001b[1;33m.\u001b[0m\u001b[0mstrip\u001b[0m\u001b[1;33m(\u001b[0m\u001b[1;33m)\u001b[0m\u001b[1;33m.\u001b[0m\u001b[0mreplace\u001b[0m\u001b[1;33m(\u001b[0m\u001b[1;34m' '\u001b[0m\u001b[1;33m,\u001b[0m\u001b[1;34m'_'\u001b[0m\u001b[1;33m)\u001b[0m\u001b[1;33m.\u001b[0m\u001b[0mreplace\u001b[0m\u001b[1;33m(\u001b[0m\u001b[1;34m','\u001b[0m\u001b[1;33m,\u001b[0m\u001b[1;34m''\u001b[0m\u001b[1;33m)\u001b[0m\u001b[1;33m\u001b[0m\u001b[1;33m\u001b[0m\u001b[0m\n\u001b[0m\u001b[0;32m      4\u001b[0m     \u001b[1;31m#print(f\"'{old_value}' : '{new_value}',\")\u001b[0m\u001b[1;33m\u001b[0m\u001b[1;33m\u001b[0m\u001b[1;33m\u001b[0m\u001b[0m\n",
            "\u001b[1;32mD:\\Users\\brunno\\AppData\\Local\\Programs\\Python\\Python37\\lib\\site-packages\\unidecode\\__init__.py\u001b[0m in \u001b[0;36munidecode_expect_ascii\u001b[1;34m(string, errors, replace_str)\u001b[0m\n\u001b[0;32m     64\u001b[0m     \u001b[0m_warn_if_not_unicode\u001b[0m\u001b[1;33m(\u001b[0m\u001b[0mstring\u001b[0m\u001b[1;33m)\u001b[0m\u001b[1;33m\u001b[0m\u001b[1;33m\u001b[0m\u001b[0m\n\u001b[0;32m     65\u001b[0m     \u001b[1;32mtry\u001b[0m\u001b[1;33m:\u001b[0m\u001b[1;33m\u001b[0m\u001b[1;33m\u001b[0m\u001b[0m\n\u001b[1;32m---> 66\u001b[1;33m         \u001b[0mbytestring\u001b[0m \u001b[1;33m=\u001b[0m \u001b[0mstring\u001b[0m\u001b[1;33m.\u001b[0m\u001b[0mencode\u001b[0m\u001b[1;33m(\u001b[0m\u001b[1;34m'ASCII'\u001b[0m\u001b[1;33m)\u001b[0m\u001b[1;33m\u001b[0m\u001b[1;33m\u001b[0m\u001b[0m\n\u001b[0m\u001b[0;32m     67\u001b[0m     \u001b[1;32mexcept\u001b[0m \u001b[0mUnicodeEncodeError\u001b[0m\u001b[1;33m:\u001b[0m\u001b[1;33m\u001b[0m\u001b[1;33m\u001b[0m\u001b[0m\n\u001b[0;32m     68\u001b[0m         \u001b[1;32mpass\u001b[0m\u001b[1;33m\u001b[0m\u001b[1;33m\u001b[0m\u001b[0m\n",
            "\u001b[1;31mAttributeError\u001b[0m: 'float' object has no attribute 'encode'"
          ]
        }
      ],
      "source": [
        "for index in range(len(df_setorial['listagem_segmento'].unique())):\n",
        "    old_value = df_setorial['listagem_segmento'].unique()[index]\n",
        "    new_value = unidecode(df_setorial['listagem_segmento'].unique()[index]).lower().strip().replace(' ','_').replace(',','')\n",
        "    print(f\"'{old_value}' : '{new_value}',\")"
      ]
    },
    {
      "source": [
        "## CONCAT"
      ],
      "cell_type": "markdown",
      "metadata": {}
    },
    {
      "cell_type": "code",
      "execution_count": 16,
      "metadata": {},
      "outputs": [],
      "source": [
        "df['codigo'] = 'PETR'\n",
        "merge = df.merge(df_setorial, how='inner', on='codigo')"
      ]
    },
    {
      "cell_type": "code",
      "execution_count": 17,
      "metadata": {},
      "outputs": [
        {
          "output_type": "execute_result",
          "data": {
            "text/plain": [
              "    open  close codigo                            setor  \\\n",
              "0  28.03  27.33   PETR  Petróleo, Gás e Biocombustíveis   \n",
              "1  30.38  29.27   PETR  Petróleo, Gás e Biocombustíveis   \n",
              "2  28.52  29.59   PETR  Petróleo, Gás e Biocombustíveis   \n",
              "3  27.81  28.44   PETR  Petróleo, Gás e Biocombustíveis   \n",
              "4  28.14  28.08   PETR  Petróleo, Gás e Biocombustíveis   \n",
              "\n",
              "                          subsetor                           segmento  \\\n",
              "0  Petróleo, Gás e Biocombustíveis  Exploração, Refino e Distribuição   \n",
              "1  Petróleo, Gás e Biocombustíveis  Exploração, Refino e Distribuição   \n",
              "2  Petróleo, Gás e Biocombustíveis  Exploração, Refino e Distribuição   \n",
              "3  Petróleo, Gás e Biocombustíveis  Exploração, Refino e Distribuição   \n",
              "4  Petróleo, Gás e Biocombustíveis  Exploração, Refino e Distribuição   \n",
              "\n",
              "  listagem_segmento  \n",
              "0                N2  \n",
              "1                N2  \n",
              "2                N2  \n",
              "3                N2  \n",
              "4                N2  "
            ],
            "text/html": "<div>\n<style scoped>\n    .dataframe tbody tr th:only-of-type {\n        vertical-align: middle;\n    }\n\n    .dataframe tbody tr th {\n        vertical-align: top;\n    }\n\n    .dataframe thead th {\n        text-align: right;\n    }\n</style>\n<table border=\"1\" class=\"dataframe\">\n  <thead>\n    <tr style=\"text-align: right;\">\n      <th></th>\n      <th>open</th>\n      <th>close</th>\n      <th>codigo</th>\n      <th>setor</th>\n      <th>subsetor</th>\n      <th>segmento</th>\n      <th>listagem_segmento</th>\n    </tr>\n  </thead>\n  <tbody>\n    <tr>\n      <th>0</th>\n      <td>28.03</td>\n      <td>27.33</td>\n      <td>PETR</td>\n      <td>Petróleo, Gás e Biocombustíveis</td>\n      <td>Petróleo, Gás e Biocombustíveis</td>\n      <td>Exploração, Refino e Distribuição</td>\n      <td>N2</td>\n    </tr>\n    <tr>\n      <th>1</th>\n      <td>30.38</td>\n      <td>29.27</td>\n      <td>PETR</td>\n      <td>Petróleo, Gás e Biocombustíveis</td>\n      <td>Petróleo, Gás e Biocombustíveis</td>\n      <td>Exploração, Refino e Distribuição</td>\n      <td>N2</td>\n    </tr>\n    <tr>\n      <th>2</th>\n      <td>28.52</td>\n      <td>29.59</td>\n      <td>PETR</td>\n      <td>Petróleo, Gás e Biocombustíveis</td>\n      <td>Petróleo, Gás e Biocombustíveis</td>\n      <td>Exploração, Refino e Distribuição</td>\n      <td>N2</td>\n    </tr>\n    <tr>\n      <th>3</th>\n      <td>27.81</td>\n      <td>28.44</td>\n      <td>PETR</td>\n      <td>Petróleo, Gás e Biocombustíveis</td>\n      <td>Petróleo, Gás e Biocombustíveis</td>\n      <td>Exploração, Refino e Distribuição</td>\n      <td>N2</td>\n    </tr>\n    <tr>\n      <th>4</th>\n      <td>28.14</td>\n      <td>28.08</td>\n      <td>PETR</td>\n      <td>Petróleo, Gás e Biocombustíveis</td>\n      <td>Petróleo, Gás e Biocombustíveis</td>\n      <td>Exploração, Refino e Distribuição</td>\n      <td>N2</td>\n    </tr>\n  </tbody>\n</table>\n</div>"
          },
          "metadata": {},
          "execution_count": 17
        }
      ],
      "source": [
        "merge.head()"
      ]
    },
    {
      "source": [
        "### GRAPHS"
      ],
      "cell_type": "markdown",
      "metadata": {}
    },
    {
      "cell_type": "code",
      "execution_count": 128,
      "metadata": {},
      "outputs": [
        {
          "output_type": "display_data",
          "data": {
            "text/plain": "<Figure size 432x288 with 1 Axes>",
            "image/svg+xml": "<?xml version=\"1.0\" encoding=\"utf-8\" standalone=\"no\"?>\r\n<!DOCTYPE svg PUBLIC \"-//W3C//DTD SVG 1.1//EN\"\r\n  \"http://www.w3.org/Graphics/SVG/1.1/DTD/svg11.dtd\">\r\n<!-- Created with matplotlib (https://matplotlib.org/) -->\r\n<svg height=\"262.19625pt\" version=\"1.1\" viewBox=\"0 0 392.14375 262.19625\" width=\"392.14375pt\" xmlns=\"http://www.w3.org/2000/svg\" xmlns:xlink=\"http://www.w3.org/1999/xlink\">\r\n <metadata>\r\n  <rdf:RDF xmlns:cc=\"http://creativecommons.org/ns#\" xmlns:dc=\"http://purl.org/dc/elements/1.1/\" xmlns:rdf=\"http://www.w3.org/1999/02/22-rdf-syntax-ns#\">\r\n   <cc:Work>\r\n    <dc:type rdf:resource=\"http://purl.org/dc/dcmitype/StillImage\"/>\r\n    <dc:date>2021-02-16T00:18:35.198278</dc:date>\r\n    <dc:format>image/svg+xml</dc:format>\r\n    <dc:creator>\r\n     <cc:Agent>\r\n      <dc:title>Matplotlib v3.3.3, https://matplotlib.org/</dc:title>\r\n     </cc:Agent>\r\n    </dc:creator>\r\n   </cc:Work>\r\n  </rdf:RDF>\r\n </metadata>\r\n <defs>\r\n  <style type=\"text/css\">*{stroke-linecap:butt;stroke-linejoin:round;}</style>\r\n </defs>\r\n <g id=\"figure_1\">\r\n  <g id=\"patch_1\">\r\n   <path d=\"M 0 262.19625 \r\nL 392.14375 262.19625 \r\nL 392.14375 0 \r\nL 0 0 \r\nz\r\n\" style=\"fill:none;\"/>\r\n  </g>\r\n  <g id=\"axes_1\">\r\n   <g id=\"patch_2\">\r\n    <path d=\"M 50.14375 224.64 \r\nL 384.94375 224.64 \r\nL 384.94375 7.2 \r\nL 50.14375 7.2 \r\nz\r\n\" style=\"fill:#ffffff;\"/>\r\n   </g>\r\n   <g id=\"matplotlib.axis_1\">\r\n    <g id=\"xtick_1\">\r\n     <g id=\"line2d_1\">\r\n      <defs>\r\n       <path d=\"M 0 0 \r\nL 0 3.5 \r\n\" id=\"mde9c18b17d\" style=\"stroke:#000000;stroke-width:0.8;\"/>\r\n      </defs>\r\n      <g>\r\n       <use style=\"stroke:#000000;stroke-width:0.8;\" x=\"64.967678\" xlink:href=\"#mde9c18b17d\" y=\"224.64\"/>\r\n      </g>\r\n     </g>\r\n     <g id=\"text_1\">\r\n      <!-- 2019-01 -->\r\n      <g transform=\"translate(44.076272 239.238437)scale(0.1 -0.1)\">\r\n       <defs>\r\n        <path d=\"M 19.1875 8.296875 \r\nL 53.609375 8.296875 \r\nL 53.609375 0 \r\nL 7.328125 0 \r\nL 7.328125 8.296875 \r\nQ 12.9375 14.109375 22.625 23.890625 \r\nQ 32.328125 33.6875 34.8125 36.53125 \r\nQ 39.546875 41.84375 41.421875 45.53125 \r\nQ 43.3125 49.21875 43.3125 52.78125 \r\nQ 43.3125 58.59375 39.234375 62.25 \r\nQ 35.15625 65.921875 28.609375 65.921875 \r\nQ 23.96875 65.921875 18.8125 64.3125 \r\nQ 13.671875 62.703125 7.8125 59.421875 \r\nL 7.8125 69.390625 \r\nQ 13.765625 71.78125 18.9375 73 \r\nQ 24.125 74.21875 28.421875 74.21875 \r\nQ 39.75 74.21875 46.484375 68.546875 \r\nQ 53.21875 62.890625 53.21875 53.421875 \r\nQ 53.21875 48.921875 51.53125 44.890625 \r\nQ 49.859375 40.875 45.40625 35.40625 \r\nQ 44.1875 33.984375 37.640625 27.21875 \r\nQ 31.109375 20.453125 19.1875 8.296875 \r\nz\r\n\" id=\"DejaVuSans-50\"/>\r\n        <path d=\"M 31.78125 66.40625 \r\nQ 24.171875 66.40625 20.328125 58.90625 \r\nQ 16.5 51.421875 16.5 36.375 \r\nQ 16.5 21.390625 20.328125 13.890625 \r\nQ 24.171875 6.390625 31.78125 6.390625 \r\nQ 39.453125 6.390625 43.28125 13.890625 \r\nQ 47.125 21.390625 47.125 36.375 \r\nQ 47.125 51.421875 43.28125 58.90625 \r\nQ 39.453125 66.40625 31.78125 66.40625 \r\nz\r\nM 31.78125 74.21875 \r\nQ 44.046875 74.21875 50.515625 64.515625 \r\nQ 56.984375 54.828125 56.984375 36.375 \r\nQ 56.984375 17.96875 50.515625 8.265625 \r\nQ 44.046875 -1.421875 31.78125 -1.421875 \r\nQ 19.53125 -1.421875 13.0625 8.265625 \r\nQ 6.59375 17.96875 6.59375 36.375 \r\nQ 6.59375 54.828125 13.0625 64.515625 \r\nQ 19.53125 74.21875 31.78125 74.21875 \r\nz\r\n\" id=\"DejaVuSans-48\"/>\r\n        <path d=\"M 12.40625 8.296875 \r\nL 28.515625 8.296875 \r\nL 28.515625 63.921875 \r\nL 10.984375 60.40625 \r\nL 10.984375 69.390625 \r\nL 28.421875 72.90625 \r\nL 38.28125 72.90625 \r\nL 38.28125 8.296875 \r\nL 54.390625 8.296875 \r\nL 54.390625 0 \r\nL 12.40625 0 \r\nz\r\n\" id=\"DejaVuSans-49\"/>\r\n        <path d=\"M 10.984375 1.515625 \r\nL 10.984375 10.5 \r\nQ 14.703125 8.734375 18.5 7.8125 \r\nQ 22.3125 6.890625 25.984375 6.890625 \r\nQ 35.75 6.890625 40.890625 13.453125 \r\nQ 46.046875 20.015625 46.78125 33.40625 \r\nQ 43.953125 29.203125 39.59375 26.953125 \r\nQ 35.25 24.703125 29.984375 24.703125 \r\nQ 19.046875 24.703125 12.671875 31.3125 \r\nQ 6.296875 37.9375 6.296875 49.421875 \r\nQ 6.296875 60.640625 12.9375 67.421875 \r\nQ 19.578125 74.21875 30.609375 74.21875 \r\nQ 43.265625 74.21875 49.921875 64.515625 \r\nQ 56.59375 54.828125 56.59375 36.375 \r\nQ 56.59375 19.140625 48.40625 8.859375 \r\nQ 40.234375 -1.421875 26.421875 -1.421875 \r\nQ 22.703125 -1.421875 18.890625 -0.6875 \r\nQ 15.09375 0.046875 10.984375 1.515625 \r\nz\r\nM 30.609375 32.421875 \r\nQ 37.25 32.421875 41.125 36.953125 \r\nQ 45.015625 41.5 45.015625 49.421875 \r\nQ 45.015625 57.28125 41.125 61.84375 \r\nQ 37.25 66.40625 30.609375 66.40625 \r\nQ 23.96875 66.40625 20.09375 61.84375 \r\nQ 16.21875 57.28125 16.21875 49.421875 \r\nQ 16.21875 41.5 20.09375 36.953125 \r\nQ 23.96875 32.421875 30.609375 32.421875 \r\nz\r\n\" id=\"DejaVuSans-57\"/>\r\n        <path d=\"M 4.890625 31.390625 \r\nL 31.203125 31.390625 \r\nL 31.203125 23.390625 \r\nL 4.890625 23.390625 \r\nz\r\n\" id=\"DejaVuSans-45\"/>\r\n       </defs>\r\n       <use xlink:href=\"#DejaVuSans-50\"/>\r\n       <use x=\"63.623047\" xlink:href=\"#DejaVuSans-48\"/>\r\n       <use x=\"127.246094\" xlink:href=\"#DejaVuSans-49\"/>\r\n       <use x=\"190.869141\" xlink:href=\"#DejaVuSans-57\"/>\r\n       <use x=\"254.492188\" xlink:href=\"#DejaVuSans-45\"/>\r\n       <use x=\"290.576172\" xlink:href=\"#DejaVuSans-48\"/>\r\n       <use x=\"354.199219\" xlink:href=\"#DejaVuSans-49\"/>\r\n      </g>\r\n     </g>\r\n    </g>\r\n    <g id=\"xtick_2\">\r\n     <g id=\"line2d_2\">\r\n      <g>\r\n       <use style=\"stroke:#000000;stroke-width:0.8;\" x=\"100.450486\" xlink:href=\"#mde9c18b17d\" y=\"224.64\"/>\r\n      </g>\r\n     </g>\r\n     <g id=\"text_2\">\r\n      <!-- 2019-04 -->\r\n      <g transform=\"translate(79.55908 239.238437)scale(0.1 -0.1)\">\r\n       <defs>\r\n        <path d=\"M 37.796875 64.3125 \r\nL 12.890625 25.390625 \r\nL 37.796875 25.390625 \r\nz\r\nM 35.203125 72.90625 \r\nL 47.609375 72.90625 \r\nL 47.609375 25.390625 \r\nL 58.015625 25.390625 \r\nL 58.015625 17.1875 \r\nL 47.609375 17.1875 \r\nL 47.609375 0 \r\nL 37.796875 0 \r\nL 37.796875 17.1875 \r\nL 4.890625 17.1875 \r\nL 4.890625 26.703125 \r\nz\r\n\" id=\"DejaVuSans-52\"/>\r\n       </defs>\r\n       <use xlink:href=\"#DejaVuSans-50\"/>\r\n       <use x=\"63.623047\" xlink:href=\"#DejaVuSans-48\"/>\r\n       <use x=\"127.246094\" xlink:href=\"#DejaVuSans-49\"/>\r\n       <use x=\"190.869141\" xlink:href=\"#DejaVuSans-57\"/>\r\n       <use x=\"254.492188\" xlink:href=\"#DejaVuSans-45\"/>\r\n       <use x=\"290.576172\" xlink:href=\"#DejaVuSans-48\"/>\r\n       <use x=\"354.199219\" xlink:href=\"#DejaVuSans-52\"/>\r\n      </g>\r\n     </g>\r\n    </g>\r\n    <g id=\"xtick_3\">\r\n     <g id=\"line2d_3\">\r\n      <g>\r\n       <use style=\"stroke:#000000;stroke-width:0.8;\" x=\"136.327547\" xlink:href=\"#mde9c18b17d\" y=\"224.64\"/>\r\n      </g>\r\n     </g>\r\n     <g id=\"text_3\">\r\n      <!-- 2019-07 -->\r\n      <g transform=\"translate(115.43614 239.238437)scale(0.1 -0.1)\">\r\n       <defs>\r\n        <path d=\"M 8.203125 72.90625 \r\nL 55.078125 72.90625 \r\nL 55.078125 68.703125 \r\nL 28.609375 0 \r\nL 18.3125 0 \r\nL 43.21875 64.59375 \r\nL 8.203125 64.59375 \r\nz\r\n\" id=\"DejaVuSans-55\"/>\r\n       </defs>\r\n       <use xlink:href=\"#DejaVuSans-50\"/>\r\n       <use x=\"63.623047\" xlink:href=\"#DejaVuSans-48\"/>\r\n       <use x=\"127.246094\" xlink:href=\"#DejaVuSans-49\"/>\r\n       <use x=\"190.869141\" xlink:href=\"#DejaVuSans-57\"/>\r\n       <use x=\"254.492188\" xlink:href=\"#DejaVuSans-45\"/>\r\n       <use x=\"290.576172\" xlink:href=\"#DejaVuSans-48\"/>\r\n       <use x=\"354.199219\" xlink:href=\"#DejaVuSans-55\"/>\r\n      </g>\r\n     </g>\r\n    </g>\r\n    <g id=\"xtick_4\">\r\n     <g id=\"line2d_4\">\r\n      <g>\r\n       <use style=\"stroke:#000000;stroke-width:0.8;\" x=\"172.598861\" xlink:href=\"#mde9c18b17d\" y=\"224.64\"/>\r\n      </g>\r\n     </g>\r\n     <g id=\"text_4\">\r\n      <!-- 2019-10 -->\r\n      <g transform=\"translate(151.707454 239.238437)scale(0.1 -0.1)\">\r\n       <use xlink:href=\"#DejaVuSans-50\"/>\r\n       <use x=\"63.623047\" xlink:href=\"#DejaVuSans-48\"/>\r\n       <use x=\"127.246094\" xlink:href=\"#DejaVuSans-49\"/>\r\n       <use x=\"190.869141\" xlink:href=\"#DejaVuSans-57\"/>\r\n       <use x=\"254.492188\" xlink:href=\"#DejaVuSans-45\"/>\r\n       <use x=\"290.576172\" xlink:href=\"#DejaVuSans-49\"/>\r\n       <use x=\"354.199219\" xlink:href=\"#DejaVuSans-48\"/>\r\n      </g>\r\n     </g>\r\n    </g>\r\n    <g id=\"xtick_5\">\r\n     <g id=\"line2d_5\">\r\n      <g>\r\n       <use style=\"stroke:#000000;stroke-width:0.8;\" x=\"208.870175\" xlink:href=\"#mde9c18b17d\" y=\"224.64\"/>\r\n      </g>\r\n     </g>\r\n     <g id=\"text_5\">\r\n      <!-- 2020-01 -->\r\n      <g transform=\"translate(187.978769 239.238437)scale(0.1 -0.1)\">\r\n       <use xlink:href=\"#DejaVuSans-50\"/>\r\n       <use x=\"63.623047\" xlink:href=\"#DejaVuSans-48\"/>\r\n       <use x=\"127.246094\" xlink:href=\"#DejaVuSans-50\"/>\r\n       <use x=\"190.869141\" xlink:href=\"#DejaVuSans-48\"/>\r\n       <use x=\"254.492188\" xlink:href=\"#DejaVuSans-45\"/>\r\n       <use x=\"290.576172\" xlink:href=\"#DejaVuSans-48\"/>\r\n       <use x=\"354.199219\" xlink:href=\"#DejaVuSans-49\"/>\r\n      </g>\r\n     </g>\r\n    </g>\r\n    <g id=\"xtick_6\">\r\n     <g id=\"line2d_6\">\r\n      <g>\r\n       <use style=\"stroke:#000000;stroke-width:0.8;\" x=\"244.747236\" xlink:href=\"#mde9c18b17d\" y=\"224.64\"/>\r\n      </g>\r\n     </g>\r\n     <g id=\"text_6\">\r\n      <!-- 2020-04 -->\r\n      <g transform=\"translate(223.855829 239.238437)scale(0.1 -0.1)\">\r\n       <use xlink:href=\"#DejaVuSans-50\"/>\r\n       <use x=\"63.623047\" xlink:href=\"#DejaVuSans-48\"/>\r\n       <use x=\"127.246094\" xlink:href=\"#DejaVuSans-50\"/>\r\n       <use x=\"190.869141\" xlink:href=\"#DejaVuSans-48\"/>\r\n       <use x=\"254.492188\" xlink:href=\"#DejaVuSans-45\"/>\r\n       <use x=\"290.576172\" xlink:href=\"#DejaVuSans-48\"/>\r\n       <use x=\"354.199219\" xlink:href=\"#DejaVuSans-52\"/>\r\n      </g>\r\n     </g>\r\n    </g>\r\n    <g id=\"xtick_7\">\r\n     <g id=\"line2d_7\">\r\n      <g>\r\n       <use style=\"stroke:#000000;stroke-width:0.8;\" x=\"280.624296\" xlink:href=\"#mde9c18b17d\" y=\"224.64\"/>\r\n      </g>\r\n     </g>\r\n     <g id=\"text_7\">\r\n      <!-- 2020-07 -->\r\n      <g transform=\"translate(259.73289 239.238437)scale(0.1 -0.1)\">\r\n       <use xlink:href=\"#DejaVuSans-50\"/>\r\n       <use x=\"63.623047\" xlink:href=\"#DejaVuSans-48\"/>\r\n       <use x=\"127.246094\" xlink:href=\"#DejaVuSans-50\"/>\r\n       <use x=\"190.869141\" xlink:href=\"#DejaVuSans-48\"/>\r\n       <use x=\"254.492188\" xlink:href=\"#DejaVuSans-45\"/>\r\n       <use x=\"290.576172\" xlink:href=\"#DejaVuSans-48\"/>\r\n       <use x=\"354.199219\" xlink:href=\"#DejaVuSans-55\"/>\r\n      </g>\r\n     </g>\r\n    </g>\r\n    <g id=\"xtick_8\">\r\n     <g id=\"line2d_8\">\r\n      <g>\r\n       <use style=\"stroke:#000000;stroke-width:0.8;\" x=\"316.895611\" xlink:href=\"#mde9c18b17d\" y=\"224.64\"/>\r\n      </g>\r\n     </g>\r\n     <g id=\"text_8\">\r\n      <!-- 2020-10 -->\r\n      <g transform=\"translate(296.004204 239.238437)scale(0.1 -0.1)\">\r\n       <use xlink:href=\"#DejaVuSans-50\"/>\r\n       <use x=\"63.623047\" xlink:href=\"#DejaVuSans-48\"/>\r\n       <use x=\"127.246094\" xlink:href=\"#DejaVuSans-50\"/>\r\n       <use x=\"190.869141\" xlink:href=\"#DejaVuSans-48\"/>\r\n       <use x=\"254.492188\" xlink:href=\"#DejaVuSans-45\"/>\r\n       <use x=\"290.576172\" xlink:href=\"#DejaVuSans-49\"/>\r\n       <use x=\"354.199219\" xlink:href=\"#DejaVuSans-48\"/>\r\n      </g>\r\n     </g>\r\n    </g>\r\n    <g id=\"xtick_9\">\r\n     <g id=\"line2d_9\">\r\n      <g>\r\n       <use style=\"stroke:#000000;stroke-width:0.8;\" x=\"353.166925\" xlink:href=\"#mde9c18b17d\" y=\"224.64\"/>\r\n      </g>\r\n     </g>\r\n     <g id=\"text_9\">\r\n      <!-- 2021-01 -->\r\n      <g transform=\"translate(332.275519 239.238437)scale(0.1 -0.1)\">\r\n       <use xlink:href=\"#DejaVuSans-50\"/>\r\n       <use x=\"63.623047\" xlink:href=\"#DejaVuSans-48\"/>\r\n       <use x=\"127.246094\" xlink:href=\"#DejaVuSans-50\"/>\r\n       <use x=\"190.869141\" xlink:href=\"#DejaVuSans-49\"/>\r\n       <use x=\"254.492188\" xlink:href=\"#DejaVuSans-45\"/>\r\n       <use x=\"290.576172\" xlink:href=\"#DejaVuSans-48\"/>\r\n       <use x=\"354.199219\" xlink:href=\"#DejaVuSans-49\"/>\r\n      </g>\r\n     </g>\r\n    </g>\r\n    <g id=\"text_10\">\r\n     <!-- time -->\r\n     <g transform=\"translate(206.247656 252.916562)scale(0.1 -0.1)\">\r\n      <defs>\r\n       <path d=\"M 18.3125 70.21875 \r\nL 18.3125 54.6875 \r\nL 36.8125 54.6875 \r\nL 36.8125 47.703125 \r\nL 18.3125 47.703125 \r\nL 18.3125 18.015625 \r\nQ 18.3125 11.328125 20.140625 9.421875 \r\nQ 21.96875 7.515625 27.59375 7.515625 \r\nL 36.8125 7.515625 \r\nL 36.8125 0 \r\nL 27.59375 0 \r\nQ 17.1875 0 13.234375 3.875 \r\nQ 9.28125 7.765625 9.28125 18.015625 \r\nL 9.28125 47.703125 \r\nL 2.6875 47.703125 \r\nL 2.6875 54.6875 \r\nL 9.28125 54.6875 \r\nL 9.28125 70.21875 \r\nz\r\n\" id=\"DejaVuSans-116\"/>\r\n       <path d=\"M 9.421875 54.6875 \r\nL 18.40625 54.6875 \r\nL 18.40625 0 \r\nL 9.421875 0 \r\nz\r\nM 9.421875 75.984375 \r\nL 18.40625 75.984375 \r\nL 18.40625 64.59375 \r\nL 9.421875 64.59375 \r\nz\r\n\" id=\"DejaVuSans-105\"/>\r\n       <path d=\"M 52 44.1875 \r\nQ 55.375 50.25 60.0625 53.125 \r\nQ 64.75 56 71.09375 56 \r\nQ 79.640625 56 84.28125 50.015625 \r\nQ 88.921875 44.046875 88.921875 33.015625 \r\nL 88.921875 0 \r\nL 79.890625 0 \r\nL 79.890625 32.71875 \r\nQ 79.890625 40.578125 77.09375 44.375 \r\nQ 74.3125 48.1875 68.609375 48.1875 \r\nQ 61.625 48.1875 57.5625 43.546875 \r\nQ 53.515625 38.921875 53.515625 30.90625 \r\nL 53.515625 0 \r\nL 44.484375 0 \r\nL 44.484375 32.71875 \r\nQ 44.484375 40.625 41.703125 44.40625 \r\nQ 38.921875 48.1875 33.109375 48.1875 \r\nQ 26.21875 48.1875 22.15625 43.53125 \r\nQ 18.109375 38.875 18.109375 30.90625 \r\nL 18.109375 0 \r\nL 9.078125 0 \r\nL 9.078125 54.6875 \r\nL 18.109375 54.6875 \r\nL 18.109375 46.1875 \r\nQ 21.1875 51.21875 25.484375 53.609375 \r\nQ 29.78125 56 35.6875 56 \r\nQ 41.65625 56 45.828125 52.96875 \r\nQ 50 49.953125 52 44.1875 \r\nz\r\n\" id=\"DejaVuSans-109\"/>\r\n       <path d=\"M 56.203125 29.59375 \r\nL 56.203125 25.203125 \r\nL 14.890625 25.203125 \r\nQ 15.484375 15.921875 20.484375 11.0625 \r\nQ 25.484375 6.203125 34.421875 6.203125 \r\nQ 39.59375 6.203125 44.453125 7.46875 \r\nQ 49.3125 8.734375 54.109375 11.28125 \r\nL 54.109375 2.78125 \r\nQ 49.265625 0.734375 44.1875 -0.34375 \r\nQ 39.109375 -1.421875 33.890625 -1.421875 \r\nQ 20.796875 -1.421875 13.15625 6.1875 \r\nQ 5.515625 13.8125 5.515625 26.8125 \r\nQ 5.515625 40.234375 12.765625 48.109375 \r\nQ 20.015625 56 32.328125 56 \r\nQ 43.359375 56 49.78125 48.890625 \r\nQ 56.203125 41.796875 56.203125 29.59375 \r\nz\r\nM 47.21875 32.234375 \r\nQ 47.125 39.59375 43.09375 43.984375 \r\nQ 39.0625 48.390625 32.421875 48.390625 \r\nQ 24.90625 48.390625 20.390625 44.140625 \r\nQ 15.875 39.890625 15.1875 32.171875 \r\nz\r\n\" id=\"DejaVuSans-101\"/>\r\n      </defs>\r\n      <use xlink:href=\"#DejaVuSans-116\"/>\r\n      <use x=\"39.208984\" xlink:href=\"#DejaVuSans-105\"/>\r\n      <use x=\"66.992188\" xlink:href=\"#DejaVuSans-109\"/>\r\n      <use x=\"164.404297\" xlink:href=\"#DejaVuSans-101\"/>\r\n     </g>\r\n    </g>\r\n   </g>\r\n   <g id=\"matplotlib.axis_2\">\r\n    <g id=\"ytick_1\">\r\n     <g id=\"line2d_10\">\r\n      <defs>\r\n       <path d=\"M 0 0 \r\nL -3.5 0 \r\n\" id=\"m2c83c38daf\" style=\"stroke:#000000;stroke-width:0.8;\"/>\r\n      </defs>\r\n      <g>\r\n       <use style=\"stroke:#000000;stroke-width:0.8;\" x=\"50.14375\" xlink:href=\"#m2c83c38daf\" y=\"202.694639\"/>\r\n      </g>\r\n     </g>\r\n     <g id=\"text_11\">\r\n      <!-- 12.5 -->\r\n      <g transform=\"translate(20.878125 206.493858)scale(0.1 -0.1)\">\r\n       <defs>\r\n        <path d=\"M 10.6875 12.40625 \r\nL 21 12.40625 \r\nL 21 0 \r\nL 10.6875 0 \r\nz\r\n\" id=\"DejaVuSans-46\"/>\r\n        <path d=\"M 10.796875 72.90625 \r\nL 49.515625 72.90625 \r\nL 49.515625 64.59375 \r\nL 19.828125 64.59375 \r\nL 19.828125 46.734375 \r\nQ 21.96875 47.46875 24.109375 47.828125 \r\nQ 26.265625 48.1875 28.421875 48.1875 \r\nQ 40.625 48.1875 47.75 41.5 \r\nQ 54.890625 34.8125 54.890625 23.390625 \r\nQ 54.890625 11.625 47.5625 5.09375 \r\nQ 40.234375 -1.421875 26.90625 -1.421875 \r\nQ 22.3125 -1.421875 17.546875 -0.640625 \r\nQ 12.796875 0.140625 7.71875 1.703125 \r\nL 7.71875 11.625 \r\nQ 12.109375 9.234375 16.796875 8.0625 \r\nQ 21.484375 6.890625 26.703125 6.890625 \r\nQ 35.15625 6.890625 40.078125 11.328125 \r\nQ 45.015625 15.765625 45.015625 23.390625 \r\nQ 45.015625 31 40.078125 35.4375 \r\nQ 35.15625 39.890625 26.703125 39.890625 \r\nQ 22.75 39.890625 18.8125 39.015625 \r\nQ 14.890625 38.140625 10.796875 36.28125 \r\nz\r\n\" id=\"DejaVuSans-53\"/>\r\n       </defs>\r\n       <use xlink:href=\"#DejaVuSans-49\"/>\r\n       <use x=\"63.623047\" xlink:href=\"#DejaVuSans-50\"/>\r\n       <use x=\"127.246094\" xlink:href=\"#DejaVuSans-46\"/>\r\n       <use x=\"159.033203\" xlink:href=\"#DejaVuSans-53\"/>\r\n      </g>\r\n     </g>\r\n    </g>\r\n    <g id=\"ytick_2\">\r\n     <g id=\"line2d_11\">\r\n      <g>\r\n       <use style=\"stroke:#000000;stroke-width:0.8;\" x=\"50.14375\" xlink:href=\"#m2c83c38daf\" y=\"177.77372\"/>\r\n      </g>\r\n     </g>\r\n     <g id=\"text_12\">\r\n      <!-- 15.0 -->\r\n      <g transform=\"translate(20.878125 181.572939)scale(0.1 -0.1)\">\r\n       <use xlink:href=\"#DejaVuSans-49\"/>\r\n       <use x=\"63.623047\" xlink:href=\"#DejaVuSans-53\"/>\r\n       <use x=\"127.246094\" xlink:href=\"#DejaVuSans-46\"/>\r\n       <use x=\"159.033203\" xlink:href=\"#DejaVuSans-48\"/>\r\n      </g>\r\n     </g>\r\n    </g>\r\n    <g id=\"ytick_3\">\r\n     <g id=\"line2d_12\">\r\n      <g>\r\n       <use style=\"stroke:#000000;stroke-width:0.8;\" x=\"50.14375\" xlink:href=\"#m2c83c38daf\" y=\"152.852802\"/>\r\n      </g>\r\n     </g>\r\n     <g id=\"text_13\">\r\n      <!-- 17.5 -->\r\n      <g transform=\"translate(20.878125 156.65202)scale(0.1 -0.1)\">\r\n       <use xlink:href=\"#DejaVuSans-49\"/>\r\n       <use x=\"63.623047\" xlink:href=\"#DejaVuSans-55\"/>\r\n       <use x=\"127.246094\" xlink:href=\"#DejaVuSans-46\"/>\r\n       <use x=\"159.033203\" xlink:href=\"#DejaVuSans-53\"/>\r\n      </g>\r\n     </g>\r\n    </g>\r\n    <g id=\"ytick_4\">\r\n     <g id=\"line2d_13\">\r\n      <g>\r\n       <use style=\"stroke:#000000;stroke-width:0.8;\" x=\"50.14375\" xlink:href=\"#m2c83c38daf\" y=\"127.931883\"/>\r\n      </g>\r\n     </g>\r\n     <g id=\"text_14\">\r\n      <!-- 20.0 -->\r\n      <g transform=\"translate(20.878125 131.731102)scale(0.1 -0.1)\">\r\n       <use xlink:href=\"#DejaVuSans-50\"/>\r\n       <use x=\"63.623047\" xlink:href=\"#DejaVuSans-48\"/>\r\n       <use x=\"127.246094\" xlink:href=\"#DejaVuSans-46\"/>\r\n       <use x=\"159.033203\" xlink:href=\"#DejaVuSans-48\"/>\r\n      </g>\r\n     </g>\r\n    </g>\r\n    <g id=\"ytick_5\">\r\n     <g id=\"line2d_14\">\r\n      <g>\r\n       <use style=\"stroke:#000000;stroke-width:0.8;\" x=\"50.14375\" xlink:href=\"#m2c83c38daf\" y=\"103.010964\"/>\r\n      </g>\r\n     </g>\r\n     <g id=\"text_15\">\r\n      <!-- 22.5 -->\r\n      <g transform=\"translate(20.878125 106.810183)scale(0.1 -0.1)\">\r\n       <use xlink:href=\"#DejaVuSans-50\"/>\r\n       <use x=\"63.623047\" xlink:href=\"#DejaVuSans-50\"/>\r\n       <use x=\"127.246094\" xlink:href=\"#DejaVuSans-46\"/>\r\n       <use x=\"159.033203\" xlink:href=\"#DejaVuSans-53\"/>\r\n      </g>\r\n     </g>\r\n    </g>\r\n    <g id=\"ytick_6\">\r\n     <g id=\"line2d_15\">\r\n      <g>\r\n       <use style=\"stroke:#000000;stroke-width:0.8;\" x=\"50.14375\" xlink:href=\"#m2c83c38daf\" y=\"78.090045\"/>\r\n      </g>\r\n     </g>\r\n     <g id=\"text_16\">\r\n      <!-- 25.0 -->\r\n      <g transform=\"translate(20.878125 81.889264)scale(0.1 -0.1)\">\r\n       <use xlink:href=\"#DejaVuSans-50\"/>\r\n       <use x=\"63.623047\" xlink:href=\"#DejaVuSans-53\"/>\r\n       <use x=\"127.246094\" xlink:href=\"#DejaVuSans-46\"/>\r\n       <use x=\"159.033203\" xlink:href=\"#DejaVuSans-48\"/>\r\n      </g>\r\n     </g>\r\n    </g>\r\n    <g id=\"ytick_7\">\r\n     <g id=\"line2d_16\">\r\n      <g>\r\n       <use style=\"stroke:#000000;stroke-width:0.8;\" x=\"50.14375\" xlink:href=\"#m2c83c38daf\" y=\"53.169127\"/>\r\n      </g>\r\n     </g>\r\n     <g id=\"text_17\">\r\n      <!-- 27.5 -->\r\n      <g transform=\"translate(20.878125 56.968345)scale(0.1 -0.1)\">\r\n       <use xlink:href=\"#DejaVuSans-50\"/>\r\n       <use x=\"63.623047\" xlink:href=\"#DejaVuSans-55\"/>\r\n       <use x=\"127.246094\" xlink:href=\"#DejaVuSans-46\"/>\r\n       <use x=\"159.033203\" xlink:href=\"#DejaVuSans-53\"/>\r\n      </g>\r\n     </g>\r\n    </g>\r\n    <g id=\"ytick_8\">\r\n     <g id=\"line2d_17\">\r\n      <g>\r\n       <use style=\"stroke:#000000;stroke-width:0.8;\" x=\"50.14375\" xlink:href=\"#m2c83c38daf\" y=\"28.248208\"/>\r\n      </g>\r\n     </g>\r\n     <g id=\"text_18\">\r\n      <!-- 30.0 -->\r\n      <g transform=\"translate(20.878125 32.047427)scale(0.1 -0.1)\">\r\n       <defs>\r\n        <path d=\"M 40.578125 39.3125 \r\nQ 47.65625 37.796875 51.625 33 \r\nQ 55.609375 28.21875 55.609375 21.1875 \r\nQ 55.609375 10.40625 48.1875 4.484375 \r\nQ 40.765625 -1.421875 27.09375 -1.421875 \r\nQ 22.515625 -1.421875 17.65625 -0.515625 \r\nQ 12.796875 0.390625 7.625 2.203125 \r\nL 7.625 11.71875 \r\nQ 11.71875 9.328125 16.59375 8.109375 \r\nQ 21.484375 6.890625 26.8125 6.890625 \r\nQ 36.078125 6.890625 40.9375 10.546875 \r\nQ 45.796875 14.203125 45.796875 21.1875 \r\nQ 45.796875 27.640625 41.28125 31.265625 \r\nQ 36.765625 34.90625 28.71875 34.90625 \r\nL 20.21875 34.90625 \r\nL 20.21875 43.015625 \r\nL 29.109375 43.015625 \r\nQ 36.375 43.015625 40.234375 45.921875 \r\nQ 44.09375 48.828125 44.09375 54.296875 \r\nQ 44.09375 59.90625 40.109375 62.90625 \r\nQ 36.140625 65.921875 28.71875 65.921875 \r\nQ 24.65625 65.921875 20.015625 65.03125 \r\nQ 15.375 64.15625 9.8125 62.3125 \r\nL 9.8125 71.09375 \r\nQ 15.4375 72.65625 20.34375 73.4375 \r\nQ 25.25 74.21875 29.59375 74.21875 \r\nQ 40.828125 74.21875 47.359375 69.109375 \r\nQ 53.90625 64.015625 53.90625 55.328125 \r\nQ 53.90625 49.265625 50.4375 45.09375 \r\nQ 46.96875 40.921875 40.578125 39.3125 \r\nz\r\n\" id=\"DejaVuSans-51\"/>\r\n       </defs>\r\n       <use xlink:href=\"#DejaVuSans-51\"/>\r\n       <use x=\"63.623047\" xlink:href=\"#DejaVuSans-48\"/>\r\n       <use x=\"127.246094\" xlink:href=\"#DejaVuSans-46\"/>\r\n       <use x=\"159.033203\" xlink:href=\"#DejaVuSans-48\"/>\r\n      </g>\r\n     </g>\r\n    </g>\r\n    <g id=\"text_19\">\r\n     <!-- price -->\r\n     <g transform=\"translate(14.798438 128.364531)rotate(-90)scale(0.1 -0.1)\">\r\n      <defs>\r\n       <path d=\"M 18.109375 8.203125 \r\nL 18.109375 -20.796875 \r\nL 9.078125 -20.796875 \r\nL 9.078125 54.6875 \r\nL 18.109375 54.6875 \r\nL 18.109375 46.390625 \r\nQ 20.953125 51.265625 25.265625 53.625 \r\nQ 29.59375 56 35.59375 56 \r\nQ 45.5625 56 51.78125 48.09375 \r\nQ 58.015625 40.1875 58.015625 27.296875 \r\nQ 58.015625 14.40625 51.78125 6.484375 \r\nQ 45.5625 -1.421875 35.59375 -1.421875 \r\nQ 29.59375 -1.421875 25.265625 0.953125 \r\nQ 20.953125 3.328125 18.109375 8.203125 \r\nz\r\nM 48.6875 27.296875 \r\nQ 48.6875 37.203125 44.609375 42.84375 \r\nQ 40.53125 48.484375 33.40625 48.484375 \r\nQ 26.265625 48.484375 22.1875 42.84375 \r\nQ 18.109375 37.203125 18.109375 27.296875 \r\nQ 18.109375 17.390625 22.1875 11.75 \r\nQ 26.265625 6.109375 33.40625 6.109375 \r\nQ 40.53125 6.109375 44.609375 11.75 \r\nQ 48.6875 17.390625 48.6875 27.296875 \r\nz\r\n\" id=\"DejaVuSans-112\"/>\r\n       <path d=\"M 41.109375 46.296875 \r\nQ 39.59375 47.171875 37.8125 47.578125 \r\nQ 36.03125 48 33.890625 48 \r\nQ 26.265625 48 22.1875 43.046875 \r\nQ 18.109375 38.09375 18.109375 28.8125 \r\nL 18.109375 0 \r\nL 9.078125 0 \r\nL 9.078125 54.6875 \r\nL 18.109375 54.6875 \r\nL 18.109375 46.1875 \r\nQ 20.953125 51.171875 25.484375 53.578125 \r\nQ 30.03125 56 36.53125 56 \r\nQ 37.453125 56 38.578125 55.875 \r\nQ 39.703125 55.765625 41.0625 55.515625 \r\nz\r\n\" id=\"DejaVuSans-114\"/>\r\n       <path d=\"M 48.78125 52.59375 \r\nL 48.78125 44.1875 \r\nQ 44.96875 46.296875 41.140625 47.34375 \r\nQ 37.3125 48.390625 33.40625 48.390625 \r\nQ 24.65625 48.390625 19.8125 42.84375 \r\nQ 14.984375 37.3125 14.984375 27.296875 \r\nQ 14.984375 17.28125 19.8125 11.734375 \r\nQ 24.65625 6.203125 33.40625 6.203125 \r\nQ 37.3125 6.203125 41.140625 7.25 \r\nQ 44.96875 8.296875 48.78125 10.40625 \r\nL 48.78125 2.09375 \r\nQ 45.015625 0.34375 40.984375 -0.53125 \r\nQ 36.96875 -1.421875 32.421875 -1.421875 \r\nQ 20.0625 -1.421875 12.78125 6.34375 \r\nQ 5.515625 14.109375 5.515625 27.296875 \r\nQ 5.515625 40.671875 12.859375 48.328125 \r\nQ 20.21875 56 33.015625 56 \r\nQ 37.15625 56 41.109375 55.140625 \r\nQ 45.0625 54.296875 48.78125 52.59375 \r\nz\r\n\" id=\"DejaVuSans-99\"/>\r\n      </defs>\r\n      <use xlink:href=\"#DejaVuSans-112\"/>\r\n      <use x=\"63.476562\" xlink:href=\"#DejaVuSans-114\"/>\r\n      <use x=\"104.589844\" xlink:href=\"#DejaVuSans-105\"/>\r\n      <use x=\"132.373047\" xlink:href=\"#DejaVuSans-99\"/>\r\n      <use x=\"187.353516\" xlink:href=\"#DejaVuSans-101\"/>\r\n     </g>\r\n    </g>\r\n   </g>\r\n   <g id=\"line2d_18\">\r\n    <path clip-path=\"url(#pa34dcee395)\" d=\"M 369.725568 43.798861 \r\nL 368.937061 50.178616 \r\nL 368.542808 52.770392 \r\nL 368.148555 47.088423 \r\nL 366.965794 38.017208 \r\nL 366.571541 40.010882 \r\nL 366.177287 39.711831 \r\nL 365.783034 41.60582 \r\nL 365.388781 52.870076 \r\nL 364.20602 61.243504 \r\nL 363.811767 50.577351 \r\nL 363.02326 58.15331 \r\nL 361.446246 57.256157 \r\nL 361.051993 52.670708 \r\nL 360.263486 41.306769 \r\nL 359.869233 47.487157 \r\nL 358.686473 46.988739 \r\nL 358.292219 33.73081 \r\nL 357.897966 36.72132 \r\nL 357.503712 21.968136 \r\nL 357.109459 19.675412 \r\nL 355.926699 17.083636 \r\nL 355.532445 18.27984 \r\nL 355.138192 27.550422 \r\nL 354.743938 27.849473 \r\nL 354.349685 39.113729 \r\nL 352.378418 44.795698 \r\nL 351.589911 46.390637 \r\nL 349.618644 48.683361 \r\nL 349.224391 55.362168 \r\nL 348.830137 57.953943 \r\nL 347.647377 47.188106 \r\nL 347.253124 45.792535 \r\nL 346.85887 46.290953 \r\nL 346.464617 49.680198 \r\nL 346.070363 51.972923 \r\nL 344.887603 52.471341 \r\nL 344.49335 49.979249 \r\nL 344.099096 58.751412 \r\nL 343.704843 61.542555 \r\nL 343.310589 58.15331 \r\nL 342.127829 52.870076 \r\nL 341.339322 69.018831 \r\nL 340.945069 72.109025 \r\nL 340.550815 79.086882 \r\nL 339.368055 73.105862 \r\nL 338.973802 69.915984 \r\nL 338.579548 65.629586 \r\nL 338.185295 65.928637 \r\nL 337.791042 77.093209 \r\nL 336.608281 91.547341 \r\nL 336.214028 89.852719 \r\nL 335.819774 92.544178 \r\nL 335.425521 91.148607 \r\nL 335.031268 95.135954 \r\nL 333.848507 101.715076 \r\nL 333.454254 108.892301 \r\nL 333.060001 99.222984 \r\nL 332.665747 97.229311 \r\nL 332.271494 111.882811 \r\nL 331.088734 130.423975 \r\nL 330.69448 129.028403 \r\nL 330.300227 130.723026 \r\nL 329.905973 131.420811 \r\nL 328.32896 138.498352 \r\nL 327.934706 135.009424 \r\nL 327.540453 141.189812 \r\nL 327.146199 129.128087 \r\nL 326.751946 125.439791 \r\nL 325.569186 122.249913 \r\nL 325.174932 119.558454 \r\nL 324.780679 126.336944 \r\nL 324.386425 126.137577 \r\nL 323.992172 132.716699 \r\nL 322.809412 134.610689 \r\nL 322.415158 130.423975 \r\nL 321.626652 126.635995 \r\nL 320.049638 129.925556 \r\nL 319.655384 123.545801 \r\nL 319.261131 130.02524 \r\nL 318.472624 127.632832 \r\nL 317.289864 137.700883 \r\nL 316.895611 129.427138 \r\nL 316.107104 134.810056 \r\nL 315.71285 131.620179 \r\nL 314.53009 126.635995 \r\nL 314.135837 123.944536 \r\nL 313.741583 125.639158 \r\nL 313.34733 119.957189 \r\nL 312.953076 118.960352 \r\nL 311.770316 111.484076 \r\nL 311.376063 106.499893 \r\nL 310.981809 110.686607 \r\nL 310.587556 111.284709 \r\nL 310.193303 111.185025 \r\nL 309.010542 109.191352 \r\nL 308.616289 106.798944 \r\nL 308.222035 100.71824 \r\nL 307.827782 105.403372 \r\nL 306.250768 98.82425 \r\nL 305.856515 99.222984 \r\nL 305.462262 100.020454 \r\nL 305.068008 99.322668 \r\nL 304.673755 109.091668 \r\nL 303.490994 102.612229 \r\nL 303.096741 106.499893 \r\nL 302.702488 105.802107 \r\nL 302.308234 99.322668 \r\nL 301.913981 98.325831 \r\nL 300.731221 102.412862 \r\nL 299.942714 99.123301 \r\nL 299.54846 97.827413 \r\nL 299.154207 102.014127 \r\nL 297.971447 101.316342 \r\nL 297.577193 99.621719 \r\nL 297.18294 93.241964 \r\nL 296.788686 97.229311 \r\nL 296.394433 93.541015 \r\nL 295.211673 100.120138 \r\nL 294.817419 95.83374 \r\nL 294.423166 96.232474 \r\nL 294.028913 110.188189 \r\nL 293.634659 109.988821 \r\nL 292.451899 106.001474 \r\nL 292.057645 99.821087 \r\nL 291.663392 96.332158 \r\nL 291.269139 100.020454 \r\nL 290.874885 96.033107 \r\nL 289.297872 102.313178 \r\nL 288.903618 97.528362 \r\nL 288.509365 94.338484 \r\nL 288.115111 100.618556 \r\nL 286.932351 100.618556 \r\nL 286.538098 100.817923 \r\nL 286.143844 94.637535 \r\nL 285.749591 99.023617 \r\nL 285.355337 106.400209 \r\nL 284.172577 102.91128 \r\nL 283.778324 106.599576 \r\nL 283.38407 101.515709 \r\nL 282.989817 105.702423 \r\nL 282.595563 102.91128 \r\nL 281.412803 108.194515 \r\nL 281.01855 107.397046 \r\nL 280.624296 110.885974 \r\nL 280.230043 112.480913 \r\nL 279.83579 111.384393 \r\nL 278.653029 119.558454 \r\nL 278.258776 113.278383 \r\nL 277.864522 117.963515 \r\nL 277.470269 111.484076 \r\nL 277.076016 118.461934 \r\nL 275.499002 111.982495 \r\nL 275.104749 113.577434 \r\nL 274.710495 114.275219 \r\nL 274.316242 120.954026 \r\nL 273.133482 121.950862 \r\nL 271.950721 110.786291 \r\nL 271.556468 102.711913 \r\nL 270.373708 106.998311 \r\nL 269.979454 113.677117 \r\nL 269.585201 113.278383 \r\nL 269.190947 113.976168 \r\nL 268.796694 124.642322 \r\nL 267.613934 124.542638 \r\nL 267.21968 130.224607 \r\nL 266.825427 128.629669 \r\nL 264.85416 141.189812 \r\nL 264.459906 136.00626 \r\nL 264.065653 134.90974 \r\nL 263.6714 141.090128 \r\nL 263.277146 142.485699 \r\nL 262.094386 156.34173 \r\nL 261.305879 151.955648 \r\nL 260.911626 146.473046 \r\nL 260.517372 146.373363 \r\nL 259.334612 143.083801 \r\nL 258.940359 153.450904 \r\nL 258.546105 155.045842 \r\nL 258.151852 148.46672 \r\nL 257.757598 154.049006 \r\nL 255.786331 145.874944 \r\nL 254.997824 163.319587 \r\nL 253.815064 168.303771 \r\nL 253.420811 158.335404 \r\nL 253.026557 160.329077 \r\nL 252.238051 168.303771 \r\nL 251.05529 166.509465 \r\nL 250.661037 170.596496 \r\nL 250.266783 164.017373 \r\nL 249.87253 160.528445 \r\nL 249.478277 158.534771 \r\nL 247.901263 159.631291 \r\nL 247.50701 154.647108 \r\nL 247.112756 163.818006 \r\nL 246.718503 170.098077 \r\nL 245.535742 174.384475 \r\nL 245.141489 172.689853 \r\nL 244.747236 184.751577 \r\nL 244.352982 187.841771 \r\nL 243.958729 193.922476 \r\nL 242.775969 194.719945 \r\nL 242.381715 183.854424 \r\nL 241.987462 184.55221 \r\nL 241.593208 195.218363 \r\nL 241.198955 212.663006 \r\nL 239.621941 205.585466 \r\nL 239.227688 214.756364 \r\nL 238.833434 197.710455 \r\nL 238.439181 196.813302 \r\nL 237.256421 173.786373 \r\nL 236.862167 201.697802 \r\nL 236.467914 169.300608 \r\nL 236.073661 152.254699 \r\nL 235.679407 167.306934 \r\nL 233.70814 59.249831 \r\nL 233.313887 67.62326 \r\nL 232.919633 62.838443 \r\nL 231.736873 74.7008 \r\nL 231.34262 75.099535 \r\nL 230.948366 66.028321 \r\nL 228.977099 36.821004 \r\nL 228.188592 22.765606 \r\nL 227.794339 30.7403 \r\nL 227.400085 34.627963 \r\nL 226.217325 34.029861 \r\nL 225.823072 31.039351 \r\nL 225.428818 26.95232 \r\nL 225.034565 33.431759 \r\nL 224.640311 36.920688 \r\nL 223.457551 38.914361 \r\nL 223.063298 36.422269 \r\nL 222.669044 44.29728 \r\nL 222.274791 41.904871 \r\nL 221.880538 46.390637 \r\nL 220.697777 43.699178 \r\nL 220.303524 38.814677 \r\nL 219.90927 39.711831 \r\nL 219.515017 40.210249 \r\nL 219.120764 47.885892 \r\nL 217.938003 35.226065 \r\nL 217.54375 32.235555 \r\nL 217.149497 35.325749 \r\nL 216.36099 28.248208 \r\nL 215.17823 29.743463 \r\nL 214.783976 33.033024 \r\nL 214.389723 32.733973 \r\nL 213.601216 24.958647 \r\nL 212.418456 25.556749 \r\nL 210.841442 20.17383 \r\nL 209.658682 23.762443 \r\nL 209.264428 21.270351 \r\nL 208.081668 26.453902 \r\nL 206.898908 23.064657 \r\nL 206.504654 19.176994 \r\nL 205.321894 23.264024 \r\nL 204.139134 25.656432 \r\nL 203.74488 22.167504 \r\nL 203.350627 22.86529 \r\nL 202.956374 29.743463 \r\nL 202.56212 34.129545 \r\nL 201.37936 28.447575 \r\nL 200.985107 18.578891 \r\nL 200.590853 24.260861 \r\nL 200.1966 23.862126 \r\nL 199.802346 26.154851 \r\nL 198.619586 24.759279 \r\nL 198.225333 27.74979 \r\nL 197.831079 31.637453 \r\nL 197.436826 38.415943 \r\nL 197.042572 37.51879 \r\nL 195.859812 36.72132 \r\nL 195.465559 32.933341 \r\nL 195.071305 34.927014 \r\nL 194.677052 36.322586 \r\nL 194.282799 30.939667 \r\nL 193.100038 28.447575 \r\nL 192.705785 29.743463 \r\nL 191.917278 40.409616 \r\nL 191.523025 37.419106 \r\nL 189.946011 35.226065 \r\nL 189.551758 29.245045 \r\nL 189.157504 28.048841 \r\nL 188.763251 23.762443 \r\nL 187.58049 28.048841 \r\nL 187.186237 19.276677 \r\nL 186.791984 31.139035 \r\nL 186.39773 31.737137 \r\nL 186.003477 24.659596 \r\nL 184.820717 23.96181 \r\nL 184.426463 24.360545 \r\nL 183.637956 30.042514 \r\nL 183.243703 32.235555 \r\nL 182.060943 35.724484 \r\nL 181.666689 44.995065 \r\nL 181.272436 38.714994 \r\nL 180.878182 42.502973 \r\nL 180.483929 50.477667 \r\nL 179.301169 52.17229 \r\nL 178.906915 51.574188 \r\nL 178.512662 48.882729 \r\nL 177.724155 55.063116 \r\nL 176.541395 55.561535 \r\nL 176.147141 60.745086 \r\nL 175.752888 62.938127 \r\nL 175.358635 67.922311 \r\nL 174.964381 66.427055 \r\nL 173.781621 63.03781 \r\nL 173.387368 60.745086 \r\nL 172.993114 60.944453 \r\nL 172.598861 53.069443 \r\nL 170.627594 51.175453 \r\nL 170.23334 54.764065 \r\nL 169.839087 55.461851 \r\nL 169.444833 53.368494 \r\nL 168.262073 58.15331 \r\nL 167.86782 55.262484 \r\nL 167.473566 55.96027 \r\nL 166.685059 47.586841 \r\nL 165.502299 59.349515 \r\nL 165.108046 57.555208 \r\nL 164.713792 59.449198 \r\nL 164.319539 57.156474 \r\nL 163.925286 58.851096 \r\nL 161.954018 65.529902 \r\nL 161.559765 72.109025 \r\nL 161.165512 75.099535 \r\nL 159.982751 73.105862 \r\nL 159.588498 73.105862 \r\nL 159.194245 82.177076 \r\nL 158.799991 84.669168 \r\nL 158.405738 88.457148 \r\nL 157.222978 85.26727 \r\nL 156.828724 75.897005 \r\nL 156.434471 73.60428 \r\nL 156.040217 87.859046 \r\nL 155.645964 87.759362 \r\nL 154.463204 88.955566 \r\nL 154.06895 85.765688 \r\nL 153.280443 70.215035 \r\nL 152.88619 71.610607 \r\nL 151.70343 65.330535 \r\nL 151.309176 64.632749 \r\nL 150.914923 72.109025 \r\nL 150.520669 69.317882 \r\nL 150.126416 72.607443 \r\nL 148.943656 62.938127 \r\nL 148.549402 72.109025 \r\nL 148.155149 67.324208 \r\nL 147.366642 64.333698 \r\nL 146.183882 66.726106 \r\nL 145.789628 59.249831 \r\nL 145.395375 54.664382 \r\nL 145.001122 52.969759 \r\nL 144.606868 53.26881 \r\nL 143.424108 53.767229 \r\nL 143.029855 53.069443 \r\nL 142.241348 49.879565 \r\nL 141.847094 46.390637 \r\nL 140.664334 42.901708 \r\nL 140.270081 44.197596 \r\nL 139.875827 47.487157 \r\nL 139.08732 51.673872 \r\nL 137.90456 54.165963 \r\nL 137.510307 54.265647 \r\nL 136.7218 59.947617 \r\nL 136.327547 55.561535 \r\nL 135.144786 54.06628 \r\nL 134.750533 55.860586 \r\nL 134.356279 51.474504 \r\nL 133.962026 53.069443 \r\nL 133.567773 45.692851 \r\nL 132.385012 45.3938 \r\nL 131.596506 52.969759 \r\nL 131.202252 53.667545 \r\nL 130.807999 57.05679 \r\nL 129.625238 57.555208 \r\nL 129.230985 56.359004 \r\nL 128.836732 59.648566 \r\nL 128.442478 56.558372 \r\nL 128.048225 61.642239 \r\nL 126.865465 60.545719 \r\nL 126.076958 69.517249 \r\nL 125.682704 66.128004 \r\nL 125.288451 68.221362 \r\nL 124.105691 72.607443 \r\nL 123.711437 66.626423 \r\nL 122.92293 60.146984 \r\nL 122.528677 65.72927 \r\nL 121.345917 67.224525 \r\nL 120.951663 69.716617 \r\nL 120.55741 65.230851 \r\nL 120.163157 63.237178 \r\nL 119.768903 72.906494 \r\nL 118.586143 81.279923 \r\nL 117.797636 69.317882 \r\nL 117.403383 68.121678 \r\nL 117.009129 69.118515 \r\nL 115.826369 61.343188 \r\nL 115.432116 59.847933 \r\nL 115.037862 54.465014 \r\nL 114.643609 64.632749 \r\nL 114.249355 60.446035 \r\nL 113.066595 59.648566 \r\nL 112.672342 60.84477 \r\nL 111.883835 57.05679 \r\nL 111.489581 54.465014 \r\nL 110.306821 55.661219 \r\nL 109.912568 50.178616 \r\nL 109.518314 52.17229 \r\nL 109.124061 51.374821 \r\nL 108.729807 53.767229 \r\nL 107.152794 52.17229 \r\nL 106.75854 60.645402 \r\nL 106.364287 60.944453 \r\nL 105.970034 68.819464 \r\nL 104.787273 69.8163 \r\nL 104.39302 48.184943 \r\nL 103.998766 40.409616 \r\nL 103.604513 36.621637 \r\nL 103.21026 35.724484 \r\nL 102.027499 40.409616 \r\nL 101.633246 43.49981 \r\nL 101.238993 52.770392 \r\nL 100.844739 45.294116 \r\nL 100.450486 48.184943 \r\nL 99.267726 47.586841 \r\nL 98.873472 47.586841 \r\nL 98.479219 54.764065 \r\nL 98.084965 41.904871 \r\nL 97.690712 54.764065 \r\nL 96.507952 58.15331 \r\nL 96.113698 42.602657 \r\nL 95.719445 38.515626 \r\nL 95.325191 36.222902 \r\nL 94.930938 40.808351 \r\nL 93.748178 45.692851 \r\nL 93.353924 46.290953 \r\nL 92.959671 47.188106 \r\nL 92.565417 53.169127 \r\nL 92.171164 50.677035 \r\nL 90.988404 61.442872 \r\nL 90.59415 60.446035 \r\nL 88.22863 61.143821 \r\nL 87.834376 57.555208 \r\nL 87.440123 57.355841 \r\nL 87.04587 62.340025 \r\nL 86.651616 61.143821 \r\nL 85.468856 56.857423 \r\nL 85.074603 54.165963 \r\nL 84.680349 57.754576 \r\nL 84.286096 54.365331 \r\nL 83.891842 60.545719 \r\nL 82.709082 59.748249 \r\nL 82.314829 58.651729 \r\nL 81.920575 67.62326 \r\nL 81.526322 70.912821 \r\nL 81.132068 79.684984 \r\nL 79.949308 76.794158 \r\nL 79.555055 77.192892 \r\nL 79.160801 73.205545 \r\nL 78.766548 67.62326 \r\nL 78.372295 67.822627 \r\nL 77.189534 70.115351 \r\nL 76.795281 72.308392 \r\nL 76.401027 71.909658 \r\nL 76.006774 74.401749 \r\nL 75.612521 80.38277 \r\nL 74.035507 72.707127 \r\nL 73.641254 73.803647 \r\nL 73.247 76.794158 \r\nL 72.852747 72.806811 \r\nL 71.669986 74.102698 \r\nL 71.275733 76.495107 \r\nL 70.88148 79.884352 \r\nL 70.092973 79.585301 \r\nL 68.910213 78.189729 \r\nL 68.121706 73.305229 \r\nL 67.727452 78.48878 \r\nL 67.333199 76.993525 \r\nL 66.150439 80.881188 \r\nL 65.756185 81.578974 \r\nL 65.361932 87.460311 \r\nL 65.361932 87.460311 \r\n\" style=\"fill:none;stroke:#1f77b4;stroke-linecap:square;stroke-width:1.5;\"/>\r\n   </g>\r\n   <g id=\"patch_3\">\r\n    <path d=\"M 50.14375 224.64 \r\nL 50.14375 7.2 \r\n\" style=\"fill:none;stroke:#000000;stroke-linecap:square;stroke-linejoin:miter;stroke-width:0.8;\"/>\r\n   </g>\r\n   <g id=\"patch_4\">\r\n    <path d=\"M 384.94375 224.64 \r\nL 384.94375 7.2 \r\n\" style=\"fill:none;stroke:#000000;stroke-linecap:square;stroke-linejoin:miter;stroke-width:0.8;\"/>\r\n   </g>\r\n   <g id=\"patch_5\">\r\n    <path d=\"M 50.14375 224.64 \r\nL 384.94375 224.64 \r\n\" style=\"fill:none;stroke:#000000;stroke-linecap:square;stroke-linejoin:miter;stroke-width:0.8;\"/>\r\n   </g>\r\n   <g id=\"patch_6\">\r\n    <path d=\"M 50.14375 7.2 \r\nL 384.94375 7.2 \r\n\" style=\"fill:none;stroke:#000000;stroke-linecap:square;stroke-linejoin:miter;stroke-width:0.8;\"/>\r\n   </g>\r\n  </g>\r\n </g>\r\n <defs>\r\n  <clipPath id=\"pa34dcee395\">\r\n   <rect height=\"217.44\" width=\"334.8\" x=\"50.14375\" y=\"7.2\"/>\r\n  </clipPath>\r\n </defs>\r\n</svg>\r\n",
            "image/png": "[encoded data removed]"
          },
          "metadata": {
            "needs_background": "light"
          }
        }
      ],
      "source": [
        "plt.plot(df.index, df[\"close\"])\n",
        "plt.xlabel(\"time\")\n",
        "plt.ylabel(\"price\")\n",
        "plt.show()"
      ]
    },
    {
      "cell_type": "code",
      "execution_count": null,
      "metadata": {},
      "outputs": [],
      "source": []
    }
  ]
}