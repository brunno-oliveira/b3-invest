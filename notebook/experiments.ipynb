{
  "nbformat": 4,
  "nbformat_minor": 0,
  "metadata": {
    "colab": {
      "name": "b3.ipynb",
      "provenance": [],
      "collapsed_sections": []
    },
    "kernelspec": {
      "name": "python379jvsc74a57bd011788d199534453b3091baa8e21d49a7afe3aaf89a016b3a09f594b82a19522e",
      "display_name": "Python 3.7.9 64-bit"
    },
    "metadata": {
      "interpreter": {
        "hash": "11788d199534453b3091baa8e21d49a7afe3aaf89a016b3a09f594b82a19522e"
      }
    }
  },
  "cells": [
    {
      "cell_type": "code",
      "metadata": {
        "id": "R219RSmHeHvt"
      },
      "source": [
        "import yfinance as yf\n",
        "import pandas as pd\n",
        "import numpy as np"
      ],
      "execution_count": 1,
      "outputs": []
    },
    {
      "cell_type": "code",
      "execution_count": 3,
      "metadata": {},
      "outputs": [
        {
          "output_type": "stream",
          "name": "stdout",
          "text": [
            "[*********************100%***********************]  1 of 1 completed\n"
          ]
        }
      ],
      "source": [
        "ticker = 'RNEW11'\n",
        "df_history = yf.download(tickers=f\"{ticker}.SA\", period='2y')\n"
      ]
    },
    {
      "cell_type": "code",
      "execution_count": 4,
      "metadata": {},
      "outputs": [
        {
          "output_type": "execute_result",
          "data": {
            "text/plain": [
              "                 Open       High    Low      Close  Adj Close  Volume\n",
              "Date                                                                 \n",
              "2019-04-23  30.000000  31.150000  29.57  31.150000  31.150000    1900\n",
              "2019-04-24  30.860001  30.860001  28.43  29.879999  29.879999   19400\n",
              "2019-04-25  29.410000  30.830000  29.41  30.000000  30.000000    3600\n",
              "2019-04-26  30.000000  31.870001  30.00  31.870001  31.870001    8200\n",
              "2019-04-29  30.680000  32.889999  30.68  32.889999  32.889999    8800\n",
              "...               ...        ...    ...        ...        ...     ...\n",
              "2021-04-16  12.500000  12.500000  12.17  12.400000  12.400000    5500\n",
              "2021-04-19  12.210000  12.500000  12.10  12.360000  12.360000    8200\n",
              "2021-04-20  12.300000  12.400000  12.20  12.260000  12.260000    1600\n",
              "2021-04-22  12.270000  12.480000  12.24  12.270000  12.270000    2300\n",
              "2021-04-23  12.230000  12.500000  12.00  12.400000  12.400000   12600\n",
              "\n",
              "[494 rows x 6 columns]"
            ],
            "text/html": "<div>\n<style scoped>\n    .dataframe tbody tr th:only-of-type {\n        vertical-align: middle;\n    }\n\n    .dataframe tbody tr th {\n        vertical-align: top;\n    }\n\n    .dataframe thead th {\n        text-align: right;\n    }\n</style>\n<table border=\"1\" class=\"dataframe\">\n  <thead>\n    <tr style=\"text-align: right;\">\n      <th></th>\n      <th>Open</th>\n      <th>High</th>\n      <th>Low</th>\n      <th>Close</th>\n      <th>Adj Close</th>\n      <th>Volume</th>\n    </tr>\n    <tr>\n      <th>Date</th>\n      <th></th>\n      <th></th>\n      <th></th>\n      <th></th>\n      <th></th>\n      <th></th>\n    </tr>\n  </thead>\n  <tbody>\n    <tr>\n      <th>2019-04-23</th>\n      <td>30.000000</td>\n      <td>31.150000</td>\n      <td>29.57</td>\n      <td>31.150000</td>\n      <td>31.150000</td>\n      <td>1900</td>\n    </tr>\n    <tr>\n      <th>2019-04-24</th>\n      <td>30.860001</td>\n      <td>30.860001</td>\n      <td>28.43</td>\n      <td>29.879999</td>\n      <td>29.879999</td>\n      <td>19400</td>\n    </tr>\n    <tr>\n      <th>2019-04-25</th>\n      <td>29.410000</td>\n      <td>30.830000</td>\n      <td>29.41</td>\n      <td>30.000000</td>\n      <td>30.000000</td>\n      <td>3600</td>\n    </tr>\n    <tr>\n      <th>2019-04-26</th>\n      <td>30.000000</td>\n      <td>31.870001</td>\n      <td>30.00</td>\n      <td>31.870001</td>\n      <td>31.870001</td>\n      <td>8200</td>\n    </tr>\n    <tr>\n      <th>2019-04-29</th>\n      <td>30.680000</td>\n      <td>32.889999</td>\n      <td>30.68</td>\n      <td>32.889999</td>\n      <td>32.889999</td>\n      <td>8800</td>\n    </tr>\n    <tr>\n      <th>...</th>\n      <td>...</td>\n      <td>...</td>\n      <td>...</td>\n      <td>...</td>\n      <td>...</td>\n      <td>...</td>\n    </tr>\n    <tr>\n      <th>2021-04-16</th>\n      <td>12.500000</td>\n      <td>12.500000</td>\n      <td>12.17</td>\n      <td>12.400000</td>\n      <td>12.400000</td>\n      <td>5500</td>\n    </tr>\n    <tr>\n      <th>2021-04-19</th>\n      <td>12.210000</td>\n      <td>12.500000</td>\n      <td>12.10</td>\n      <td>12.360000</td>\n      <td>12.360000</td>\n      <td>8200</td>\n    </tr>\n    <tr>\n      <th>2021-04-20</th>\n      <td>12.300000</td>\n      <td>12.400000</td>\n      <td>12.20</td>\n      <td>12.260000</td>\n      <td>12.260000</td>\n      <td>1600</td>\n    </tr>\n    <tr>\n      <th>2021-04-22</th>\n      <td>12.270000</td>\n      <td>12.480000</td>\n      <td>12.24</td>\n      <td>12.270000</td>\n      <td>12.270000</td>\n      <td>2300</td>\n    </tr>\n    <tr>\n      <th>2021-04-23</th>\n      <td>12.230000</td>\n      <td>12.500000</td>\n      <td>12.00</td>\n      <td>12.400000</td>\n      <td>12.400000</td>\n      <td>12600</td>\n    </tr>\n  </tbody>\n</table>\n<p>494 rows × 6 columns</p>\n</div>"
          },
          "metadata": {},
          "execution_count": 4
        }
      ],
      "source": [
        "df_history"
      ]
    },
    {
      "cell_type": "code",
      "execution_count": null,
      "metadata": {},
      "outputs": [],
      "source": []
    }
  ]
}