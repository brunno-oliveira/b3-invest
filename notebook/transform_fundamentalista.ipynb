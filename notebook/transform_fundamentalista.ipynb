{
 "metadata": {
  "language_info": {
   "codemirror_mode": {
    "name": "ipython",
    "version": 3
   },
   "file_extension": ".py",
   "mimetype": "text/x-python",
   "name": "python",
   "nbconvert_exporter": "python",
   "pygments_lexer": "ipython3",
   "version": "3.7.9"
  },
  "orig_nbformat": 2,
  "kernelspec": {
   "name": "python3",
   "display_name": "Python 3.7.9 64-bit"
  },
  "metadata": {
   "interpreter": {
    "hash": "11788d199534453b3091baa8e21d49a7afe3aaf89a016b3a09f594b82a19522e"
   }
  },
  "interpreter": {
   "hash": "11788d199534453b3091baa8e21d49a7afe3aaf89a016b3a09f594b82a19522e"
  }
 },
 "nbformat": 4,
 "nbformat_minor": 2,
 "cells": [
  {
   "cell_type": "code",
   "execution_count": 1,
   "metadata": {},
   "outputs": [],
   "source": [
    "from typing import List\n",
    "import pandas as pd\n",
    "import os"
   ]
  },
  {
   "cell_type": "code",
   "execution_count": 3,
   "metadata": {},
   "outputs": [],
   "source": [
    " pd.set_option('display.float_format', lambda x: '%.2f' % x)"
   ]
  },
  {
   "cell_type": "code",
   "execution_count": 2,
   "metadata": {},
   "outputs": [],
   "source": [
    " pd.options.display.max_rows = 1000"
   ]
  },
  {
   "cell_type": "code",
   "execution_count": 4,
   "metadata": {},
   "outputs": [],
   "source": [
    "root_path = os.path.dirname(os.path.abspath(''))\n",
    "consoliado_path = os.path.join(\n",
    "    root_path, \"data\", \"df_fundamentalista.parquet\")"
   ]
  },
  {
   "cell_type": "code",
   "execution_count": 43,
   "metadata": {},
   "outputs": [],
   "source": [
    "df = pd.read_parquet(consoliado_path)"
   ]
  },
  {
   "cell_type": "code",
   "execution_count": 44,
   "metadata": {},
   "outputs": [
    {
     "output_type": "execute_result",
     "data": {
      "text/plain": [
       "(656, 47)"
      ]
     },
     "metadata": {},
     "execution_count": 44
    }
   ],
   "source": [
    "df.shape"
   ]
  },
  {
   "cell_type": "code",
   "execution_count": 45,
   "metadata": {},
   "outputs": [
    {
     "output_type": "execute_result",
     "data": {
      "text/plain": [
       "  symbol   asOfDate  NetIncomeFromContinuingOperations  \\\n",
       "0   AALR 2020-06-30                               0.14   \n",
       "1   AALR 2020-09-30                               0.14   \n",
       "2   AALR 2020-12-31                               0.14   \n",
       "3   AALR 2021-03-31                               0.14   \n",
       "0   AAPL 2020-06-30                               0.22   \n",
       "\n",
       "   ReconciledDepreciation  ChangeInCashSupplementalAsReported  \\\n",
       "0                    0.00                                0.96   \n",
       "1                    0.00                                0.96   \n",
       "2                    0.00                                0.96   \n",
       "3                    0.00                                0.96   \n",
       "0                    0.01                                0.96   \n",
       "\n",
       "   ChangeInWorkingCapital  InvestingCashFlow  BeginningCashPosition  \\\n",
       "0                    0.97               0.80                   0.00   \n",
       "1                    0.97               0.80                   0.00   \n",
       "2                    0.97               0.80                   0.00   \n",
       "3                    0.97               0.80                   0.00   \n",
       "0                    0.97               0.79                   0.00   \n",
       "\n",
       "   FinancingCashFlow  EndCashPosition  ...  NormalizedIncome  \\\n",
       "0               0.73             0.00  ...              0.41   \n",
       "1               0.73             0.00  ...              0.41   \n",
       "2               0.73             0.00  ...              0.41   \n",
       "3               0.73             0.00  ...              0.41   \n",
       "0               0.71             0.01  ...              0.64   \n",
       "\n",
       "   DilutedNIAvailtoComStockholders  ShareIssued  NetTangibleAssets  \\\n",
       "0                             0.41         0.01               0.37   \n",
       "1                             0.41         0.01               0.37   \n",
       "2                             0.41         0.01               0.37   \n",
       "3                             0.41         0.01               0.37   \n",
       "0                             0.64         0.99               0.57   \n",
       "\n",
       "   TotalEquityGrossMinorityInterest  TotalAssets  TangibleBookValue  \\\n",
       "0                              0.06         0.00               0.39   \n",
       "1                              0.06         0.00               0.39   \n",
       "2                              0.06         0.00               0.39   \n",
       "3                              0.06         0.00               0.39   \n",
       "0                              0.30         0.09               0.60   \n",
       "\n",
       "   CommonStockEquity  TotalLiabilitiesNetMinorityInterest  StockholdersEquity  \n",
       "0               0.07                                 0.00                0.07  \n",
       "1               0.07                                 0.00                0.07  \n",
       "2               0.07                                 0.00                0.07  \n",
       "3               0.07                                 0.00                0.07  \n",
       "0               0.34                                 0.07                0.30  \n",
       "\n",
       "[5 rows x 47 columns]"
      ],
      "text/html": "<div>\n<style scoped>\n    .dataframe tbody tr th:only-of-type {\n        vertical-align: middle;\n    }\n\n    .dataframe tbody tr th {\n        vertical-align: top;\n    }\n\n    .dataframe thead th {\n        text-align: right;\n    }\n</style>\n<table border=\"1\" class=\"dataframe\">\n  <thead>\n    <tr style=\"text-align: right;\">\n      <th></th>\n      <th>symbol</th>\n      <th>asOfDate</th>\n      <th>NetIncomeFromContinuingOperations</th>\n      <th>ReconciledDepreciation</th>\n      <th>ChangeInCashSupplementalAsReported</th>\n      <th>ChangeInWorkingCapital</th>\n      <th>InvestingCashFlow</th>\n      <th>BeginningCashPosition</th>\n      <th>FinancingCashFlow</th>\n      <th>EndCashPosition</th>\n      <th>...</th>\n      <th>NormalizedIncome</th>\n      <th>DilutedNIAvailtoComStockholders</th>\n      <th>ShareIssued</th>\n      <th>NetTangibleAssets</th>\n      <th>TotalEquityGrossMinorityInterest</th>\n      <th>TotalAssets</th>\n      <th>TangibleBookValue</th>\n      <th>CommonStockEquity</th>\n      <th>TotalLiabilitiesNetMinorityInterest</th>\n      <th>StockholdersEquity</th>\n    </tr>\n  </thead>\n  <tbody>\n    <tr>\n      <th>0</th>\n      <td>AALR</td>\n      <td>2020-06-30</td>\n      <td>0.14</td>\n      <td>0.00</td>\n      <td>0.96</td>\n      <td>0.97</td>\n      <td>0.80</td>\n      <td>0.00</td>\n      <td>0.73</td>\n      <td>0.00</td>\n      <td>...</td>\n      <td>0.41</td>\n      <td>0.41</td>\n      <td>0.01</td>\n      <td>0.37</td>\n      <td>0.06</td>\n      <td>0.00</td>\n      <td>0.39</td>\n      <td>0.07</td>\n      <td>0.00</td>\n      <td>0.07</td>\n    </tr>\n    <tr>\n      <th>1</th>\n      <td>AALR</td>\n      <td>2020-09-30</td>\n      <td>0.14</td>\n      <td>0.00</td>\n      <td>0.96</td>\n      <td>0.97</td>\n      <td>0.80</td>\n      <td>0.00</td>\n      <td>0.73</td>\n      <td>0.00</td>\n      <td>...</td>\n      <td>0.41</td>\n      <td>0.41</td>\n      <td>0.01</td>\n      <td>0.37</td>\n      <td>0.06</td>\n      <td>0.00</td>\n      <td>0.39</td>\n      <td>0.07</td>\n      <td>0.00</td>\n      <td>0.07</td>\n    </tr>\n    <tr>\n      <th>2</th>\n      <td>AALR</td>\n      <td>2020-12-31</td>\n      <td>0.14</td>\n      <td>0.00</td>\n      <td>0.96</td>\n      <td>0.97</td>\n      <td>0.80</td>\n      <td>0.00</td>\n      <td>0.73</td>\n      <td>0.00</td>\n      <td>...</td>\n      <td>0.41</td>\n      <td>0.41</td>\n      <td>0.01</td>\n      <td>0.37</td>\n      <td>0.06</td>\n      <td>0.00</td>\n      <td>0.39</td>\n      <td>0.07</td>\n      <td>0.00</td>\n      <td>0.07</td>\n    </tr>\n    <tr>\n      <th>3</th>\n      <td>AALR</td>\n      <td>2021-03-31</td>\n      <td>0.14</td>\n      <td>0.00</td>\n      <td>0.96</td>\n      <td>0.97</td>\n      <td>0.80</td>\n      <td>0.00</td>\n      <td>0.73</td>\n      <td>0.00</td>\n      <td>...</td>\n      <td>0.41</td>\n      <td>0.41</td>\n      <td>0.01</td>\n      <td>0.37</td>\n      <td>0.06</td>\n      <td>0.00</td>\n      <td>0.39</td>\n      <td>0.07</td>\n      <td>0.00</td>\n      <td>0.07</td>\n    </tr>\n    <tr>\n      <th>0</th>\n      <td>AAPL</td>\n      <td>2020-06-30</td>\n      <td>0.22</td>\n      <td>0.01</td>\n      <td>0.96</td>\n      <td>0.97</td>\n      <td>0.79</td>\n      <td>0.00</td>\n      <td>0.71</td>\n      <td>0.01</td>\n      <td>...</td>\n      <td>0.64</td>\n      <td>0.64</td>\n      <td>0.99</td>\n      <td>0.57</td>\n      <td>0.30</td>\n      <td>0.09</td>\n      <td>0.60</td>\n      <td>0.34</td>\n      <td>0.07</td>\n      <td>0.30</td>\n    </tr>\n  </tbody>\n</table>\n<p>5 rows × 47 columns</p>\n</div>"
     },
     "metadata": {},
     "execution_count": 45
    }
   ],
   "source": [
    "df.head()"
   ]
  },
  {
   "cell_type": "code",
   "execution_count": null,
   "metadata": {},
   "outputs": [],
   "source": [
    "for ticket in df['symbol'].unique():\n",
    "    "
   ]
  }
 ]
}