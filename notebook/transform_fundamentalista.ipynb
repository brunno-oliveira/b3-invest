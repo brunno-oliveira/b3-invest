{
 "metadata": {
  "language_info": {
   "codemirror_mode": {
    "name": "ipython",
    "version": 3
   },
   "file_extension": ".py",
   "mimetype": "text/x-python",
   "name": "python",
   "nbconvert_exporter": "python",
   "pygments_lexer": "ipython3",
   "version": "3.7.9"
  },
  "orig_nbformat": 2,
  "kernelspec": {
   "name": "python379jvsc74a57bd011788d199534453b3091baa8e21d49a7afe3aaf89a016b3a09f594b82a19522e",
   "display_name": "Python 3.7.9 64-bit"
  },
  "metadata": {
   "interpreter": {
    "hash": "11788d199534453b3091baa8e21d49a7afe3aaf89a016b3a09f594b82a19522e"
   }
  }
 },
 "nbformat": 4,
 "nbformat_minor": 2,
 "cells": [
  {
   "cell_type": "code",
   "execution_count": 1,
   "metadata": {},
   "outputs": [],
   "source": [
    "from typing import List\n",
    "import pandas as pd\n",
    "import os"
   ]
  },
  {
   "cell_type": "code",
   "execution_count": 2,
   "metadata": {},
   "outputs": [],
   "source": [
    " pd.set_option('display.float_format', lambda x: '%.2f' % x)"
   ]
  },
  {
   "cell_type": "code",
   "execution_count": 3,
   "metadata": {},
   "outputs": [],
   "source": [
    " pd.options.display.max_rows = 1000"
   ]
  },
  {
   "cell_type": "code",
   "execution_count": 4,
   "metadata": {},
   "outputs": [],
   "source": [
    "root_path = os.path.dirname(os.path.abspath(''))\n",
    "consoliado_path = os.path.join(\n",
    "    root_path, \"data\", \"df_fundamentalista.parquet\")"
   ]
  },
  {
   "cell_type": "code",
   "execution_count": 8,
   "metadata": {},
   "outputs": [],
   "source": [
    "df = pd.read_parquet(consoliado_path)"
   ]
  },
  {
   "cell_type": "code",
   "execution_count": 9,
   "metadata": {},
   "outputs": [
    {
     "output_type": "execute_result",
     "data": {
      "text/plain": [
       "(1315, 47)"
      ]
     },
     "metadata": {},
     "execution_count": 9
    }
   ],
   "source": [
    "df.shape"
   ]
  },
  {
   "cell_type": "code",
   "execution_count": 10,
   "metadata": {},
   "outputs": [
    {
     "output_type": "stream",
     "name": "stdout",
     "text": [
      "Missing values for AGRO, total data 3 of 4\nMissing values for AIRB, total data 2 of 4\nMissing values for None, total data 0 of 4\nMissing values for AVLL, total data 1 of 4\nMissing values for BOAS, total data 3 of 4\nMissing values for CMIG, total data 2 of 4\nMissing values for COGN, total data 3 of 4\nMissing values for CPFE, total data 1 of 4\nMissing values for CSED, total data 3 of 4\nMissing values for CURY, total data 3 of 4\nMissing values for DMVF, total data 3 of 4\nMissing values for ELMD, total data 1 of 4\nMissing values for ENJU, total data 1 of 4\nMissing values for ESPA, total data 1 of 4\nMissing values for GMAT, total data 1 of 4\nMissing values for IGBR, total data 3 of 4\nMissing values for INEP, total data 3 of 4\nMissing values for INTB, total data 3 of 4\nMissing values for JALL, total data 1 of 4\nMissing values for LAVV, total data 3 of 4\nMissing values for LPSB, total data 1 of 4\n"
     ]
    }
   ],
   "source": [
    "# Find missing dates\n",
    "for symbol in df['symbol'].unique():\n",
    "    df_symbol = df[df['symbol'] == symbol]\n",
    "    if df_symbol.shape[0] < 4:\n",
    "        print(f'Missing values for {symbol}, total data {df_symbol.shape[0]} of 4')"
   ]
  },
  {
   "cell_type": "code",
   "execution_count": 11,
   "metadata": {},
   "outputs": [
    {
     "output_type": "execute_result",
     "data": {
      "text/plain": [
       "   symbol   asOfDate  NetIncomeFromContinuingOperations  \\\n",
       "30   AIRB 2020-09-30                                NaN   \n",
       "31   AIRB 2020-12-31                               0.11   \n",
       "\n",
       "    ReconciledDepreciation  ChangeInCashSupplementalAsReported  \\\n",
       "30                     NaN                                 NaN   \n",
       "31                    0.00                                0.96   \n",
       "\n",
       "    ChangeInWorkingCapital  InvestingCashFlow  BeginningCashPosition  \\\n",
       "30                     NaN                NaN                    NaN   \n",
       "31                    0.97               0.80                   0.00   \n",
       "\n",
       "    FinancingCashFlow  EndCashPosition  ...  NormalizedIncome  \\\n",
       "30                NaN              NaN  ...               NaN   \n",
       "31               0.73             0.00  ...              0.33   \n",
       "\n",
       "    DilutedNIAvailtoComStockholders  ShareIssued  NetTangibleAssets  \\\n",
       "30                              NaN         0.03               0.37   \n",
       "31                             0.33         0.03               0.37   \n",
       "\n",
       "    TotalEquityGrossMinorityInterest  TotalAssets  TangibleBookValue  \\\n",
       "30                              0.06         0.00               0.39   \n",
       "31                              0.07         0.00               0.39   \n",
       "\n",
       "    CommonStockEquity  TotalLiabilitiesNetMinorityInterest  StockholdersEquity  \n",
       "30               0.07                                 0.00                0.06  \n",
       "31               0.08                                 0.00                0.07  \n",
       "\n",
       "[2 rows x 47 columns]"
      ],
      "text/html": "<div>\n<style scoped>\n    .dataframe tbody tr th:only-of-type {\n        vertical-align: middle;\n    }\n\n    .dataframe tbody tr th {\n        vertical-align: top;\n    }\n\n    .dataframe thead th {\n        text-align: right;\n    }\n</style>\n<table border=\"1\" class=\"dataframe\">\n  <thead>\n    <tr style=\"text-align: right;\">\n      <th></th>\n      <th>symbol</th>\n      <th>asOfDate</th>\n      <th>NetIncomeFromContinuingOperations</th>\n      <th>ReconciledDepreciation</th>\n      <th>ChangeInCashSupplementalAsReported</th>\n      <th>ChangeInWorkingCapital</th>\n      <th>InvestingCashFlow</th>\n      <th>BeginningCashPosition</th>\n      <th>FinancingCashFlow</th>\n      <th>EndCashPosition</th>\n      <th>...</th>\n      <th>NormalizedIncome</th>\n      <th>DilutedNIAvailtoComStockholders</th>\n      <th>ShareIssued</th>\n      <th>NetTangibleAssets</th>\n      <th>TotalEquityGrossMinorityInterest</th>\n      <th>TotalAssets</th>\n      <th>TangibleBookValue</th>\n      <th>CommonStockEquity</th>\n      <th>TotalLiabilitiesNetMinorityInterest</th>\n      <th>StockholdersEquity</th>\n    </tr>\n  </thead>\n  <tbody>\n    <tr>\n      <th>30</th>\n      <td>AIRB</td>\n      <td>2020-09-30</td>\n      <td>NaN</td>\n      <td>NaN</td>\n      <td>NaN</td>\n      <td>NaN</td>\n      <td>NaN</td>\n      <td>NaN</td>\n      <td>NaN</td>\n      <td>NaN</td>\n      <td>...</td>\n      <td>NaN</td>\n      <td>NaN</td>\n      <td>0.03</td>\n      <td>0.37</td>\n      <td>0.06</td>\n      <td>0.00</td>\n      <td>0.39</td>\n      <td>0.07</td>\n      <td>0.00</td>\n      <td>0.06</td>\n    </tr>\n    <tr>\n      <th>31</th>\n      <td>AIRB</td>\n      <td>2020-12-31</td>\n      <td>0.11</td>\n      <td>0.00</td>\n      <td>0.96</td>\n      <td>0.97</td>\n      <td>0.80</td>\n      <td>0.00</td>\n      <td>0.73</td>\n      <td>0.00</td>\n      <td>...</td>\n      <td>0.33</td>\n      <td>0.33</td>\n      <td>0.03</td>\n      <td>0.37</td>\n      <td>0.07</td>\n      <td>0.00</td>\n      <td>0.39</td>\n      <td>0.08</td>\n      <td>0.00</td>\n      <td>0.07</td>\n    </tr>\n  </tbody>\n</table>\n<p>2 rows × 47 columns</p>\n</div>"
     },
     "metadata": {},
     "execution_count": 11
    }
   ],
   "source": [
    "df[df['symbol'] == 'AIRB']"
   ]
  },
  {
   "cell_type": "code",
   "execution_count": null,
   "metadata": {},
   "outputs": [],
   "source": []
  }
 ]
}