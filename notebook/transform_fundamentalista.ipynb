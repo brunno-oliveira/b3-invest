{
 "metadata": {
  "language_info": {
   "codemirror_mode": {
    "name": "ipython",
    "version": 3
   },
   "file_extension": ".py",
   "mimetype": "text/x-python",
   "name": "python",
   "nbconvert_exporter": "python",
   "pygments_lexer": "ipython3",
   "version": "3.7.9"
  },
  "orig_nbformat": 2,
  "kernelspec": {
   "name": "python379jvsc74a57bd011788d199534453b3091baa8e21d49a7afe3aaf89a016b3a09f594b82a19522e",
   "display_name": "Python 3.7.9 64-bit"
  },
  "metadata": {
   "interpreter": {
    "hash": "11788d199534453b3091baa8e21d49a7afe3aaf89a016b3a09f594b82a19522e"
   }
  }
 },
 "nbformat": 4,
 "nbformat_minor": 2,
 "cells": [
  {
   "cell_type": "code",
   "execution_count": 4,
   "metadata": {},
   "outputs": [],
   "source": [
    "from typing import List\n",
    "import pandas as pd\n",
    "import os"
   ]
  },
  {
   "cell_type": "code",
   "execution_count": 17,
   "metadata": {},
   "outputs": [],
   "source": [
    " pd.set_option('display.float_format', lambda x: '%.2f' % x)"
   ]
  },
  {
   "cell_type": "code",
   "execution_count": 21,
   "metadata": {},
   "outputs": [],
   "source": [
    " pd.options.display.max_rows = 1000"
   ]
  },
  {
   "cell_type": "code",
   "execution_count": 47,
   "metadata": {},
   "outputs": [],
   "source": [
    "root_path = os.path.dirname(os.path.abspath(''))\n",
    "consoliado_path = os.path.join(\n",
    "    root_path, \"data\", \"df_fundamentalista.parquet\")"
   ]
  },
  {
   "cell_type": "code",
   "execution_count": 48,
   "metadata": {},
   "outputs": [],
   "source": [
    "df = pd.read_parquet(consoliado_path)\n",
    "df['symbol'] = df['symbol'].str[0:4]\n",
    "df = df.drop_duplicates()"
   ]
  },
  {
   "cell_type": "code",
   "execution_count": 49,
   "metadata": {},
   "outputs": [
    {
     "output_type": "execute_result",
     "data": {
      "text/plain": [
       "(1168, 327)"
      ]
     },
     "metadata": {},
     "execution_count": 49
    }
   ],
   "source": [
    "df.shape"
   ]
  },
  {
   "cell_type": "code",
   "execution_count": 50,
   "metadata": {},
   "outputs": [],
   "source": [
    "describe = df.describe()\n",
    "# O count não conta NaN\n",
    "describe_count = describe.iloc[0].sort_values()\n",
    "\n",
    "valid_columns = list(describe_count[describe_count.values > 1000].index)\n",
    "valid_columns.insert(0, 'asOfDate')\n",
    "valid_columns.insert(0, 'symbol')"
   ]
  },
  {
   "cell_type": "code",
   "execution_count": 51,
   "metadata": {},
   "outputs": [],
   "source": [
    "def get_columns() -> List[str]:\n",
    "    \"\"\"Colunas filtradas a partir dos dados fundamentalisa bruto. \"\"\"\n",
    "    # fmt: off\n",
    "    return [\n",
    "        \"symbol\", \"asOfDate\", \"NetIncomeFromContinuingOperations\", \"ReconciledDepreciation\",\n",
    "        \"ChangeInCashSupplementalAsReported\", \"ChangeInWorkingCapital\",\n",
    "        \"InvestingCashFlow\", \"BeginningCashPosition\", \"FinancingCashFlow\",\n",
    "        \"EndCashPosition\", \"OperatingCashFlow\", \"LongTermDebtAndCapitalLeaseObligation\",\n",
    "        \"ChangesInCash\", \"FreeCashFlow\", \"SellingGeneralAndAdministration\",\n",
    "        \"TotalDebt\", \"TaxProvision\", \"NetPPE\", \"Payables\", \"NetInterestIncome\",\n",
    "        \"CommonStock\", \"CapitalStock\", \"CashAndCashEquivalents\", \"InvestedCapital\",\n",
    "        \"TotalCapitalization\", \"NetIncomeFromContinuingAndDiscontinuedOperation\",\n",
    "        \"NetIncome\", \"NetIncomeCommonStockholders\", \"TaxRateForCalcs\",\n",
    "        \"TaxEffectOfUnusualItems\", \"TotalRevenue\", \"NetIncomeContinuousOperations\",\n",
    "        \"PretaxIncome\", \"OrdinarySharesNumber\", \"OperatingRevenue\",\n",
    "        \"NetIncomeFromContinuingOperationNetMinorityInterest\", \n",
    "        \"NetIncomeIncludingNoncontrollingInterests\",\n",
    "        \"NormalizedIncome\", \"DilutedNIAvailtoComStockholders\", \"ShareIssued\",\n",
    "        \"NetTangibleAssets\", \"TotalEquityGrossMinorityInterest\",\n",
    "        \"TotalAssets\", \"TangibleBookValue\", \"CommonStockEquity\",\n",
    "        \"TotalLiabilitiesNetMinorityInterest\", \"StockholdersEquity\"\n",
    "    ]\n",
    "    # fmt: on"
   ]
  },
  {
   "cell_type": "code",
   "execution_count": 52,
   "metadata": {},
   "outputs": [],
   "source": [
    "df = df[get_columns()].copy()"
   ]
  },
  {
   "cell_type": "code",
   "execution_count": 53,
   "metadata": {},
   "outputs": [
    {
     "output_type": "execute_result",
     "data": {
      "text/plain": [
       "   symbol   asOfDate  NetIncomeFromContinuingOperations\n",
       "21   AFLT 2020-06-30                                NaN\n",
       "27   AIRB 2020-09-30                                NaN\n",
       "39   ALPK 2020-06-30                                NaN\n",
       "64   AMBP 2020-09-30                                NaN\n",
       "65   AMBP 2020-12-31                                NaN"
      ],
      "text/html": "<div>\n<style scoped>\n    .dataframe tbody tr th:only-of-type {\n        vertical-align: middle;\n    }\n\n    .dataframe tbody tr th {\n        vertical-align: top;\n    }\n\n    .dataframe thead th {\n        text-align: right;\n    }\n</style>\n<table border=\"1\" class=\"dataframe\">\n  <thead>\n    <tr style=\"text-align: right;\">\n      <th></th>\n      <th>symbol</th>\n      <th>asOfDate</th>\n      <th>NetIncomeFromContinuingOperations</th>\n    </tr>\n  </thead>\n  <tbody>\n    <tr>\n      <th>21</th>\n      <td>AFLT</td>\n      <td>2020-06-30</td>\n      <td>NaN</td>\n    </tr>\n    <tr>\n      <th>27</th>\n      <td>AIRB</td>\n      <td>2020-09-30</td>\n      <td>NaN</td>\n    </tr>\n    <tr>\n      <th>39</th>\n      <td>ALPK</td>\n      <td>2020-06-30</td>\n      <td>NaN</td>\n    </tr>\n    <tr>\n      <th>64</th>\n      <td>AMBP</td>\n      <td>2020-09-30</td>\n      <td>NaN</td>\n    </tr>\n    <tr>\n      <th>65</th>\n      <td>AMBP</td>\n      <td>2020-12-31</td>\n      <td>NaN</td>\n    </tr>\n  </tbody>\n</table>\n</div>"
     },
     "metadata": {},
     "execution_count": 53
    }
   ],
   "source": [
    "df[pd.isnull(df['NetIncomeFromContinuingOperations'])][\n",
    "    ['symbol','asOfDate','NetIncomeFromContinuingOperations']\n",
    "].head()"
   ]
  },
  {
   "cell_type": "code",
   "execution_count": 54,
   "metadata": {},
   "outputs": [
    {
     "output_type": "execute_result",
     "data": {
      "text/plain": [
       "     symbol   asOfDate  NetIncomeFromContinuingOperations  \\\n",
       "1489   POWE 2020-09-30                                NaN   \n",
       "\n",
       "      ReconciledDepreciation  ChangeInCashSupplementalAsReported  \\\n",
       "1489                     NaN                                 NaN   \n",
       "\n",
       "      ChangeInWorkingCapital  InvestingCashFlow  BeginningCashPosition  \\\n",
       "1489                     NaN                NaN                    NaN   \n",
       "\n",
       "      FinancingCashFlow  EndCashPosition  ...  NormalizedIncome  \\\n",
       "1489                NaN              NaN  ...               NaN   \n",
       "\n",
       "      DilutedNIAvailtoComStockholders  ShareIssued  NetTangibleAssets  \\\n",
       "1489                              NaN  89654856.00       206743000.00   \n",
       "\n",
       "      TotalEquityGrossMinorityInterest  TotalAssets  TangibleBookValue  \\\n",
       "1489                      208768000.00 762192000.00       206743000.00   \n",
       "\n",
       "      CommonStockEquity  TotalLiabilitiesNetMinorityInterest  \\\n",
       "1489       208949000.00                         553424000.00   \n",
       "\n",
       "      StockholdersEquity  \n",
       "1489        208949000.00  \n",
       "\n",
       "[1 rows x 47 columns]"
      ],
      "text/html": "<div>\n<style scoped>\n    .dataframe tbody tr th:only-of-type {\n        vertical-align: middle;\n    }\n\n    .dataframe tbody tr th {\n        vertical-align: top;\n    }\n\n    .dataframe thead th {\n        text-align: right;\n    }\n</style>\n<table border=\"1\" class=\"dataframe\">\n  <thead>\n    <tr style=\"text-align: right;\">\n      <th></th>\n      <th>symbol</th>\n      <th>asOfDate</th>\n      <th>NetIncomeFromContinuingOperations</th>\n      <th>ReconciledDepreciation</th>\n      <th>ChangeInCashSupplementalAsReported</th>\n      <th>ChangeInWorkingCapital</th>\n      <th>InvestingCashFlow</th>\n      <th>BeginningCashPosition</th>\n      <th>FinancingCashFlow</th>\n      <th>EndCashPosition</th>\n      <th>...</th>\n      <th>NormalizedIncome</th>\n      <th>DilutedNIAvailtoComStockholders</th>\n      <th>ShareIssued</th>\n      <th>NetTangibleAssets</th>\n      <th>TotalEquityGrossMinorityInterest</th>\n      <th>TotalAssets</th>\n      <th>TangibleBookValue</th>\n      <th>CommonStockEquity</th>\n      <th>TotalLiabilitiesNetMinorityInterest</th>\n      <th>StockholdersEquity</th>\n    </tr>\n  </thead>\n  <tbody>\n    <tr>\n      <th>1489</th>\n      <td>POWE</td>\n      <td>2020-09-30</td>\n      <td>NaN</td>\n      <td>NaN</td>\n      <td>NaN</td>\n      <td>NaN</td>\n      <td>NaN</td>\n      <td>NaN</td>\n      <td>NaN</td>\n      <td>NaN</td>\n      <td>...</td>\n      <td>NaN</td>\n      <td>NaN</td>\n      <td>89654856.00</td>\n      <td>206743000.00</td>\n      <td>208768000.00</td>\n      <td>762192000.00</td>\n      <td>206743000.00</td>\n      <td>208949000.00</td>\n      <td>553424000.00</td>\n      <td>208949000.00</td>\n    </tr>\n  </tbody>\n</table>\n<p>1 rows × 47 columns</p>\n</div>"
     },
     "metadata": {},
     "execution_count": 54
    }
   ],
   "source": [
    "df[df['symbol'] == 'POWE']"
   ]
  },
  {
   "cell_type": "code",
   "execution_count": 55,
   "metadata": {},
   "outputs": [
    {
     "output_type": "stream",
     "name": "stdout",
     "text": [
      "Missing values for AERI, total data 2 of 4\nMissing values for AFLT, total data 3 of 4\nMissing values for AGRO, total data 3 of 4\nMissing values for AIRB, total data 2 of 4\nMissing values for ALPK, total data 3 of 4\nMissing values for AVLL, total data 1 of 4\nMissing values for BOAS, total data 3 of 4\nMissing values for CMIG, total data 2 of 4\nMissing values for COGN, total data 3 of 4\nMissing values for CPFE, total data 1 of 4\nMissing values for CSED, total data 3 of 4\nMissing values for CURY, total data 3 of 4\nMissing values for DMVF, total data 3 of 4\nMissing values for ELMD, total data 1 of 4\nMissing values for ENJU, total data 1 of 4\nMissing values for ESPA, total data 1 of 4\nMissing values for GMAT, total data 1 of 4\nMissing values for IGBR, total data 3 of 4\nMissing values for INTB, total data 3 of 4\nMissing values for JALL, total data 1 of 4\nMissing values for LAVV, total data 3 of 4\nMissing values for MBLY, total data 1 of 4\nMissing values for MELK, total data 3 of 4\nMissing values for MGLU, total data 3 of 4\nMissing values for MOSI, total data 1 of 4\nMissing values for NGRD, total data 1 of 4\nMissing values for OPCT, total data 1 of 4\nMissing values for ORVR, total data 1 of 4\nMissing values for PETZ, total data 3 of 4\nMissing values for PLPL, total data 3 of 4\nMissing values for POWE, total data 1 of 4\nMissing values for PRIO, total data 3 of 4\nMissing values for RPMG, total data 3 of 4\nMissing values for RRRP, total data 2 of 4\nMissing values for SBSP, total data 2 of 4\nMissing values for SEQL, total data 1 of 4\nMissing values for SOMA, total data 3 of 4\nMissing values for TFCO, total data 2 of 4\nMissing values for WEST, total data 1 of 4\n"
     ]
    }
   ],
   "source": [
    "# Find missing dates\n",
    "for symbol in df['symbol'].unique():\n",
    "    df_symbol = df[df['symbol'] == symbol]\n",
    "    if df_symbol.shape[0] < 4:\n",
    "        print(f'Missing values for {symbol}, total data {df_symbol.shape[0]} of 4')"
   ]
  },
  {
   "cell_type": "code",
   "execution_count": null,
   "metadata": {},
   "outputs": [],
   "source": [
    "df[df['']]"
   ]
  }
 ]
}