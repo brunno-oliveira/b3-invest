{
 "cells": [
  {
   "cell_type": "code",
   "execution_count": null,
   "metadata": {},
   "outputs": [],
   "source": [
    "import pandas as pd\n",
    "import numpy as np\n",
    "import os"
   ]
  },
  {
   "cell_type": "code",
   "execution_count": null,
   "metadata": {},
   "outputs": [],
   "source": [
    "df_consolidado = []\n",
    "\n",
    "for file in os.listdir():\n",
    "    if file.endswith('.xlsx'):\n",
    "        print(f'Transforming: {file}')\n",
    "        tmp_df = pd.read_excel(file)\n",
    "\n",
    "        tmp_df.rename(\n",
    "            columns={\n",
    "                'Entrada/Saída' : 'entrada_saida',\n",
    "                'Data' : 'data',\n",
    "                'Movimentação' : 'des_movimentacao',\n",
    "                'Produto' : 'produto',\n",
    "                'Instituição' : 'instituicao',\n",
    "                'Quantidade' : 'quantidade', \n",
    "                'Preço unitário' : 'preco_un', \n",
    "                'Valor da Operação' : 'preco_total'\n",
    "            }, \n",
    "            inplace=True\n",
    "        )\n",
    "\n",
    "        tmp_df['des_movimentacao'] = tmp_df['des_movimentacao'].str.lstrip().str.rstrip()\n",
    "        tmp_df['produto'] = tmp_df['produto'].str.lstrip().str.rstrip()\n",
    "        tmp_df['instituicao'] = tmp_df['instituicao'].str.lstrip().str.rstrip()\n",
    "\n",
    "        des_movimentacao_dividendos = ['Juros Sobre Capital Próprio', 'Rendimento', 'Dividendo']\n",
    "        des_movimentacao_venda = ['Transferência - Liquidação']\n",
    "\n",
    "        tmp_df['tp_movimentacao'] = np.where(\n",
    "            tmp_df['des_movimentacao'].isin(des_movimentacao_dividendos), 'Dividendos',\n",
    "            np.where(\n",
    "                tmp_df['des_movimentacao'].isin(des_movimentacao_venda), 'Venda', tmp_df['des_movimentacao']\n",
    "            )\n",
    "        )\n",
    "\n",
    "        tp_movimentacao_entrada = ['Dividendos', 'Venda', 'Rendimento', 'Leilão de Fração', 'Juros']\n",
    "\n",
    "        tmp_df['entrada_saida'] = np.where(\n",
    "            tmp_df['tp_movimentacao'].isin(['Compra', 'Cobrança de Taxa Semestral']), 'Saida',\n",
    "                np.where(\n",
    "                    tmp_df['tp_movimentacao'].isin(tp_movimentacao_entrada), 'Entrada', np.nan\n",
    "                )\n",
    "        )  \n",
    "\n",
    "        fii = ['BTLG11', 'KNRI11']\n",
    "\n",
    "        acao = [\n",
    "            'RAPT4 ', 'TRPL4', 'HYPE3', 'ITSA4', \n",
    "            'NUBR33', 'BBSE3', 'BRAP3', 'BBDC4', \n",
    "            'ITUB4',  'MGLU3', 'CPFE3', 'CMIG4', \n",
    "            'TCNO4',  'CSMG3', 'OIBR4', 'ENAT3', \n",
    "            'TAEE11', 'PETR4', 'SOMA3 '\n",
    "        ]\n",
    "\n",
    "        tmp_df['categoria'] = np.where(\n",
    "            tmp_df['produto'].str.contains('Tesouro'), 'Tesouro Direto',\n",
    "            np.where(\n",
    "                tmp_df['produto'].isin(fii), 'FII',\n",
    "                np.where(\n",
    "                    tmp_df['produto'].isin(acao), 'Ação', np.nan\n",
    "                )\n",
    "            )\n",
    "        )        \n",
    "\n",
    "        df_consolidado.append(tmp_df)     \n",
    "\n",
    "df_consolidado = pd.concat(df_consolidado)"
   ]
  },
  {
   "cell_type": "code",
   "execution_count": null,
   "metadata": {},
   "outputs": [],
   "source": [
    "df_consolidado[df_consolidado['entrada_saida'] == 'nan']"
   ]
  },
  {
   "cell_type": "code",
   "execution_count": null,
   "metadata": {},
   "outputs": [],
   "source": []
  }
 ],
 "metadata": {
  "kernelspec": {
   "display_name": "Python 3.7.9 64-bit",
   "language": "python",
   "name": "python3"
  },
  "language_info": {
   "codemirror_mode": {
    "name": "ipython",
    "version": 3
   },
   "file_extension": ".py",
   "mimetype": "text/x-python",
   "name": "python",
   "nbconvert_exporter": "python",
   "pygments_lexer": "ipython3",
   "version": "3.7.9"
  },
  "orig_nbformat": 4,
  "vscode": {
   "interpreter": {
    "hash": "3581cd6e7b8387b073d9d0e753ae4dad4f3c9c1cf6afad5b5fc8cbbfa24b6d55"
   }
  }
 },
 "nbformat": 4,
 "nbformat_minor": 2
}
