{
 "metadata": {
  "language_info": {
   "codemirror_mode": {
    "name": "ipython",
    "version": 3
   },
   "file_extension": ".py",
   "mimetype": "text/x-python",
   "name": "python",
   "nbconvert_exporter": "python",
   "pygments_lexer": "ipython3",
   "version": "3.7.9"
  },
  "orig_nbformat": 4,
  "kernelspec": {
   "name": "python3",
   "display_name": "Python 3.7.9 64-bit"
  },
  "interpreter": {
   "hash": "11788d199534453b3091baa8e21d49a7afe3aaf89a016b3a09f594b82a19522e"
  }
 },
 "nbformat": 4,
 "nbformat_minor": 2,
 "cells": [
  {
   "cell_type": "code",
   "execution_count": 1,
   "metadata": {},
   "outputs": [],
   "source": [
    "import pandas as pd\n",
    "import os"
   ]
  },
  {
   "cell_type": "code",
   "execution_count": 2,
   "metadata": {},
   "outputs": [],
   "source": [
    "pd.set_option('display.float_format', lambda x: '%.2f' % x)\n",
    "pd.options.display.max_rows = 1000"
   ]
  },
  {
   "cell_type": "code",
   "execution_count": 3,
   "metadata": {},
   "outputs": [],
   "source": [
    "root_path = os.path.dirname(os.path.abspath(''))\n",
    "consoliado_path = os.path.join(\n",
    "    root_path, \"data\", \"df_consolidado.parquet\")"
   ]
  },
  {
   "cell_type": "code",
   "execution_count": 4,
   "metadata": {},
   "outputs": [],
   "source": [
    "df = pd.read_parquet(consoliado_path)"
   ]
  },
  {
   "cell_type": "code",
   "execution_count": 5,
   "metadata": {},
   "outputs": [
    {
     "output_type": "execute_result",
     "data": {
      "text/plain": [
       "(71526, 595)"
      ]
     },
     "metadata": {},
     "execution_count": 5
    }
   ],
   "source": [
    "df.shape"
   ]
  },
  {
   "cell_type": "code",
   "execution_count": 6,
   "metadata": {},
   "outputs": [
    {
     "output_type": "execute_result",
     "data": {
      "text/plain": [
       "  ticker symbol  close       date  ticker.AALR3  ticker.AAPL34  ticker.ABEV3  \\\n",
       "0  AALR3   AALR  13.21 2019-06-07             1              0             0   \n",
       "1  AALR3   AALR  13.37 2019-06-10             1              0             0   \n",
       "2  AALR3   AALR  13.90 2019-06-11             1              0             0   \n",
       "3  AALR3   AALR  14.00 2019-06-12             1              0             0   \n",
       "4  AALR3   AALR  13.55 2019-06-13             1              0             0   \n",
       "\n",
       "   ticker.ABTT34  ticker.AFLT3  ticker.AGRO3  ...  CommonStockEquity_2  \\\n",
       "0              0             0             0  ...                 0.07   \n",
       "1              0             0             0  ...                 0.07   \n",
       "2              0             0             0  ...                 0.07   \n",
       "3              0             0             0  ...                 0.07   \n",
       "4              0             0             0  ...                 0.07   \n",
       "\n",
       "   CommonStockEquity_3  TotalLiabilitiesNetMinorityInterest_0  \\\n",
       "0                 0.07                                   0.00   \n",
       "1                 0.07                                   0.00   \n",
       "2                 0.07                                   0.00   \n",
       "3                 0.07                                   0.00   \n",
       "4                 0.07                                   0.00   \n",
       "\n",
       "   TotalLiabilitiesNetMinorityInterest_1  \\\n",
       "0                                   0.00   \n",
       "1                                   0.00   \n",
       "2                                   0.00   \n",
       "3                                   0.00   \n",
       "4                                   0.00   \n",
       "\n",
       "   TotalLiabilitiesNetMinorityInterest_2  \\\n",
       "0                                   0.00   \n",
       "1                                   0.00   \n",
       "2                                   0.00   \n",
       "3                                   0.00   \n",
       "4                                   0.00   \n",
       "\n",
       "   TotalLiabilitiesNetMinorityInterest_3  StockholdersEquity_0  \\\n",
       "0                                   0.00                  0.07   \n",
       "1                                   0.00                  0.07   \n",
       "2                                   0.00                  0.07   \n",
       "3                                   0.00                  0.07   \n",
       "4                                   0.00                  0.07   \n",
       "\n",
       "   StockholdersEquity_1  StockholdersEquity_2  StockholdersEquity_3  \n",
       "0                  0.07                  0.07                  0.07  \n",
       "1                  0.07                  0.07                  0.07  \n",
       "2                  0.07                  0.07                  0.07  \n",
       "3                  0.07                  0.07                  0.07  \n",
       "4                  0.07                  0.07                  0.07  \n",
       "\n",
       "[5 rows x 595 columns]"
      ],
      "text/html": "<div>\n<style scoped>\n    .dataframe tbody tr th:only-of-type {\n        vertical-align: middle;\n    }\n\n    .dataframe tbody tr th {\n        vertical-align: top;\n    }\n\n    .dataframe thead th {\n        text-align: right;\n    }\n</style>\n<table border=\"1\" class=\"dataframe\">\n  <thead>\n    <tr style=\"text-align: right;\">\n      <th></th>\n      <th>ticker</th>\n      <th>symbol</th>\n      <th>close</th>\n      <th>date</th>\n      <th>ticker.AALR3</th>\n      <th>ticker.AAPL34</th>\n      <th>ticker.ABEV3</th>\n      <th>ticker.ABTT34</th>\n      <th>ticker.AFLT3</th>\n      <th>ticker.AGRO3</th>\n      <th>...</th>\n      <th>CommonStockEquity_2</th>\n      <th>CommonStockEquity_3</th>\n      <th>TotalLiabilitiesNetMinorityInterest_0</th>\n      <th>TotalLiabilitiesNetMinorityInterest_1</th>\n      <th>TotalLiabilitiesNetMinorityInterest_2</th>\n      <th>TotalLiabilitiesNetMinorityInterest_3</th>\n      <th>StockholdersEquity_0</th>\n      <th>StockholdersEquity_1</th>\n      <th>StockholdersEquity_2</th>\n      <th>StockholdersEquity_3</th>\n    </tr>\n  </thead>\n  <tbody>\n    <tr>\n      <th>0</th>\n      <td>AALR3</td>\n      <td>AALR</td>\n      <td>13.21</td>\n      <td>2019-06-07</td>\n      <td>1</td>\n      <td>0</td>\n      <td>0</td>\n      <td>0</td>\n      <td>0</td>\n      <td>0</td>\n      <td>...</td>\n      <td>0.07</td>\n      <td>0.07</td>\n      <td>0.00</td>\n      <td>0.00</td>\n      <td>0.00</td>\n      <td>0.00</td>\n      <td>0.07</td>\n      <td>0.07</td>\n      <td>0.07</td>\n      <td>0.07</td>\n    </tr>\n    <tr>\n      <th>1</th>\n      <td>AALR3</td>\n      <td>AALR</td>\n      <td>13.37</td>\n      <td>2019-06-10</td>\n      <td>1</td>\n      <td>0</td>\n      <td>0</td>\n      <td>0</td>\n      <td>0</td>\n      <td>0</td>\n      <td>...</td>\n      <td>0.07</td>\n      <td>0.07</td>\n      <td>0.00</td>\n      <td>0.00</td>\n      <td>0.00</td>\n      <td>0.00</td>\n      <td>0.07</td>\n      <td>0.07</td>\n      <td>0.07</td>\n      <td>0.07</td>\n    </tr>\n    <tr>\n      <th>2</th>\n      <td>AALR3</td>\n      <td>AALR</td>\n      <td>13.90</td>\n      <td>2019-06-11</td>\n      <td>1</td>\n      <td>0</td>\n      <td>0</td>\n      <td>0</td>\n      <td>0</td>\n      <td>0</td>\n      <td>...</td>\n      <td>0.07</td>\n      <td>0.07</td>\n      <td>0.00</td>\n      <td>0.00</td>\n      <td>0.00</td>\n      <td>0.00</td>\n      <td>0.07</td>\n      <td>0.07</td>\n      <td>0.07</td>\n      <td>0.07</td>\n    </tr>\n    <tr>\n      <th>3</th>\n      <td>AALR3</td>\n      <td>AALR</td>\n      <td>14.00</td>\n      <td>2019-06-12</td>\n      <td>1</td>\n      <td>0</td>\n      <td>0</td>\n      <td>0</td>\n      <td>0</td>\n      <td>0</td>\n      <td>...</td>\n      <td>0.07</td>\n      <td>0.07</td>\n      <td>0.00</td>\n      <td>0.00</td>\n      <td>0.00</td>\n      <td>0.00</td>\n      <td>0.07</td>\n      <td>0.07</td>\n      <td>0.07</td>\n      <td>0.07</td>\n    </tr>\n    <tr>\n      <th>4</th>\n      <td>AALR3</td>\n      <td>AALR</td>\n      <td>13.55</td>\n      <td>2019-06-13</td>\n      <td>1</td>\n      <td>0</td>\n      <td>0</td>\n      <td>0</td>\n      <td>0</td>\n      <td>0</td>\n      <td>...</td>\n      <td>0.07</td>\n      <td>0.07</td>\n      <td>0.00</td>\n      <td>0.00</td>\n      <td>0.00</td>\n      <td>0.00</td>\n      <td>0.07</td>\n      <td>0.07</td>\n      <td>0.07</td>\n      <td>0.07</td>\n    </tr>\n  </tbody>\n</table>\n<p>5 rows × 595 columns</p>\n</div>"
     },
     "metadata": {},
     "execution_count": 6
    }
   ],
   "source": [
    "df.head()"
   ]
  },
  {
   "cell_type": "code",
   "execution_count": 10,
   "metadata": {},
   "outputs": [
    {
     "output_type": "execute_result",
     "data": {
      "text/plain": [
       "0       2019-06-07\n",
       "1       2019-06-10\n",
       "2       2019-06-11\n",
       "3       2019-06-12\n",
       "4       2019-06-13\n",
       "           ...    \n",
       "71521   2021-05-31\n",
       "71522   2021-06-01\n",
       "71523   2021-06-02\n",
       "71524   2021-06-04\n",
       "71525   2021-06-07\n",
       "Name: date, Length: 71526, dtype: datetime64[ns]"
      ]
     },
     "metadata": {},
     "execution_count": 10
    }
   ],
   "source": [
    "df['date']"
   ]
  },
  {
   "cell_type": "code",
   "execution_count": 11,
   "metadata": {},
   "outputs": [],
   "source": [
    "import numpy as np\n",
    "import pandas as pd\n",
    "import datetime as dt\n",
    "\n",
    "X_test = pd.DataFrame(np.array([\n",
    "   ['2020-01-24T00:00:00.000000000'],\n",
    "   ['2020-01-25T00:00:00.000000000'],\n",
    "   ['2020-01-26T00:00:00.000000000'],\n",
    "   ['2020-01-27T00:00:00.000000000'],\n",
    "   ['2020-01-28T00:00:00.000000000'],\n",
    "   ['2020-01-29T00:00:00.000000000'],\n",
    "   ['2020-01-30T00:00:00.000000000'],\n",
    "   ['2020-01-31T00:00:00.000000000'],\n",
    "   ['2020-02-01T00:00:00.000000000'],\n",
    "   ['2020-02-02T00:00:00.000000000']], dtype='datetime64[ns]'))\n",
    "\n",
    "X_test.columns = [\"Date\"]\n",
    "X_test['Date'] = pd.to_datetime(X_test['Date'])\n",
    "X_test['Date']=X_test['Date'].map(dt.datetime.toordinal)"
   ]
  },
  {
   "cell_type": "code",
   "execution_count": 12,
   "metadata": {},
   "outputs": [
    {
     "output_type": "execute_result",
     "data": {
      "text/plain": [
       "     Date\n",
       "0  737448\n",
       "1  737449\n",
       "2  737450\n",
       "3  737451\n",
       "4  737452\n",
       "5  737453\n",
       "6  737454\n",
       "7  737455\n",
       "8  737456\n",
       "9  737457"
      ],
      "text/html": "<div>\n<style scoped>\n    .dataframe tbody tr th:only-of-type {\n        vertical-align: middle;\n    }\n\n    .dataframe tbody tr th {\n        vertical-align: top;\n    }\n\n    .dataframe thead th {\n        text-align: right;\n    }\n</style>\n<table border=\"1\" class=\"dataframe\">\n  <thead>\n    <tr style=\"text-align: right;\">\n      <th></th>\n      <th>Date</th>\n    </tr>\n  </thead>\n  <tbody>\n    <tr>\n      <th>0</th>\n      <td>737448</td>\n    </tr>\n    <tr>\n      <th>1</th>\n      <td>737449</td>\n    </tr>\n    <tr>\n      <th>2</th>\n      <td>737450</td>\n    </tr>\n    <tr>\n      <th>3</th>\n      <td>737451</td>\n    </tr>\n    <tr>\n      <th>4</th>\n      <td>737452</td>\n    </tr>\n    <tr>\n      <th>5</th>\n      <td>737453</td>\n    </tr>\n    <tr>\n      <th>6</th>\n      <td>737454</td>\n    </tr>\n    <tr>\n      <th>7</th>\n      <td>737455</td>\n    </tr>\n    <tr>\n      <th>8</th>\n      <td>737456</td>\n    </tr>\n    <tr>\n      <th>9</th>\n      <td>737457</td>\n    </tr>\n  </tbody>\n</table>\n</div>"
     },
     "metadata": {},
     "execution_count": 12
    }
   ],
   "source": [
    "X_test"
   ]
  },
  {
   "cell_type": "code",
   "execution_count": null,
   "metadata": {},
   "outputs": [],
   "source": []
  }
 ]
}