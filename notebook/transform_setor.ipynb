{
 "metadata": {
  "language_info": {
   "codemirror_mode": {
    "name": "ipython",
    "version": 3
   },
   "file_extension": ".py",
   "mimetype": "text/x-python",
   "name": "python",
   "nbconvert_exporter": "python",
   "pygments_lexer": "ipython3",
   "version": "3.7.9"
  },
  "orig_nbformat": 4,
  "kernelspec": {
   "name": "python3",
   "display_name": "Python 3.7.9 64-bit"
  },
  "interpreter": {
   "hash": "11788d199534453b3091baa8e21d49a7afe3aaf89a016b3a09f594b82a19522e"
  }
 },
 "nbformat": 4,
 "nbformat_minor": 2,
 "cells": [
  {
   "cell_type": "code",
   "execution_count": 1,
   "metadata": {},
   "outputs": [],
   "source": [
    "import pandas as pd\n",
    "import numpy as np\n",
    "import os"
   ]
  },
  {
   "cell_type": "code",
   "execution_count": 9,
   "metadata": {},
   "outputs": [],
   "source": [
    "root_path = os.path.dirname(os.path.abspath(''))\n",
    "setor_path = os.path.join(\n",
    "    root_path, \"data\", \"df_setor.parquet\")"
   ]
  },
  {
   "cell_type": "code",
   "execution_count": 10,
   "metadata": {},
   "outputs": [],
   "source": [
    "df = pd.read_parquet(setor_path)"
   ]
  },
  {
   "cell_type": "code",
   "execution_count": 11,
   "metadata": {},
   "outputs": [
    {
     "output_type": "execute_result",
     "data": {
      "text/plain": [
       "codigo                                                             ETER\n",
       "setor.bens_industriais                                                1\n",
       "setor.comunicacoes                                                    0\n",
       "setor.consumo_ciclico                                                 0\n",
       "setor.consumo_nao_ciclico                                             0\n",
       "setor.financeiro                                                      0\n",
       "setor.materiais_basicos                                               0\n",
       "setor.petroleo_gas_e_biocombustiveis                                  0\n",
       "setor.saude                                                           0\n",
       "setor.tecnologia_da_informacao                                        0\n",
       "setor.utilidade_publica                                               0\n",
       "subsetor.agua_e_saneamento                                            0\n",
       "subsetor.automoveis_e_motocicletas                                    0\n",
       "subsetor.computadores_e_equipamentos                                  0\n",
       "subsetor.embalagens                                                   0\n",
       "subsetor.energia_eletrica                                             0\n",
       "subsetor.equipamentos                                                 0\n",
       "subsetor.exploracao_de_imoveis                                        0\n",
       "subsetor.gas                                                          0\n",
       "subsetor.holdings_diversificadas                                      0\n",
       "subsetor.materiais_diversos                                           0\n",
       "subsetor.material_de_transporte                                       0\n",
       "subsetor.medicamentos_e_outros_produtos                               0\n",
       "subsetor.outros_titulos                                               0\n",
       "subsetor.programas_e_servicos                                         0\n",
       "subsetor.securitizadoras_de_recebiveis                                0\n",
       "subsetor.servicos_diversos                                            0\n",
       "subsetor.servicos_financeiros_diversos                                0\n",
       "subsetor.servicos_medico_-_hospitalares_analises_e_diagnosticos       0\n",
       "subsetor.tecidos_vestuario_e_calcados                                 0\n",
       "subsetor.telecomunicacoes                                             0\n",
       "Name: 40, dtype: object"
      ]
     },
     "metadata": {},
     "execution_count": 11
    }
   ],
   "source": [
    "df[df['setor.bens_industriais'] == 1].iloc[0]"
   ]
  },
  {
   "cell_type": "code",
   "execution_count": null,
   "metadata": {},
   "outputs": [],
   "source": []
  }
 ]
}