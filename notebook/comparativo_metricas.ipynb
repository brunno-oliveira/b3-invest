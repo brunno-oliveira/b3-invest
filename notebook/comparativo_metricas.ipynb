{
 "cells": [
  {
   "cell_type": "code",
   "execution_count": null,
   "metadata": {},
   "outputs": [],
   "source": [
    "sem_atributos = 4.0958\n",
    "com_atributos = 3.3716\n",
    "\n",
    "print(\"sem_atributos < com_atributos\")\n",
    "print(round((sem_atributos / com_atributos -1) * 100, 2))"
   ]
  }
 ],
 "metadata": {
  "kernelspec": {
   "display_name": "Python 3.7.9 64-bit",
   "language": "python",
   "name": "python3"
  },
  "language_info": {
   "codemirror_mode": {
    "name": "ipython",
    "version": 3
   },
   "file_extension": ".py",
   "mimetype": "text/x-python",
   "name": "python",
   "nbconvert_exporter": "python",
   "pygments_lexer": "ipython3",
   "version": "3.7.9"
  },
  "orig_nbformat": 4,
  "vscode": {
   "interpreter": {
    "hash": "3581cd6e7b8387b073d9d0e753ae4dad4f3c9c1cf6afad5b5fc8cbbfa24b6d55"
   }
  }
 },
 "nbformat": 4,
 "nbformat_minor": 2
}
