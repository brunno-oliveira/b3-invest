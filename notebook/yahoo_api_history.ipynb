{
 "cells": [
  {
   "cell_type": "code",
   "execution_count": 1,
   "source": [
    "import yfinance as yf\r\n",
    "import pandas as pd\r\n",
    "from datetime import datetime\r\n",
    "from dateutil.relativedelta import relativedelta"
   ],
   "outputs": [],
   "metadata": {}
  },
  {
   "cell_type": "code",
   "execution_count": 2,
   "source": [
    "start_date = datetime(2021, 6, 29).date()\r\n",
    "end_date = datetime(2021, 8, 7).date()\r\n",
    "dias_uteis_em_um_ano = 254"
   ],
   "outputs": [],
   "metadata": {}
  },
  {
   "cell_type": "code",
   "execution_count": 3,
   "source": [
    "#GEPA3\r\n",
    "#CGAS3\r\n",
    "#GEPA3\r\n",
    "ticker = 'AALR3'\r\n",
    "df_history = yf.download(\r\n",
    "    tickers=f\"{ticker}.SA\", start=str(start_date), end=str(end_date)\r\n",
    ")"
   ],
   "outputs": [
    {
     "output_type": "stream",
     "name": "stdout",
     "text": [
      "[*********************100%***********************]  1 of 1 completed\n"
     ]
    }
   ],
   "metadata": {}
  },
  {
   "cell_type": "code",
   "execution_count": 4,
   "source": [
    "df_history = df_history.reset_index()"
   ],
   "outputs": [],
   "metadata": {}
  },
  {
   "cell_type": "code",
   "execution_count": 6,
   "source": [
    "df_history['Date'].max()"
   ],
   "outputs": [
    {
     "output_type": "execute_result",
     "data": {
      "text/plain": [
       "Timestamp('2021-08-06 00:00:00')"
      ]
     },
     "metadata": {},
     "execution_count": 6
    }
   ],
   "metadata": {}
  },
  {
   "cell_type": "code",
   "execution_count": null,
   "source": [],
   "outputs": [],
   "metadata": {}
  }
 ],
 "metadata": {
  "orig_nbformat": 4,
  "language_info": {
   "name": "python",
   "version": "3.7.9",
   "mimetype": "text/x-python",
   "codemirror_mode": {
    "name": "ipython",
    "version": 3
   },
   "pygments_lexer": "ipython3",
   "nbconvert_exporter": "python",
   "file_extension": ".py"
  },
  "kernelspec": {
   "name": "python3",
   "display_name": "Python 3.7.9 64-bit"
  },
  "interpreter": {
   "hash": "11788d199534453b3091baa8e21d49a7afe3aaf89a016b3a09f594b82a19522e"
  }
 },
 "nbformat": 4,
 "nbformat_minor": 2
}